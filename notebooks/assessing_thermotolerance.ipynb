{
 "cells": [
  {
   "cell_type": "markdown",
   "id": "9bcd179d-fa6a-4452-9797-5e88c5d229d7",
   "metadata": {},
   "source": [
    "# Assessing species thermotolerance\n",
    "In this notebook, we'll explore the use of APIs for accessing climate and species occurrence data to automate the determination of whether a species is thermotolerant."
   ]
  },
  {
   "cell_type": "code",
   "execution_count": 1,
   "id": "105acf38-d211-45ca-a25f-fe60e6cf3116",
   "metadata": {},
   "outputs": [],
   "source": [
    "import pandas as pd\n",
    "import requests\n",
    "import json\n",
    "import io\n",
    "import sys\n",
    "sys.path.append('../utils/')\n",
    "from functions_query_from_species_list import *"
   ]
  },
  {
   "cell_type": "markdown",
   "id": "e647c6b2-68e7-4963-a1ae-ccb36cd7074e",
   "metadata": {},
   "source": [
    "## Reading in our species list"
   ]
  },
  {
   "cell_type": "code",
   "execution_count": 42,
   "id": "cd229c63-72e2-4607-b9fe-084ad96c2dcc",
   "metadata": {},
   "outputs": [
    {
     "data": {
      "text/html": [
       "<div>\n",
       "<style scoped>\n",
       "    .dataframe tbody tr th:only-of-type {\n",
       "        vertical-align: middle;\n",
       "    }\n",
       "\n",
       "    .dataframe tbody tr th {\n",
       "        vertical-align: top;\n",
       "    }\n",
       "\n",
       "    .dataframe thead th {\n",
       "        text-align: right;\n",
       "    }\n",
       "</style>\n",
       "<table border=\"1\" class=\"dataframe\">\n",
       "  <thead>\n",
       "    <tr style=\"text-align: right;\">\n",
       "      <th></th>\n",
       "      <th>abbreviated_species</th>\n",
       "      <th>species_gbif</th>\n",
       "      <th>species</th>\n",
       "      <th>common_name</th>\n",
       "      <th>original_source</th>\n",
       "      <th>thermotolerance</th>\n",
       "      <th>reference</th>\n",
       "      <th>notes</th>\n",
       "    </tr>\n",
       "  </thead>\n",
       "  <tbody>\n",
       "    <tr>\n",
       "      <th>0</th>\n",
       "      <td>A. americanus</td>\n",
       "      <td>Acorus americanus</td>\n",
       "      <td>Acorus americanus</td>\n",
       "      <td>NaN</td>\n",
       "      <td>phytozome</td>\n",
       "      <td>NaN</td>\n",
       "      <td>NaN</td>\n",
       "      <td>NaN</td>\n",
       "    </tr>\n",
       "    <tr>\n",
       "      <th>1</th>\n",
       "      <td>A. tequilanavar</td>\n",
       "      <td>Agave tequilana</td>\n",
       "      <td>Agave tequilana</td>\n",
       "      <td>NaN</td>\n",
       "      <td>phytozome</td>\n",
       "      <td>NaN</td>\n",
       "      <td>NaN</td>\n",
       "      <td>NaN</td>\n",
       "    </tr>\n",
       "    <tr>\n",
       "      <th>2</th>\n",
       "      <td>A. officinalis</td>\n",
       "      <td>Althaea officinalis</td>\n",
       "      <td>Althaea officinalis</td>\n",
       "      <td>marsh-mallow</td>\n",
       "      <td>phytozome</td>\n",
       "      <td>NaN</td>\n",
       "      <td>NaN</td>\n",
       "      <td>NaN</td>\n",
       "    </tr>\n",
       "    <tr>\n",
       "      <th>3</th>\n",
       "      <td>A. linifolium</td>\n",
       "      <td>Alyssum linifolium</td>\n",
       "      <td>Alyssum linifolium</td>\n",
       "      <td>NaN</td>\n",
       "      <td>phytozome</td>\n",
       "      <td>NaN</td>\n",
       "      <td>NaN</td>\n",
       "      <td>NaN</td>\n",
       "    </tr>\n",
       "    <tr>\n",
       "      <th>4</th>\n",
       "      <td>A. hypochondriacus</td>\n",
       "      <td>Amaranthus hypochondriacus</td>\n",
       "      <td>Amaranthus hypochondriacus</td>\n",
       "      <td>NaN</td>\n",
       "      <td>phytozome</td>\n",
       "      <td>NaN</td>\n",
       "      <td>NaN</td>\n",
       "      <td>NaN</td>\n",
       "    </tr>\n",
       "  </tbody>\n",
       "</table>\n",
       "</div>"
      ],
      "text/plain": [
       "  abbreviated_species                species_gbif                     species  \\\n",
       "0       A. americanus           Acorus americanus           Acorus americanus   \n",
       "1     A. tequilanavar            Agave tequilana             Agave tequilana    \n",
       "2      A. officinalis         Althaea officinalis         Althaea officinalis   \n",
       "3       A. linifolium          Alyssum linifolium          Alyssum linifolium   \n",
       "4  A. hypochondriacus  Amaranthus hypochondriacus  Amaranthus hypochondriacus   \n",
       "\n",
       "    common_name original_source thermotolerance  reference notes  \n",
       "0           NaN       phytozome             NaN        NaN   NaN  \n",
       "1           NaN       phytozome             NaN        NaN   NaN  \n",
       "2  marsh-mallow       phytozome             NaN        NaN   NaN  \n",
       "3           NaN       phytozome             NaN        NaN   NaN  \n",
       "4           NaN       phytozome             NaN        NaN   NaN  "
      ]
     },
     "execution_count": 42,
     "metadata": {},
     "output_type": "execute_result"
    }
   ],
   "source": [
    "species = pd.read_csv('../data/species_info_full.csv')\n",
    "species.head()"
   ]
  },
  {
   "cell_type": "markdown",
   "id": "6a809f6e-0343-44ee-98a7-fcf2383e7a61",
   "metadata": {},
   "source": [
    "## Getting occurrence data\n",
    "To do this, we'll use the [GBIF](https://www.gbif.org/) database's [python package](https://pygbif.readthedocs.io/en/latest/index.html). Specifically, we'll follow the example [on this page](https://data-blog.gbif.org/post/downloading-long-species-lists-on-gbif/) to get the lat/lon for species records."
   ]
  },
  {
   "cell_type": "markdown",
   "id": "39bb33a2-2d44-4b96-a195-edb017a0ec31",
   "metadata": {},
   "source": [
    "First, we need to match the taxon names from our dataframe with the numeric keys usd by GBIF. We'll filter to only keep exact matches, and then quantify how many of our species were successfully matched."
   ]
  },
  {
   "cell_type": "code",
   "execution_count": 43,
   "id": "427c7ce0-2000-4754-b34b-321795d533ea",
   "metadata": {},
   "outputs": [],
   "source": [
    "taxon_keys = match_species(species, nameCol=\"species_gbif\")"
   ]
  },
  {
   "cell_type": "code",
   "execution_count": 44,
   "id": "4731d137-9e86-4289-8602-f7547c4146e2",
   "metadata": {},
   "outputs": [
    {
     "name": "stdout",
     "output_type": "stream",
     "text": [
      "Species Agave tequilana  (input name Agave tequilana ) does not have a numeric key\n",
      "Species Beta vulgaris subsp. vulgaris (input name Beta vulgaris) does not have a numeric key\n",
      "Species Brassica oleracea var. capitata (input name Brassica oleracea) does not have a numeric key\n",
      "Species Camelina sativa var. DH55 (input name Camelina sativa) does not have a numeric key\n",
      "Species Corylus americana var. rush (input name Corylus americana) does not have a numeric key\n",
      "Species Populus nigra x maximowiczii (input name Populus nigra) does not have a numeric key\n",
      "Species Populus tremula x Populus alba (input name Populus tremula) does not have a numeric key\n",
      "Species Saccharum officinarum x spontaneum (input name Saccharum officinarum) does not have a numeric key\n",
      "Species Ziziphus spina christi (input name Ziziphus spina) does not have a numeric key\n",
      "\n",
      "\n",
      "There are 152 confident keys, 3 ambiguous keys, and 9 missing keys. The first key for ambiguous species was arbitrarily chosen.\n"
     ]
    }
   ],
   "source": [
    "taxon_keys_filtered = taxon_keys[(taxon_keys['matchType'] == 'EXACT') & (taxon_keys['status'] != 'DOUBTFUL')]\n",
    "num_confident = 0\n",
    "num_missing = 0\n",
    "num_ambiguous = 0\n",
    "for sp in species.species:\n",
    "    num_keys = len(taxon_keys_filtered[taxon_keys_filtered[\"canonicalName\"] == sp])\n",
    "    input_name = species[species.species == sp].species_gbif.values[0]\n",
    "    if num_keys == 0:\n",
    "        num_missing += 1\n",
    "        print(f'Species {sp} (input name {input_name}) does not have a numeric key')\n",
    "    elif num_keys == 1:\n",
    "        num_confident += 1\n",
    "    elif num_keys > 1:\n",
    "        statuses = taxon_keys_filtered[taxon_keys_filtered[\"canonicalName\"] == sp].status.tolist()\n",
    "        if 'ACCEPTED' not in statuses:\n",
    "            num_ambiguous += 1\n",
    "            # Choose the first one if they're all listed as synonyms\n",
    "            to_drop = taxon_keys_filtered[taxon_keys_filtered[\"canonicalName\"] == sp].index.tolist()[1:]\n",
    "            taxon_keys_filtered = taxon_keys_filtered.drop(to_drop)\n",
    "        else:\n",
    "            # Keep only the accepted key\n",
    "            to_drop = taxon_keys_filtered[(taxon_keys_filtered['canonicalName'] == sp) & ~(taxon_keys_filtered['status'] == 'ACCEPTED')].index\n",
    "            taxon_keys_filtered = taxon_keys_filtered.drop(to_drop)\n",
    "            num_confident += 1\n",
    "print(f'\\n\\nThere are {num_confident} confident keys, {num_ambiguous} ambiguous keys, and {num_missing} missing keys. The first key for ambiguous species was arbitrarily chosen.')"
   ]
  },
  {
   "cell_type": "markdown",
   "id": "3be7ff5a-c02a-4d92-8a19-babf7882f3a2",
   "metadata": {},
   "source": [
    "Now we need to formulate and make the API request to get the location data for the species with keys."
   ]
  },
  {
   "cell_type": "code",
   "execution_count": 45,
   "id": "aadca5eb-f869-4e21-9975-4dc3c6e70443",
   "metadata": {},
   "outputs": [
    {
     "name": "stdout",
     "output_type": "stream",
     "text": [
      "<Response [401]>\n"
     ]
    },
    {
     "data": {
      "text/plain": [
       "<Response [401]>"
      ]
     },
     "execution_count": 45,
     "metadata": {},
     "output_type": "execute_result"
    }
   ],
   "source": [
    "key_list = taxon_keys_filtered.usageKey.tolist()\n",
    "login = \"\"\n",
    "password = \"\"\n",
    "# Make download query\n",
    "download_query = {}\n",
    "download_query[\"creator\"] = \"\"\n",
    "download_query[\"notificationAddresses\"] = [\"\"]\n",
    "download_query[\"sendNotification\"] = False # if set to be True, don't forget to add a notificationAddresses above\n",
    "download_query[\"format\"] = \"SIMPLE_CSV\"\n",
    "download_query[\"predicate\"] = {\n",
    "    \"type\": \"in\",\n",
    "    \"key\": \"TAXON_KEY\",\n",
    "    \"values\": key_list\n",
    "}\n",
    "# Generate download\n",
    "create_download_given_query(login, password, download_query)"
   ]
  },
  {
   "cell_type": "code",
   "execution_count": 31,
   "id": "a1e82cfb-002f-4bcd-b8f2-c95f5c649a79",
   "metadata": {},
   "outputs": [
    {
     "name": "stdout",
     "output_type": "stream",
     "text": [
      "<Response [401]>\n"
     ]
    },
    {
     "data": {
      "text/plain": [
       "{'_content': b'',\n",
       " '_content_consumed': True,\n",
       " '_next': None,\n",
       " 'status_code': 401,\n",
       " 'headers': {'Vary': 'Origin, Access-Control-Request-Method, Access-Control-Request-Headers', 'X-Content-Type-Options': 'nosniff', 'X-XSS-Protection': '0', 'Pragma': 'no-cache', 'Expires': '0', 'X-Frame-Options': 'DENY', 'Content-Length': '0', 'Date': 'Tue, 29 Jul 2025 18:49:16 GMT', 'Cache-Control': 'no-cache, no-store, must-revalidate', 'X-Varnish': '846922285', 'Age': '0', 'Via': '1.1 varnish (Varnish/6.6)', 'Connection': 'keep-alive'},\n",
       " 'raw': <urllib3.response.HTTPResponse at 0x7f1fe624cdc0>,\n",
       " 'url': 'http://api.gbif.org/v1/occurrence/download/request',\n",
       " 'encoding': None,\n",
       " 'history': [],\n",
       " 'reason': 'Unauthorized',\n",
       " 'cookies': <RequestsCookieJar[]>,\n",
       " 'elapsed': datetime.timedelta(microseconds=273799),\n",
       " 'request': <PreparedRequest [POST]>,\n",
       " 'connection': <requests.adapters.HTTPAdapter at 0x7f1fe6212aa0>}"
      ]
     },
     "execution_count": 31,
     "metadata": {},
     "output_type": "execute_result"
    }
   ],
   "source": [
    "create_download_given_query(login, password, download_query).__dict__"
   ]
  },
  {
   "cell_type": "code",
   "execution_count": 29,
   "id": "4ded291f-3eea-4e08-b0be-b67ea8f811c0",
   "metadata": {},
   "outputs": [
    {
     "data": {
      "text/plain": [
       "{'creator': '',\n",
       " 'notificationAddresses': [''],\n",
       " 'sendNotification': False,\n",
       " 'format': 'SIMPLE_CSV',\n",
       " 'predicate': {'type': 'in',\n",
       "  'key': 'TAXON_KEY',\n",
       "  'values': [7795888,\n",
       "   2930137,\n",
       "   5285951,\n",
       "   3133927,\n",
       "   3045203,\n",
       "   7499732,\n",
       "   5290143,\n",
       "   7219519,\n",
       "   7068845,\n",
       "   5372392,\n",
       "   8324121,\n",
       "   3052680,\n",
       "   3934083,\n",
       "   7560481,\n",
       "   5290052,\n",
       "   2926379,\n",
       "   2982583,\n",
       "   5359660,\n",
       "   3052436,\n",
       "   3084711,\n",
       "   5375920,\n",
       "   2949728,\n",
       "   5341297,\n",
       "   2651591,\n",
       "   5373124,\n",
       "   2705081,\n",
       "   5415040,\n",
       "   5350523,\n",
       "   3933330,\n",
       "   5289698,\n",
       "   2594602,\n",
       "   3152666,\n",
       "   4097481,\n",
       "   2964167,\n",
       "   3043392,\n",
       "   5823097,\n",
       "   5281381,\n",
       "   4142653,\n",
       "   5350466,\n",
       "   2704161,\n",
       "   5357027,\n",
       "   5418431,\n",
       "   5373475,\n",
       "   2972043,\n",
       "   5421389,\n",
       "   3933091,\n",
       "   7911813,\n",
       "   2974832,\n",
       "   4932035,\n",
       "   2703316,\n",
       "   5353583,\n",
       "   2965280,\n",
       "   5361880,\n",
       "   2895345,\n",
       "   8149923,\n",
       "   2863967,\n",
       "   5288819,\n",
       "   6026968,\n",
       "   2754476,\n",
       "   2669001,\n",
       "   3152205,\n",
       "   3001244,\n",
       "   3040232,\n",
       "   2705116,\n",
       "   2775744,\n",
       "   3049314,\n",
       "   2706056,\n",
       "   2985993,\n",
       "   10961835,\n",
       "   2888380,\n",
       "   2880539,\n",
       "   5286267,\n",
       "   3667902,\n",
       "   3152520,\n",
       "   2927004,\n",
       "   2639377,\n",
       "   5373324,\n",
       "   3152861,\n",
       "   5333230,\n",
       "   3047811,\n",
       "   5333237,\n",
       "   3048831,\n",
       "   7959676,\n",
       "   5836522,\n",
       "   5289684,\n",
       "   4150651,\n",
       "   2874484,\n",
       "   2687984,\n",
       "   2642020,\n",
       "   3906623,\n",
       "   5353770,\n",
       "   9206251,\n",
       "   3053144,\n",
       "   8082975,\n",
       "   3758958,\n",
       "   8103486,\n",
       "   5580727,\n",
       "   6109699,\n",
       "   2925403]}}"
      ]
     },
     "execution_count": 29,
     "metadata": {},
     "output_type": "execute_result"
    }
   ],
   "source": [
    "download_query"
   ]
  },
  {
   "cell_type": "code",
   "execution_count": 11,
   "id": "76632fd2-6032-49fd-ade6-829d1891b6cc",
   "metadata": {},
   "outputs": [],
   "source": [
    "splist = ['Cyanocitta stelleri', 'Junco hyemalis', 'Aix sponsa',\n",
    "  'Ursus americanus', 'Pinus conorta', 'Poa annuus']\n",
    "keys = [ species.name_backbone(x)['usageKey'] for x in splist ]"
   ]
  },
  {
   "cell_type": "code",
   "execution_count": 4,
   "id": "4b5f5427-11b1-422e-801a-6d9a8b96bf08",
   "metadata": {},
   "outputs": [
    {
     "data": {
      "text/plain": [
       "[2482598, 9362842, 2498387, 2433407, 5285750, 2704179]"
      ]
     },
     "execution_count": 4,
     "metadata": {},
     "output_type": "execute_result"
    }
   ],
   "source": [
    "keys"
   ]
  },
  {
   "cell_type": "code",
   "execution_count": 7,
   "id": "744ae1b0-808f-4080-9931-05952214eb49",
   "metadata": {},
   "outputs": [],
   "source": [
    "out = [ occ.search(taxonKey = x, limit=0) for x in keys ]"
   ]
  },
  {
   "cell_type": "code",
   "execution_count": 18,
   "id": "b083877b-8f70-4fb0-9c5c-ffad0177598b",
   "metadata": {},
   "outputs": [
    {
     "ename": "HTTPError",
     "evalue": "404 Client Error: Not Found for url: https://api.gbif.org/v1/occurrence/3329049",
     "output_type": "error",
     "traceback": [
      "\u001b[0;31m---------------------------------------------------------------------------\u001b[0m",
      "\u001b[0;31mHTTPError\u001b[0m                                 Traceback (most recent call last)",
      "Cell \u001b[0;32mIn[18], line 3\u001b[0m\n\u001b[1;32m      1\u001b[0m \u001b[38;5;28;01mfrom\u001b[39;00m\u001b[38;5;250m \u001b[39m\u001b[38;5;21;01mpygbif\u001b[39;00m\u001b[38;5;250m \u001b[39m\u001b[38;5;28;01mimport\u001b[39;00m occurrences \u001b[38;5;28;01mas\u001b[39;00m occ\n\u001b[1;32m      2\u001b[0m occ\u001b[38;5;241m.\u001b[39msearch(taxonKey \u001b[38;5;241m=\u001b[39m \u001b[38;5;241m3329049\u001b[39m)\n\u001b[0;32m----> 3\u001b[0m \u001b[43mocc\u001b[49m\u001b[38;5;241;43m.\u001b[39;49m\u001b[43mget\u001b[49m\u001b[43m(\u001b[49m\u001b[43mkey\u001b[49m\u001b[43m \u001b[49m\u001b[38;5;241;43m=\u001b[39;49m\u001b[43m \u001b[49m\u001b[38;5;241;43m3329049\u001b[39;49m\u001b[43m)\u001b[49m\n\u001b[1;32m      4\u001b[0m occ\u001b[38;5;241m.\u001b[39mcount(isGeoreferenced \u001b[38;5;241m=\u001b[39m \u001b[38;5;28;01mTrue\u001b[39;00m)\n\u001b[1;32m      5\u001b[0m occ\u001b[38;5;241m.\u001b[39mdownload(\u001b[38;5;124m'\u001b[39m\u001b[38;5;124mbasisOfRecord = PRESERVED_SPECIMEN\u001b[39m\u001b[38;5;124m'\u001b[39m)\n",
      "File \u001b[0;32m~/.conda/envs/omics/lib/python3.10/site-packages/pygbif/occurrences/get.py:20\u001b[0m, in \u001b[0;36mget\u001b[0;34m(key, **kwargs)\u001b[0m\n\u001b[1;32m      5\u001b[0m \u001b[38;5;250m\u001b[39m\u001b[38;5;124;03m\"\"\"\u001b[39;00m\n\u001b[1;32m      6\u001b[0m \u001b[38;5;124;03mGets details for a single, interpreted occurrence\u001b[39;00m\n\u001b[1;32m      7\u001b[0m \n\u001b[0;32m   (...)\u001b[0m\n\u001b[1;32m     17\u001b[0m \u001b[38;5;124;03m    occurrences.get(key = 1227769518)\u001b[39;00m\n\u001b[1;32m     18\u001b[0m \u001b[38;5;124;03m\"\"\"\u001b[39;00m\n\u001b[1;32m     19\u001b[0m url \u001b[38;5;241m=\u001b[39m gbif_baseurl \u001b[38;5;241m+\u001b[39m \u001b[38;5;124m\"\u001b[39m\u001b[38;5;124moccurrence/\u001b[39m\u001b[38;5;124m\"\u001b[39m \u001b[38;5;241m+\u001b[39m \u001b[38;5;28mstr\u001b[39m(key)\n\u001b[0;32m---> 20\u001b[0m out \u001b[38;5;241m=\u001b[39m \u001b[43mgbif_GET\u001b[49m\u001b[43m(\u001b[49m\u001b[43murl\u001b[49m\u001b[43m,\u001b[49m\u001b[43m \u001b[49m\u001b[43m{\u001b[49m\u001b[43m}\u001b[49m\u001b[43m,\u001b[49m\u001b[43m \u001b[49m\u001b[38;5;241;43m*\u001b[39;49m\u001b[38;5;241;43m*\u001b[39;49m\u001b[43mkwargs\u001b[49m\u001b[43m)\u001b[49m\n\u001b[1;32m     21\u001b[0m \u001b[38;5;28;01mreturn\u001b[39;00m out\n",
      "File \u001b[0;32m~/.conda/envs/omics/lib/python3.10/site-packages/pygbif/gbifutils.py:34\u001b[0m, in \u001b[0;36mgbif_GET\u001b[0;34m(url, args, **kwargs)\u001b[0m\n\u001b[1;32m     32\u001b[0m \u001b[38;5;28;01mdef\u001b[39;00m\u001b[38;5;250m \u001b[39m\u001b[38;5;21mgbif_GET\u001b[39m(url, args, \u001b[38;5;241m*\u001b[39m\u001b[38;5;241m*\u001b[39mkwargs):\n\u001b[1;32m     33\u001b[0m     out \u001b[38;5;241m=\u001b[39m requests\u001b[38;5;241m.\u001b[39mget(url, params\u001b[38;5;241m=\u001b[39margs, headers\u001b[38;5;241m=\u001b[39mmake_ua(), \u001b[38;5;241m*\u001b[39m\u001b[38;5;241m*\u001b[39mkwargs)\n\u001b[0;32m---> 34\u001b[0m     \u001b[43mout\u001b[49m\u001b[38;5;241;43m.\u001b[39;49m\u001b[43mraise_for_status\u001b[49m\u001b[43m(\u001b[49m\u001b[43m)\u001b[49m\n\u001b[1;32m     35\u001b[0m     stopifnot(out\u001b[38;5;241m.\u001b[39mheaders[\u001b[38;5;124m\"\u001b[39m\u001b[38;5;124mcontent-type\u001b[39m\u001b[38;5;124m\"\u001b[39m])\n\u001b[1;32m     36\u001b[0m     \u001b[38;5;28;01mreturn\u001b[39;00m out\u001b[38;5;241m.\u001b[39mjson()\n",
      "File \u001b[0;32m~/.conda/envs/omics/lib/python3.10/site-packages/requests/models.py:1024\u001b[0m, in \u001b[0;36mResponse.raise_for_status\u001b[0;34m(self)\u001b[0m\n\u001b[1;32m   1019\u001b[0m     http_error_msg \u001b[38;5;241m=\u001b[39m (\n\u001b[1;32m   1020\u001b[0m         \u001b[38;5;124mf\u001b[39m\u001b[38;5;124m\"\u001b[39m\u001b[38;5;132;01m{\u001b[39;00m\u001b[38;5;28mself\u001b[39m\u001b[38;5;241m.\u001b[39mstatus_code\u001b[38;5;132;01m}\u001b[39;00m\u001b[38;5;124m Server Error: \u001b[39m\u001b[38;5;132;01m{\u001b[39;00mreason\u001b[38;5;132;01m}\u001b[39;00m\u001b[38;5;124m for url: \u001b[39m\u001b[38;5;132;01m{\u001b[39;00m\u001b[38;5;28mself\u001b[39m\u001b[38;5;241m.\u001b[39murl\u001b[38;5;132;01m}\u001b[39;00m\u001b[38;5;124m\"\u001b[39m\n\u001b[1;32m   1021\u001b[0m     )\n\u001b[1;32m   1023\u001b[0m \u001b[38;5;28;01mif\u001b[39;00m http_error_msg:\n\u001b[0;32m-> 1024\u001b[0m     \u001b[38;5;28;01mraise\u001b[39;00m HTTPError(http_error_msg, response\u001b[38;5;241m=\u001b[39m\u001b[38;5;28mself\u001b[39m)\n",
      "\u001b[0;31mHTTPError\u001b[0m: 404 Client Error: Not Found for url: https://api.gbif.org/v1/occurrence/3329049"
     ]
    }
   ],
   "source": [
    "from pygbif import occurrences as occ\n",
    "occ.search(taxonKey = 3329049)\n",
    "occ.get(key = 3329049)\n",
    "occ.count(isGeoreferenced = True)\n",
    "occ.download('basisOfRecord = PRESERVED_SPECIMEN')\n",
    "occ.download('taxonKey = 3119195')\n",
    "occ.download('decimalLatitude > 50')\n",
    "occ.download_list(user = \"sckott\", limit = 5)\n",
    "occ.download_meta(key = \"0000099-140929101555934\")\n",
    "occ.download_get(\"0000066-140928181241064\")\n",
    "occ.download_citation(\"0002526-241107131044228\")\n",
    "occ.download_describe(\"simpleCsv\")\n",
    "occ.download_sql(\"SELECT gbifid,countryCode FROM occurrence WHERE genusKey = 2435098\")"
   ]
  },
  {
   "cell_type": "code",
   "execution_count": null,
   "id": "9b8642e4-be63-40a3-9578-1f1c9d88e654",
   "metadata": {},
   "outputs": [],
   "source": []
  }
 ],
 "metadata": {
  "kernelspec": {
   "display_name": "omics",
   "language": "python",
   "name": "omics"
  },
  "language_info": {
   "codemirror_mode": {
    "name": "ipython",
    "version": 3
   },
   "file_extension": ".py",
   "mimetype": "text/x-python",
   "name": "python",
   "nbconvert_exporter": "python",
   "pygments_lexer": "ipython3",
   "version": "3.10.14"
  }
 },
 "nbformat": 4,
 "nbformat_minor": 5
}
