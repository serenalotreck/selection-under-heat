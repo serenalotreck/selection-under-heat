{
 "cells": [
  {
   "cell_type": "markdown",
   "id": "e5f5d334-e07d-45c4-8d02-d7f3cc37e8ae",
   "metadata": {},
   "source": [
    "# Species wrangling\n",
    "In this notebook, I'll combine some information about which species we're interested in using for this project (from manually created spreadsheets) and find sources for genomes/transcriptomes for those we don't already have."
   ]
  },
  {
   "cell_type": "code",
   "execution_count": 1,
   "id": "54fba714-681f-473e-a63c-4298986623e1",
   "metadata": {},
   "outputs": [
    {
     "name": "stderr",
     "output_type": "stream",
     "text": [
      "/mnt/home/lotrecks/.conda/envs/omics/lib/python3.10/site-packages/pysradb/utils.py:14: TqdmExperimentalWarning: Using `tqdm.autonotebook.tqdm` in notebook mode. Use `tqdm.tqdm` instead to force console mode (e.g. in jupyter console)\n",
      "  from tqdm.autonotebook import tqdm\n"
     ]
    }
   ],
   "source": [
    "import pandas as pd\n",
    "from os import listdir\n",
    "from os.path import isfile, exists\n",
    "from openpyxl import load_workbook\n",
    "from collections import defaultdict, Counter\n",
    "import numpy as np\n",
    "from pysradb.sraweb import SRAweb\n",
    "from tqdm import tqdm\n",
    "import subprocess"
   ]
  },
  {
   "cell_type": "code",
   "execution_count": 38,
   "id": "ad48a310-ea74-401d-a09b-d3ca64bdacb5",
   "metadata": {},
   "outputs": [],
   "source": [
    "run_date = '18Sep2025'"
   ]
  },
  {
   "cell_type": "markdown",
   "id": "17a50a75-d69a-4ecd-b6bb-19ad1c05a603",
   "metadata": {
    "jp-MarkdownHeadingCollapsed": true
   },
   "source": [
    "## Reading in the data"
   ]
  },
  {
   "cell_type": "code",
   "execution_count": 13,
   "id": "102a9dc6-85fa-451d-ac48-3a01762bcdc1",
   "metadata": {},
   "outputs": [
    {
     "data": {
      "text/html": [
       "<div>\n",
       "<style scoped>\n",
       "    .dataframe tbody tr th:only-of-type {\n",
       "        vertical-align: middle;\n",
       "    }\n",
       "\n",
       "    .dataframe tbody tr th {\n",
       "        vertical-align: top;\n",
       "    }\n",
       "\n",
       "    .dataframe thead th {\n",
       "        text-align: right;\n",
       "    }\n",
       "</style>\n",
       "<table border=\"1\" class=\"dataframe\">\n",
       "  <thead>\n",
       "    <tr style=\"text-align: right;\">\n",
       "      <th></th>\n",
       "      <th>abbreviated_species</th>\n",
       "      <th>species_gbif</th>\n",
       "      <th>species</th>\n",
       "      <th>common_name</th>\n",
       "      <th>has_genome</th>\n",
       "      <th>has_transcriptome</th>\n",
       "      <th>original_source</th>\n",
       "      <th>thermotolerance</th>\n",
       "      <th>reference</th>\n",
       "      <th>notes</th>\n",
       "    </tr>\n",
       "  </thead>\n",
       "  <tbody>\n",
       "    <tr>\n",
       "      <th>0</th>\n",
       "      <td>A. americanus</td>\n",
       "      <td>Acorus americanus</td>\n",
       "      <td>Acorus americanus</td>\n",
       "      <td>NaN</td>\n",
       "      <td>NaN</td>\n",
       "      <td>NaN</td>\n",
       "      <td>phytozome</td>\n",
       "      <td>NaN</td>\n",
       "      <td>NaN</td>\n",
       "      <td>NaN</td>\n",
       "    </tr>\n",
       "    <tr>\n",
       "      <th>1</th>\n",
       "      <td>A. tequilanavar</td>\n",
       "      <td>Agave tequilana</td>\n",
       "      <td>Agave tequilana</td>\n",
       "      <td>NaN</td>\n",
       "      <td>NaN</td>\n",
       "      <td>NaN</td>\n",
       "      <td>phytozome</td>\n",
       "      <td>NaN</td>\n",
       "      <td>NaN</td>\n",
       "      <td>NaN</td>\n",
       "    </tr>\n",
       "    <tr>\n",
       "      <th>2</th>\n",
       "      <td>A. officinalis</td>\n",
       "      <td>Althaea officinalis</td>\n",
       "      <td>Althaea officinalis</td>\n",
       "      <td>marsh-mallow</td>\n",
       "      <td>NaN</td>\n",
       "      <td>NaN</td>\n",
       "      <td>phytozome</td>\n",
       "      <td>NaN</td>\n",
       "      <td>NaN</td>\n",
       "      <td>NaN</td>\n",
       "    </tr>\n",
       "    <tr>\n",
       "      <th>3</th>\n",
       "      <td>A. linifolium</td>\n",
       "      <td>Alyssum linifolium</td>\n",
       "      <td>Alyssum linifolium</td>\n",
       "      <td>NaN</td>\n",
       "      <td>NaN</td>\n",
       "      <td>NaN</td>\n",
       "      <td>phytozome</td>\n",
       "      <td>NaN</td>\n",
       "      <td>NaN</td>\n",
       "      <td>NaN</td>\n",
       "    </tr>\n",
       "    <tr>\n",
       "      <th>4</th>\n",
       "      <td>A. hypochondriacus</td>\n",
       "      <td>Amaranthus hypochondriacus</td>\n",
       "      <td>Amaranthus hypochondriacus</td>\n",
       "      <td>NaN</td>\n",
       "      <td>NaN</td>\n",
       "      <td>NaN</td>\n",
       "      <td>phytozome</td>\n",
       "      <td>NaN</td>\n",
       "      <td>NaN</td>\n",
       "      <td>NaN</td>\n",
       "    </tr>\n",
       "  </tbody>\n",
       "</table>\n",
       "</div>"
      ],
      "text/plain": [
       "  abbreviated_species                species_gbif                     species  \\\n",
       "0       A. americanus           Acorus americanus           Acorus americanus   \n",
       "1     A. tequilanavar            Agave tequilana             Agave tequilana    \n",
       "2      A. officinalis         Althaea officinalis         Althaea officinalis   \n",
       "3       A. linifolium          Alyssum linifolium          Alyssum linifolium   \n",
       "4  A. hypochondriacus  Amaranthus hypochondriacus  Amaranthus hypochondriacus   \n",
       "\n",
       "    common_name  has_genome  has_transcriptome original_source  \\\n",
       "0           NaN         NaN                NaN       phytozome   \n",
       "1           NaN         NaN                NaN       phytozome   \n",
       "2  marsh-mallow         NaN                NaN       phytozome   \n",
       "3           NaN         NaN                NaN       phytozome   \n",
       "4           NaN         NaN                NaN       phytozome   \n",
       "\n",
       "  thermotolerance  reference notes  \n",
       "0             NaN        NaN   NaN  \n",
       "1             NaN        NaN   NaN  \n",
       "2             NaN        NaN   NaN  \n",
       "3             NaN        NaN   NaN  \n",
       "4             NaN        NaN   NaN  "
      ]
     },
     "execution_count": 13,
     "metadata": {},
     "output_type": "execute_result"
    }
   ],
   "source": [
    "phyto_origin = pd.read_csv('../data/species_info/species_info_full.csv')\n",
    "phyto_origin.head()"
   ]
  },
  {
   "cell_type": "markdown",
   "id": "32c1d714-7028-41a4-96d0-f7a1a83314af",
   "metadata": {},
   "source": [
    "Add a path for the genomes we already have:"
   ]
  },
  {
   "cell_type": "code",
   "execution_count": 14,
   "id": "437ee366-23c4-452d-97f1-d58080f0db09",
   "metadata": {},
   "outputs": [],
   "source": [
    "genome_top_path = '/mnt/research/Walker_Lab_Research/Serena_project_data/selection-under-heat_data/phytozome_genomes'\n",
    "sp_path = [(f\"{f.split('_')[0][0]}. {f.split('_')[0][1:]}\", f'{genome_top_path}/{f}') for f in listdir(genome_top_path)]\n",
    "sp_path_df = pd.DataFrame(sp_path, columns=['abbreviated_species', 'full_path'])\n",
    "phyto_paths = sp_path_df.merge(phyto_origin, left_on='abbreviated_species', right_on='abbreviated_species', how='right')"
   ]
  },
  {
   "cell_type": "markdown",
   "id": "24ad0094-9c4a-4f59-a1ec-6e043513a8fe",
   "metadata": {},
   "source": [
    "Include function to read URLs from Excel files:"
   ]
  },
  {
   "cell_type": "code",
   "execution_count": 15,
   "id": "b7873770-e059-400e-bb03-d32c6e97b858",
   "metadata": {},
   "outputs": [],
   "source": [
    "def get_hyperlink_columns(base_df, path, sheet_name):\n",
    "    \"\"\"\n",
    "    Use openpyxl to detect hyperlinks and add them as new columns.\n",
    "\n",
    "    From: https://github.com/serenalotreck/greencut-formatting/blob/main/notebooks/greencut_database_input_formatting.ipynb\n",
    "\n",
    "    parameters:\n",
    "        base_df, pandas df: the result of read_excel on path\n",
    "        path, str: path to the excel document\n",
    "        sheet_name, str: name of the sheet to read\n",
    "\n",
    "    returns:\n",
    "        updated_df, pandas df: base_df with added columns for hyperlinks\n",
    "    \"\"\"\n",
    "    # Load the workbook using openpyxl\n",
    "    workbook = load_workbook(path)\n",
    "    \n",
    "    # Select the sheet\n",
    "    sheet = workbook[sheet_name] if sheet_name else workbook.active\n",
    "\n",
    "    # Openpyxl will maintain rows that aren't relevant to the dataframe,\n",
    "    # whereas pandas.read_excel just drops those -- we need to make them agree\n",
    "    if sheet.max_row != len(base_df):\n",
    "        rows_to_delete = [i for i in range(len(base_df) + 1, sheet.max_row)]\n",
    "        for row_index in reversed(rows_to_delete):\n",
    "            sheet.delete_rows(row_index)\n",
    "\n",
    "    # Detect columns with hyperlinks\n",
    "    hyperlink_cols = defaultdict(list)\n",
    "    for row_idx, row in enumerate(sheet.iter_rows()):\n",
    "        # Skip the first row, since it's the header\n",
    "        if row_idx == 0:\n",
    "            continue\n",
    "        for col_index, cell in enumerate(row):\n",
    "            hyperlink = cell.hyperlink.target if cell.hyperlink else None\n",
    "            header_name = sheet.cell(row=1, column=col_index + 1).value\n",
    "            if hyperlink:\n",
    "                hyperlink_cols[header_name + \"_hyperlink\"].append(hyperlink)\n",
    "            else:\n",
    "                # We need to add NaN if there's no hyperlink to keep the values\n",
    "                # in the right rows, but this does mean we'll get non-hyperlink columns\n",
    "                hyperlink_cols[header_name + \"_hyperlink\"].append(np.nan)\n",
    "\n",
    "    # Create a df with the new columns\n",
    "    hyperlink_df = pd.DataFrame(hyperlink_cols)\n",
    "    \n",
    "    # Now remove any columns that are all NaN\n",
    "    hyperlink_df = hyperlink_df.dropna(axis=1, how='all')\n",
    "\n",
    "    # Concat this horizontally to the original df\n",
    "    updated_df = pd.concat([base_df, hyperlink_df], axis=1)\n",
    "\n",
    "    return updated_df"
   ]
  },
  {
   "cell_type": "code",
   "execution_count": 16,
   "id": "5bb9e670-439f-473a-9e91-d0d7c200bbb5",
   "metadata": {},
   "outputs": [
    {
     "data": {
      "text/html": [
       "<div>\n",
       "<style scoped>\n",
       "    .dataframe tbody tr th:only-of-type {\n",
       "        vertical-align: middle;\n",
       "    }\n",
       "\n",
       "    .dataframe tbody tr th {\n",
       "        vertical-align: top;\n",
       "    }\n",
       "\n",
       "    .dataframe thead th {\n",
       "        text-align: right;\n",
       "    }\n",
       "</style>\n",
       "<table border=\"1\" class=\"dataframe\">\n",
       "  <thead>\n",
       "    <tr style=\"text-align: right;\">\n",
       "      <th></th>\n",
       "      <th>Species_Name</th>\n",
       "      <th>Species_Notes</th>\n",
       "      <th>Transciptomic_data_in_NCBI_with_SRA_data</th>\n",
       "      <th>Publication_Link</th>\n",
       "      <th>Notes</th>\n",
       "    </tr>\n",
       "  </thead>\n",
       "  <tbody>\n",
       "    <tr>\n",
       "      <th>0</th>\n",
       "      <td>Heliotropium curisavvicum</td>\n",
       "      <td>a prostrate plant from the Mojave desert.  You...</td>\n",
       "      <td>NaN</td>\n",
       "      <td>NaN</td>\n",
       "      <td>Rowan suggested</td>\n",
       "    </tr>\n",
       "    <tr>\n",
       "      <th>1</th>\n",
       "      <td>Sesuvium verrucosum</td>\n",
       "      <td>Succulent halophytes from deserts and hot coas...</td>\n",
       "      <td>NaN</td>\n",
       "      <td>NaN</td>\n",
       "      <td>Rowan suggested</td>\n",
       "    </tr>\n",
       "    <tr>\n",
       "      <th>2</th>\n",
       "      <td>Sesuvium trianthema</td>\n",
       "      <td>Succulent halophytes from deserts and hot coas...</td>\n",
       "      <td>NaN</td>\n",
       "      <td>NaN</td>\n",
       "      <td>Rowan suggested</td>\n",
       "    </tr>\n",
       "    <tr>\n",
       "      <th>3</th>\n",
       "      <td>Ipomea pes-caprae</td>\n",
       "      <td>tropical beach vine, grows on hot sands of tro...</td>\n",
       "      <td>NaN</td>\n",
       "      <td>NaN</td>\n",
       "      <td>Rowan suggested</td>\n",
       "    </tr>\n",
       "    <tr>\n",
       "      <th>4</th>\n",
       "      <td>Mollugo verticillata</td>\n",
       "      <td>carpet weed.  Grows across blacktop that burns...</td>\n",
       "      <td>NaN</td>\n",
       "      <td>NaN</td>\n",
       "      <td>Rowan suggested</td>\n",
       "    </tr>\n",
       "  </tbody>\n",
       "</table>\n",
       "</div>"
      ],
      "text/plain": [
       "                Species_Name  \\\n",
       "0  Heliotropium curisavvicum   \n",
       "1        Sesuvium verrucosum   \n",
       "2        Sesuvium trianthema   \n",
       "3          Ipomea pes-caprae   \n",
       "4       Mollugo verticillata   \n",
       "\n",
       "                                       Species_Notes  \\\n",
       "0  a prostrate plant from the Mojave desert.  You...   \n",
       "1  Succulent halophytes from deserts and hot coas...   \n",
       "2  Succulent halophytes from deserts and hot coas...   \n",
       "3  tropical beach vine, grows on hot sands of tro...   \n",
       "4  carpet weed.  Grows across blacktop that burns...   \n",
       "\n",
       "   Transciptomic_data_in_NCBI_with_SRA_data Publication_Link            Notes  \n",
       "0                                       NaN              NaN  Rowan suggested  \n",
       "1                                       NaN              NaN  Rowan suggested  \n",
       "2                                       NaN              NaN  Rowan suggested  \n",
       "3                                       NaN              NaN  Rowan suggested  \n",
       "4                                       NaN              NaN  Rowan suggested  "
      ]
     },
     "execution_count": 16,
     "metadata": {},
     "output_type": "execute_result"
    }
   ],
   "source": [
    "with_lit = pd.read_excel('../data/species_info/thermophilic_plant_species.xlsx', sheet_name='Sheet1')\n",
    "with_lit.columns = with_lit.columns.str.replace(' ', '_')\n",
    "with_list = with_lit.apply(lambda x: x.str.strip() if x.dtype == \"object\" else x)\n",
    "with_lit.head()"
   ]
  },
  {
   "cell_type": "markdown",
   "id": "e6be122e-8acf-4690-8f41-93b7168c9e28",
   "metadata": {
    "jp-MarkdownHeadingCollapsed": true
   },
   "source": [
    "## Wrangling\n",
    "Drop specific rows we know don't have info from manually looking:"
   ]
  },
  {
   "cell_type": "code",
   "execution_count": 17,
   "id": "8fd40448-22f2-4f73-b424-f4f124302d14",
   "metadata": {},
   "outputs": [
    {
     "data": {
      "text/html": [
       "<div>\n",
       "<style scoped>\n",
       "    .dataframe tbody tr th:only-of-type {\n",
       "        vertical-align: middle;\n",
       "    }\n",
       "\n",
       "    .dataframe tbody tr th {\n",
       "        vertical-align: top;\n",
       "    }\n",
       "\n",
       "    .dataframe thead th {\n",
       "        text-align: right;\n",
       "    }\n",
       "</style>\n",
       "<table border=\"1\" class=\"dataframe\">\n",
       "  <thead>\n",
       "    <tr style=\"text-align: right;\">\n",
       "      <th></th>\n",
       "      <th>Species_Name</th>\n",
       "      <th>Species_Notes</th>\n",
       "      <th>Transciptomic_data_in_NCBI_with_SRA_data</th>\n",
       "      <th>Publication_Link</th>\n",
       "      <th>Notes</th>\n",
       "    </tr>\n",
       "  </thead>\n",
       "  <tbody>\n",
       "    <tr>\n",
       "      <th>120</th>\n",
       "      <td>Azorella trifurcata (Gaertn.) Pers.</td>\n",
       "      <td>NaN</td>\n",
       "      <td>NaN</td>\n",
       "      <td>NaN</td>\n",
       "      <td>Grows in the high Andes, super arid, appears t...</td>\n",
       "    </tr>\n",
       "    <tr>\n",
       "      <th>121</th>\n",
       "      <td>Azorella trisecta (H.Wolff) Mart.Fernández &amp; C...</td>\n",
       "      <td>NaN</td>\n",
       "      <td>NaN</td>\n",
       "      <td>NaN</td>\n",
       "      <td>Grows in the high Andes, super arid, appears t...</td>\n",
       "    </tr>\n",
       "    <tr>\n",
       "      <th>122</th>\n",
       "      <td>Azorella ulicina (Gillies &amp; Hook.) G.M.Plunket...</td>\n",
       "      <td>NaN</td>\n",
       "      <td>NaN</td>\n",
       "      <td>NaN</td>\n",
       "      <td>Grows in the high Andes, super arid, appears t...</td>\n",
       "    </tr>\n",
       "    <tr>\n",
       "      <th>123</th>\n",
       "      <td>Azorella valentini (Speg.) Mart.Fernández &amp; C....</td>\n",
       "      <td>NaN</td>\n",
       "      <td>NaN</td>\n",
       "      <td>NaN</td>\n",
       "      <td>Grows in the high Andes, super arid, appears t...</td>\n",
       "    </tr>\n",
       "    <tr>\n",
       "      <th>124</th>\n",
       "      <td>Cistanthe longiscapa</td>\n",
       "      <td>CAM species that grows in the atacama desert</td>\n",
       "      <td>NaN</td>\n",
       "      <td>NaN</td>\n",
       "      <td>Paper from Ariel Orellana, gave a talk in the ...</td>\n",
       "    </tr>\n",
       "  </tbody>\n",
       "</table>\n",
       "</div>"
      ],
      "text/plain": [
       "                                          Species_Name  \\\n",
       "120                Azorella trifurcata (Gaertn.) Pers.   \n",
       "121  Azorella trisecta (H.Wolff) Mart.Fernández & C...   \n",
       "122  Azorella ulicina (Gillies & Hook.) G.M.Plunket...   \n",
       "123  Azorella valentini (Speg.) Mart.Fernández & C....   \n",
       "124                               Cistanthe longiscapa   \n",
       "\n",
       "                                    Species_Notes  \\\n",
       "120                                           NaN   \n",
       "121                                           NaN   \n",
       "122                                           NaN   \n",
       "123                                           NaN   \n",
       "124  CAM species that grows in the atacama desert   \n",
       "\n",
       "     Transciptomic_data_in_NCBI_with_SRA_data Publication_Link  \\\n",
       "120                                       NaN              NaN   \n",
       "121                                       NaN              NaN   \n",
       "122                                       NaN              NaN   \n",
       "123                                       NaN              NaN   \n",
       "124                                       NaN              NaN   \n",
       "\n",
       "                                                 Notes  \n",
       "120  Grows in the high Andes, super arid, appears t...  \n",
       "121  Grows in the high Andes, super arid, appears t...  \n",
       "122  Grows in the high Andes, super arid, appears t...  \n",
       "123  Grows in the high Andes, super arid, appears t...  \n",
       "124  Paper from Ariel Orellana, gave a talk in the ...  "
      ]
     },
     "execution_count": 17,
     "metadata": {},
     "output_type": "execute_result"
    }
   ],
   "source": [
    "with_lit = with_lit.drop(index=[60,125])\n",
    "with_lit.tail()"
   ]
  },
  {
   "cell_type": "code",
   "execution_count": 18,
   "id": "a0c01e67-5931-4643-ad0d-cb1c8fafc874",
   "metadata": {},
   "outputs": [
    {
     "data": {
      "text/html": [
       "<div>\n",
       "<style scoped>\n",
       "    .dataframe tbody tr th:only-of-type {\n",
       "        vertical-align: middle;\n",
       "    }\n",
       "\n",
       "    .dataframe tbody tr th {\n",
       "        vertical-align: top;\n",
       "    }\n",
       "\n",
       "    .dataframe thead th {\n",
       "        text-align: right;\n",
       "    }\n",
       "</style>\n",
       "<table border=\"1\" class=\"dataframe\">\n",
       "  <thead>\n",
       "    <tr style=\"text-align: right;\">\n",
       "      <th></th>\n",
       "      <th>Species_Name</th>\n",
       "      <th>Species_Notes</th>\n",
       "      <th>Transciptomic_data_in_NCBI_with_SRA_data</th>\n",
       "      <th>Publication_Link</th>\n",
       "      <th>Notes</th>\n",
       "      <th>Species Name_hyperlink</th>\n",
       "    </tr>\n",
       "  </thead>\n",
       "  <tbody>\n",
       "    <tr>\n",
       "      <th>120</th>\n",
       "      <td>Azorella trifurcata (Gaertn.) Pers.</td>\n",
       "      <td>NaN</td>\n",
       "      <td>NaN</td>\n",
       "      <td>NaN</td>\n",
       "      <td>Grows in the high Andes, super arid, appears t...</td>\n",
       "      <td>https://en.wikipedia.org/w/index.php?title=Azo...</td>\n",
       "    </tr>\n",
       "    <tr>\n",
       "      <th>121</th>\n",
       "      <td>Azorella trisecta (H.Wolff) Mart.Fernández &amp; C...</td>\n",
       "      <td>NaN</td>\n",
       "      <td>NaN</td>\n",
       "      <td>NaN</td>\n",
       "      <td>Grows in the high Andes, super arid, appears t...</td>\n",
       "      <td>https://en.wikipedia.org/w/index.php?title=Azo...</td>\n",
       "    </tr>\n",
       "    <tr>\n",
       "      <th>122</th>\n",
       "      <td>Azorella ulicina (Gillies &amp; Hook.) G.M.Plunket...</td>\n",
       "      <td>NaN</td>\n",
       "      <td>NaN</td>\n",
       "      <td>NaN</td>\n",
       "      <td>Grows in the high Andes, super arid, appears t...</td>\n",
       "      <td>https://en.wikipedia.org/w/index.php?title=Azo...</td>\n",
       "    </tr>\n",
       "    <tr>\n",
       "      <th>123</th>\n",
       "      <td>Azorella valentini (Speg.) Mart.Fernández &amp; C....</td>\n",
       "      <td>NaN</td>\n",
       "      <td>NaN</td>\n",
       "      <td>NaN</td>\n",
       "      <td>Grows in the high Andes, super arid, appears t...</td>\n",
       "      <td>NaN</td>\n",
       "    </tr>\n",
       "    <tr>\n",
       "      <th>124</th>\n",
       "      <td>Cistanthe longiscapa</td>\n",
       "      <td>CAM species that grows in the atacama desert</td>\n",
       "      <td>NaN</td>\n",
       "      <td>NaN</td>\n",
       "      <td>Paper from Ariel Orellana, gave a talk in the ...</td>\n",
       "      <td>NaN</td>\n",
       "    </tr>\n",
       "  </tbody>\n",
       "</table>\n",
       "</div>"
      ],
      "text/plain": [
       "                                          Species_Name  \\\n",
       "120                Azorella trifurcata (Gaertn.) Pers.   \n",
       "121  Azorella trisecta (H.Wolff) Mart.Fernández & C...   \n",
       "122  Azorella ulicina (Gillies & Hook.) G.M.Plunket...   \n",
       "123  Azorella valentini (Speg.) Mart.Fernández & C....   \n",
       "124                               Cistanthe longiscapa   \n",
       "\n",
       "                                    Species_Notes  \\\n",
       "120                                           NaN   \n",
       "121                                           NaN   \n",
       "122                                           NaN   \n",
       "123                                           NaN   \n",
       "124  CAM species that grows in the atacama desert   \n",
       "\n",
       "     Transciptomic_data_in_NCBI_with_SRA_data Publication_Link  \\\n",
       "120                                       NaN              NaN   \n",
       "121                                       NaN              NaN   \n",
       "122                                       NaN              NaN   \n",
       "123                                       NaN              NaN   \n",
       "124                                       NaN              NaN   \n",
       "\n",
       "                                                 Notes  \\\n",
       "120  Grows in the high Andes, super arid, appears t...   \n",
       "121  Grows in the high Andes, super arid, appears t...   \n",
       "122  Grows in the high Andes, super arid, appears t...   \n",
       "123  Grows in the high Andes, super arid, appears t...   \n",
       "124  Paper from Ariel Orellana, gave a talk in the ...   \n",
       "\n",
       "                                Species Name_hyperlink  \n",
       "120  https://en.wikipedia.org/w/index.php?title=Azo...  \n",
       "121  https://en.wikipedia.org/w/index.php?title=Azo...  \n",
       "122  https://en.wikipedia.org/w/index.php?title=Azo...  \n",
       "123                                                NaN  \n",
       "124                                                NaN  "
      ]
     },
     "execution_count": 18,
     "metadata": {},
     "output_type": "execute_result"
    }
   ],
   "source": [
    "lit_w_links = get_hyperlink_columns(with_lit, '../data/species_info/thermophilic_plant_species.xlsx', sheet_name='Sheet1').drop(index=60)\n",
    "lit_w_links.tail()"
   ]
  },
  {
   "cell_type": "markdown",
   "id": "47ef8fe8-8100-4e01-b4f7-cda0043c0fb2",
   "metadata": {},
   "source": [
    "Get rid of additional text after the first two space-delimited words in the species column to get a base species name."
   ]
  },
  {
   "cell_type": "code",
   "execution_count": 19,
   "id": "2a81c15b-8ed5-4765-9b16-e0b8210b202f",
   "metadata": {},
   "outputs": [],
   "source": [
    "lit_w_links['species'] = lit_w_links['Species_Name'].str.split(r'[\\xa0\\s]+').str[:2].str.join(' ')"
   ]
  },
  {
   "cell_type": "code",
   "execution_count": 20,
   "id": "9ce28fa5-fcdd-4005-84fa-325ff8fcf799",
   "metadata": {},
   "outputs": [
    {
     "data": {
      "text/html": [
       "<div>\n",
       "<style scoped>\n",
       "    .dataframe tbody tr th:only-of-type {\n",
       "        vertical-align: middle;\n",
       "    }\n",
       "\n",
       "    .dataframe tbody tr th {\n",
       "        vertical-align: top;\n",
       "    }\n",
       "\n",
       "    .dataframe thead th {\n",
       "        text-align: right;\n",
       "    }\n",
       "</style>\n",
       "<table border=\"1\" class=\"dataframe\">\n",
       "  <thead>\n",
       "    <tr style=\"text-align: right;\">\n",
       "      <th></th>\n",
       "      <th>Species_Name</th>\n",
       "      <th>notes</th>\n",
       "      <th>Transciptomic_data_in_NCBI_with_SRA_data</th>\n",
       "      <th>reference</th>\n",
       "      <th>original_source</th>\n",
       "      <th>Species Name_hyperlink</th>\n",
       "      <th>species</th>\n",
       "    </tr>\n",
       "  </thead>\n",
       "  <tbody>\n",
       "    <tr>\n",
       "      <th>0</th>\n",
       "      <td>Heliotropium curisavvicum</td>\n",
       "      <td>a prostrate plant from the Mojave desert.  You...</td>\n",
       "      <td>NaN</td>\n",
       "      <td>NaN</td>\n",
       "      <td>Rowan suggested</td>\n",
       "      <td>NaN</td>\n",
       "      <td>Heliotropium curisavvicum</td>\n",
       "    </tr>\n",
       "    <tr>\n",
       "      <th>1</th>\n",
       "      <td>Sesuvium verrucosum</td>\n",
       "      <td>Succulent halophytes from deserts and hot coas...</td>\n",
       "      <td>NaN</td>\n",
       "      <td>NaN</td>\n",
       "      <td>Rowan suggested</td>\n",
       "      <td>NaN</td>\n",
       "      <td>Sesuvium verrucosum</td>\n",
       "    </tr>\n",
       "    <tr>\n",
       "      <th>2</th>\n",
       "      <td>Sesuvium trianthema</td>\n",
       "      <td>Succulent halophytes from deserts and hot coas...</td>\n",
       "      <td>NaN</td>\n",
       "      <td>NaN</td>\n",
       "      <td>Rowan suggested</td>\n",
       "      <td>NaN</td>\n",
       "      <td>Sesuvium trianthema</td>\n",
       "    </tr>\n",
       "    <tr>\n",
       "      <th>3</th>\n",
       "      <td>Ipomea pes-caprae</td>\n",
       "      <td>tropical beach vine, grows on hot sands of tro...</td>\n",
       "      <td>NaN</td>\n",
       "      <td>NaN</td>\n",
       "      <td>Rowan suggested</td>\n",
       "      <td>NaN</td>\n",
       "      <td>Ipomea pes-caprae</td>\n",
       "    </tr>\n",
       "    <tr>\n",
       "      <th>4</th>\n",
       "      <td>Mollugo verticillata</td>\n",
       "      <td>carpet weed.  Grows across blacktop that burns...</td>\n",
       "      <td>NaN</td>\n",
       "      <td>NaN</td>\n",
       "      <td>Rowan suggested</td>\n",
       "      <td>NaN</td>\n",
       "      <td>Mollugo verticillata</td>\n",
       "    </tr>\n",
       "  </tbody>\n",
       "</table>\n",
       "</div>"
      ],
      "text/plain": [
       "                Species_Name  \\\n",
       "0  Heliotropium curisavvicum   \n",
       "1        Sesuvium verrucosum   \n",
       "2        Sesuvium trianthema   \n",
       "3          Ipomea pes-caprae   \n",
       "4       Mollugo verticillata   \n",
       "\n",
       "                                               notes  \\\n",
       "0  a prostrate plant from the Mojave desert.  You...   \n",
       "1  Succulent halophytes from deserts and hot coas...   \n",
       "2  Succulent halophytes from deserts and hot coas...   \n",
       "3  tropical beach vine, grows on hot sands of tro...   \n",
       "4  carpet weed.  Grows across blacktop that burns...   \n",
       "\n",
       "   Transciptomic_data_in_NCBI_with_SRA_data reference  original_source  \\\n",
       "0                                       NaN       NaN  Rowan suggested   \n",
       "1                                       NaN       NaN  Rowan suggested   \n",
       "2                                       NaN       NaN  Rowan suggested   \n",
       "3                                       NaN       NaN  Rowan suggested   \n",
       "4                                       NaN       NaN  Rowan suggested   \n",
       "\n",
       "  Species Name_hyperlink                    species  \n",
       "0                    NaN  Heliotropium curisavvicum  \n",
       "1                    NaN        Sesuvium verrucosum  \n",
       "2                    NaN        Sesuvium trianthema  \n",
       "3                    NaN          Ipomea pes-caprae  \n",
       "4                    NaN       Mollugo verticillata  "
      ]
     },
     "execution_count": 20,
     "metadata": {},
     "output_type": "execute_result"
    }
   ],
   "source": [
    "lit_w_links = lit_w_links.rename(columns={'Notes': 'original_source', 'Species_Notes': 'notes', 'Publication_Link': 'reference'})\n",
    "lit_w_links.head()"
   ]
  },
  {
   "cell_type": "markdown",
   "id": "768c59e8-e012-43e8-8733-c5a8544c3f48",
   "metadata": {},
   "source": [
    "Merge with the other list:"
   ]
  },
  {
   "cell_type": "code",
   "execution_count": 21,
   "id": "0e38a80e-2633-4a91-b1e2-4f8b63dea0ed",
   "metadata": {},
   "outputs": [
    {
     "data": {
      "text/html": [
       "<div>\n",
       "<style scoped>\n",
       "    .dataframe tbody tr th:only-of-type {\n",
       "        vertical-align: middle;\n",
       "    }\n",
       "\n",
       "    .dataframe tbody tr th {\n",
       "        vertical-align: top;\n",
       "    }\n",
       "\n",
       "    .dataframe thead th {\n",
       "        text-align: right;\n",
       "    }\n",
       "</style>\n",
       "<table border=\"1\" class=\"dataframe\">\n",
       "  <thead>\n",
       "    <tr style=\"text-align: right;\">\n",
       "      <th></th>\n",
       "      <th>species</th>\n",
       "      <th>thermotolerance</th>\n",
       "      <th>common_name</th>\n",
       "      <th>full_path</th>\n",
       "      <th>has_genome</th>\n",
       "      <th>has_transcriptome</th>\n",
       "      <th>notes</th>\n",
       "      <th>original_source_berkley</th>\n",
       "      <th>original_source_serena</th>\n",
       "      <th>reference</th>\n",
       "      <th>species_gbif</th>\n",
       "    </tr>\n",
       "  </thead>\n",
       "  <tbody>\n",
       "    <tr>\n",
       "      <th>0</th>\n",
       "      <td>Acorus americanus</td>\n",
       "      <td>NaN</td>\n",
       "      <td>NaN</td>\n",
       "      <td>/mnt/research/Walker_Lab_Research/Serena_proje...</td>\n",
       "      <td>NaN</td>\n",
       "      <td>NaN</td>\n",
       "      <td>NaN</td>\n",
       "      <td>NaN</td>\n",
       "      <td>phytozome</td>\n",
       "      <td>NaN</td>\n",
       "      <td>Acorus americanus</td>\n",
       "    </tr>\n",
       "    <tr>\n",
       "      <th>1</th>\n",
       "      <td>Agave sp.</td>\n",
       "      <td>NaN</td>\n",
       "      <td>NaN</td>\n",
       "      <td>NaN</td>\n",
       "      <td>NaN</td>\n",
       "      <td>NaN</td>\n",
       "      <td>NaN</td>\n",
       "      <td>NaN</td>\n",
       "      <td>NaN</td>\n",
       "      <td>NaN</td>\n",
       "      <td>NaN</td>\n",
       "    </tr>\n",
       "    <tr>\n",
       "      <th>2</th>\n",
       "      <td>Agave tequilana</td>\n",
       "      <td>NaN</td>\n",
       "      <td>NaN</td>\n",
       "      <td>/mnt/research/Walker_Lab_Research/Serena_proje...</td>\n",
       "      <td>NaN</td>\n",
       "      <td>NaN</td>\n",
       "      <td>NaN</td>\n",
       "      <td>NaN</td>\n",
       "      <td>phytozome</td>\n",
       "      <td>NaN</td>\n",
       "      <td>Agave tequilana</td>\n",
       "    </tr>\n",
       "    <tr>\n",
       "      <th>3</th>\n",
       "      <td>Althaea officinalis</td>\n",
       "      <td>NaN</td>\n",
       "      <td>marsh-mallow</td>\n",
       "      <td>/mnt/research/Walker_Lab_Research/Serena_proje...</td>\n",
       "      <td>NaN</td>\n",
       "      <td>NaN</td>\n",
       "      <td>NaN</td>\n",
       "      <td>NaN</td>\n",
       "      <td>phytozome</td>\n",
       "      <td>NaN</td>\n",
       "      <td>Althaea officinalis</td>\n",
       "    </tr>\n",
       "    <tr>\n",
       "      <th>4</th>\n",
       "      <td>Alyssum linifolium</td>\n",
       "      <td>NaN</td>\n",
       "      <td>NaN</td>\n",
       "      <td>/mnt/research/Walker_Lab_Research/Serena_proje...</td>\n",
       "      <td>NaN</td>\n",
       "      <td>NaN</td>\n",
       "      <td>NaN</td>\n",
       "      <td>NaN</td>\n",
       "      <td>phytozome</td>\n",
       "      <td>NaN</td>\n",
       "      <td>Alyssum linifolium</td>\n",
       "    </tr>\n",
       "  </tbody>\n",
       "</table>\n",
       "</div>"
      ],
      "text/plain": [
       "               species thermotolerance   common_name  \\\n",
       "0    Acorus americanus             NaN           NaN   \n",
       "1            Agave sp.             NaN           NaN   \n",
       "2     Agave tequilana              NaN           NaN   \n",
       "3  Althaea officinalis             NaN  marsh-mallow   \n",
       "4   Alyssum linifolium             NaN           NaN   \n",
       "\n",
       "                                           full_path  has_genome  \\\n",
       "0  /mnt/research/Walker_Lab_Research/Serena_proje...         NaN   \n",
       "1                                                NaN         NaN   \n",
       "2  /mnt/research/Walker_Lab_Research/Serena_proje...         NaN   \n",
       "3  /mnt/research/Walker_Lab_Research/Serena_proje...         NaN   \n",
       "4  /mnt/research/Walker_Lab_Research/Serena_proje...         NaN   \n",
       "\n",
       "   has_transcriptome notes original_source_berkley original_source_serena  \\\n",
       "0                NaN   NaN                     NaN              phytozome   \n",
       "1                NaN   NaN                     NaN                    NaN   \n",
       "2                NaN   NaN                     NaN              phytozome   \n",
       "3                NaN   NaN                     NaN              phytozome   \n",
       "4                NaN   NaN                     NaN              phytozome   \n",
       "\n",
       "  reference         species_gbif  \n",
       "0       NaN    Acorus americanus  \n",
       "1       NaN                  NaN  \n",
       "2       NaN     Agave tequilana   \n",
       "3       NaN  Althaea officinalis  \n",
       "4       NaN   Alyssum linifolium  "
      ]
     },
     "execution_count": 21,
     "metadata": {},
     "output_type": "execute_result"
    }
   ],
   "source": [
    "phyto_paths['reference'] = phyto_paths['reference'].astype('object')\n",
    "all_species = lit_w_links.merge(phyto_paths, left_on=['species', 'notes', 'reference'], right_on=['species', 'notes', 'reference'], suffixes=('_berkley', '_serena'), how='outer')\n",
    "all_species = all_species.drop(columns=['Species_Name', 'Transciptomic_data_in_NCBI_with_SRA_data', 'Species Name_hyperlink', 'abbreviated_species'])\n",
    "all_species = all_species[['species', 'thermotolerance'] + sorted(c for c in all_species.columns if c != 'species' and c != 'thermotolerance')]\n",
    "all_species = all_species.drop_duplicates()\n",
    "all_species.head()"
   ]
  },
  {
   "cell_type": "markdown",
   "id": "53a61dc5-5ed2-4e8b-ad1a-76f1138bf99f",
   "metadata": {},
   "source": [
    "How many genera are represented here?"
   ]
  },
  {
   "cell_type": "code",
   "execution_count": 22,
   "id": "3939e712-92dd-43af-b130-ee13c755e918",
   "metadata": {},
   "outputs": [
    {
     "name": "stdout",
     "output_type": "stream",
     "text": [
      "There are 159 unique genera in the list. The top genus is Azorella, with 58 species\n",
      "There were only 14 species in common between the two lists: Boechera crandallii, Boechera gunnisoniana, Salvadora persica, Boechera depauperata, Haloxylon salicornicum, Boechera pallidifolia, Boechera perennans, Vigna unguiculata, Calligonum comosum, Avicennia marina, Boechera holboellii, Salsola villosa, Phoenix dactylifera, Boechera stricta\n"
     ]
    }
   ],
   "source": [
    "unique_genera = all_species.species.str.split(' ').str[0].value_counts()\n",
    "print(f'There are {len(unique_genera)} unique genera in the list. The top genus is {unique_genera.idxmax()}, with {unique_genera.max()} species')\n",
    "spec_in_common = set(phyto_paths.species).intersection(set(lit_w_links.species))\n",
    "print(f'There were only {len(spec_in_common)} species in common between the two lists: {\", \".join(list(spec_in_common))}')"
   ]
  },
  {
   "cell_type": "markdown",
   "id": "f03447dd-45a4-4ee5-aa4f-3ef0be54bdb5",
   "metadata": {},
   "source": [
    "Save the final thing:"
   ]
  },
  {
   "cell_type": "code",
   "execution_count": 23,
   "id": "cc07d4ff-e1b0-4098-8d14-fd97c235eda6",
   "metadata": {},
   "outputs": [],
   "source": [
    "all_species.to_csv(f'../data/species_info/berkley_serena_combined_species_list_{run_date}.csv', index=False)"
   ]
  },
  {
   "cell_type": "markdown",
   "id": "aa222c1a-f241-4082-ae83-1dea4ee62e6c",
   "metadata": {},
   "source": [
    "## Looking in SRA\n",
    "We want to know, before we manually search up all of these, that there's at least one entry in SRA for them. We'll use [`pysradb`](https://github.com/saketkc/pysradb) for this. We also can only use RNA-Seq data, so we'll also filter for that here."
   ]
  },
  {
   "cell_type": "code",
   "execution_count": 24,
   "id": "6aad8c5f-79ec-484f-865f-7d4d6317b464",
   "metadata": {},
   "outputs": [],
   "source": [
    "db = SRAweb()"
   ]
  },
  {
   "cell_type": "code",
   "execution_count": 104,
   "id": "0d67b89f-7233-4a74-80e1-d24c278c3238",
   "metadata": {
    "scrolled": true
   },
   "outputs": [
    {
     "name": "stderr",
     "output_type": "stream",
     "text": [
      "  0%|          | 0/294 [00:00<?, ?it/s]"
     ]
    },
    {
     "name": "stdout",
     "output_type": "stream",
     "text": [
      "Skipping species Acorus americanus because it has a genome in Phytozome\n"
     ]
    },
    {
     "name": "stderr",
     "output_type": "stream",
     "text": [
      "  1%|          | 2/294 [00:03<09:39,  1.99s/it]"
     ]
    },
    {
     "name": "stdout",
     "output_type": "stream",
     "text": [
      "0 RNA-seq studies found for species Agave sp..\n",
      "Skipping species Agave tequilana  because it has a genome in Phytozome\n",
      "Skipping species Althaea officinalis because it has a genome in Phytozome\n",
      "Skipping species Alyssum linifolium because it has a genome in Phytozome\n",
      "Skipping species Amaranthus hypochondriacus because it has a genome in Phytozome\n",
      "Skipping species Amborella trichopoda because it has a genome in Phytozome\n",
      "Skipping species Anacardium occidentale because it has a genome in Phytozome\n",
      "Skipping species Ananas comosus because it has a genome in Phytozome\n",
      "Skipping species Andropogon gerardi because it has a genome in Phytozome\n",
      "Skipping species Aquilegia caerulea because it has a genome in Phytozome\n",
      "Skipping species Arabidopsis halleri because it has a genome in Phytozome\n",
      "Skipping species Arabidopsis lyrata because it has a genome in Phytozome\n",
      "Skipping species Arabidopsis thaliana because it has a genome in Phytozome\n",
      "Skipping species Arachis hypogaea because it has a genome in Phytozome\n"
     ]
    },
    {
     "name": "stderr",
     "output_type": "stream",
     "text": [
      "  5%|▌         | 16/294 [00:33<09:44,  2.10s/it]"
     ]
    },
    {
     "name": "stdout",
     "output_type": "stream",
     "text": [
      "There are 127 RNA-seq studies in SRA for species Avicennia marina\n"
     ]
    },
    {
     "name": "stderr",
     "output_type": "stream",
     "text": [
      "  6%|▌         | 17/294 [00:56<17:57,  3.89s/it]"
     ]
    },
    {
     "name": "stdout",
     "output_type": "stream",
     "text": [
      "There are 127 RNA-seq studies in SRA for species Avicennia marina\n"
     ]
    },
    {
     "name": "stderr",
     "output_type": "stream",
     "text": [
      "  6%|▌         | 18/294 [01:00<17:46,  3.86s/it]"
     ]
    },
    {
     "name": "stdout",
     "output_type": "stream",
     "text": [
      "0 RNA-seq studies found for species Azorella acaulis.\n",
      "No results found for Azorella albovaginata\n",
      "0 RNA-seq studies found for species Azorella albovaginata.\n"
     ]
    },
    {
     "name": "stderr",
     "output_type": "stream",
     "text": [
      "  7%|▋         | 22/294 [01:03<11:27,  2.53s/it]"
     ]
    },
    {
     "name": "stdout",
     "output_type": "stream",
     "text": [
      "0 RNA-seq studies found for species Azorella allanii.\n",
      "No results found for Azorella ameghinoi\n",
      "0 RNA-seq studies found for species Azorella ameghinoi.\n",
      "No results found for Azorella andina\n",
      "0 RNA-seq studies found for species Azorella andina.\n",
      "No results found for Azorella aretioides\n",
      "0 RNA-seq studies found for species Azorella aretioides.\n"
     ]
    },
    {
     "name": "stderr",
     "output_type": "stream",
     "text": [
      "  8%|▊         | 24/294 [01:05<09:07,  2.03s/it]"
     ]
    },
    {
     "name": "stdout",
     "output_type": "stream",
     "text": [
      "No results found for Azorella biloba\n",
      "0 RNA-seq studies found for species Azorella biloba.\n",
      "No results found for Azorella boelckei\n",
      "0 RNA-seq studies found for species Azorella boelckei.\n"
     ]
    },
    {
     "name": "stderr",
     "output_type": "stream",
     "text": [
      "  9%|▉         | 26/294 [01:08<08:21,  1.87s/it]"
     ]
    },
    {
     "name": "stdout",
     "output_type": "stream",
     "text": [
      "0 RNA-seq studies found for species Azorella burkartii.\n"
     ]
    },
    {
     "name": "stderr",
     "output_type": "stream",
     "text": [
      "  9%|▉         | 27/294 [01:11<09:42,  2.18s/it]"
     ]
    },
    {
     "name": "stdout",
     "output_type": "stream",
     "text": [
      "0 RNA-seq studies found for species Azorella cockaynei.\n"
     ]
    },
    {
     "name": "stderr",
     "output_type": "stream",
     "text": [
      " 10%|▉         | 28/294 [01:15<11:10,  2.52s/it]"
     ]
    },
    {
     "name": "stdout",
     "output_type": "stream",
     "text": [
      "0 RNA-seq studies found for species Azorella colensoi.\n",
      "No results found for Azorella compacta\n",
      "0 RNA-seq studies found for species Azorella compacta.\n"
     ]
    },
    {
     "name": "stderr",
     "output_type": "stream",
     "text": [
      " 11%|█         | 32/294 [01:19<06:24,  1.47s/it]"
     ]
    },
    {
     "name": "stdout",
     "output_type": "stream",
     "text": [
      "0 RNA-seq studies found for species Azorella corymbosa.\n",
      "No results found for Azorella crassipes\n",
      "0 RNA-seq studies found for species Azorella crassipes.\n",
      "No results found for Azorella crenata\n",
      "0 RNA-seq studies found for species Azorella crenata.\n",
      "No results found for Azorella cryptantha\n",
      "0 RNA-seq studies found for species Azorella cryptantha.\n"
     ]
    },
    {
     "name": "stderr",
     "output_type": "stream",
     "text": [
      " 12%|█▏        | 35/294 [01:20<04:20,  1.01s/it]"
     ]
    },
    {
     "name": "stdout",
     "output_type": "stream",
     "text": [
      "No results found for Azorella cuatrecasasii\n",
      "0 RNA-seq studies found for species Azorella cuatrecasasii.\n",
      "No results found for Azorella diapensioides\n",
      "0 RNA-seq studies found for species Azorella diapensioides.\n",
      "No results found for Azorella diversifolia\n",
      "0 RNA-seq studies found for species Azorella diversifolia.\n"
     ]
    },
    {
     "name": "stderr",
     "output_type": "stream",
     "text": [
      " 13%|█▎        | 37/294 [01:21<03:47,  1.13it/s]"
     ]
    },
    {
     "name": "stdout",
     "output_type": "stream",
     "text": [
      "No results found for Azorella echegarayi\n",
      "0 RNA-seq studies found for species Azorella echegarayi.\n"
     ]
    },
    {
     "name": "stderr",
     "output_type": "stream",
     "text": [
      " 13%|█▎        | 38/294 [01:24<05:37,  1.32s/it]"
     ]
    },
    {
     "name": "stdout",
     "output_type": "stream",
     "text": [
      "0 RNA-seq studies found for species Azorella exigua.\n",
      "No results found for Azorella filamentosa\n",
      "0 RNA-seq studies found for species Azorella filamentosa.\n"
     ]
    },
    {
     "name": "stderr",
     "output_type": "stream",
     "text": [
      " 14%|█▎        | 40/294 [01:27<05:55,  1.40s/it]"
     ]
    },
    {
     "name": "stdout",
     "output_type": "stream",
     "text": [
      "0 RNA-seq studies found for species Azorella fragosea.\n"
     ]
    },
    {
     "name": "stderr",
     "output_type": "stream",
     "text": [
      " 14%|█▍        | 41/294 [01:28<04:54,  1.16s/it]"
     ]
    },
    {
     "name": "stdout",
     "output_type": "stream",
     "text": [
      "No results found for Azorella fuegiana\n",
      "0 RNA-seq studies found for species Azorella fuegiana.\n"
     ]
    },
    {
     "name": "stderr",
     "output_type": "stream",
     "text": [
      " 14%|█▍        | 42/294 [01:32<08:18,  1.98s/it]"
     ]
    },
    {
     "name": "stdout",
     "output_type": "stream",
     "text": [
      "0 RNA-seq studies found for species Azorella haastii.\n",
      "No results found for Azorella hallei\n",
      "0 RNA-seq studies found for species Azorella hallei.\n"
     ]
    },
    {
     "name": "stderr",
     "output_type": "stream",
     "text": [
      " 15%|█▍        | 44/294 [01:36<07:37,  1.83s/it]"
     ]
    },
    {
     "name": "stdout",
     "output_type": "stream",
     "text": [
      "0 RNA-seq studies found for species Azorella hookeri.\n"
     ]
    },
    {
     "name": "stderr",
     "output_type": "stream",
     "text": [
      " 15%|█▌        | 45/294 [01:40<09:28,  2.28s/it]"
     ]
    },
    {
     "name": "stdout",
     "output_type": "stream",
     "text": [
      "0 RNA-seq studies found for species Azorella hydrocotyloides.\n",
      "No results found for Azorella julianii\n",
      "0 RNA-seq studies found for species Azorella julianii.\n"
     ]
    },
    {
     "name": "stderr",
     "output_type": "stream",
     "text": [
      " 16%|█▌        | 47/294 [01:43<08:09,  1.98s/it]"
     ]
    },
    {
     "name": "stdout",
     "output_type": "stream",
     "text": [
      "0 RNA-seq studies found for species Azorella lyallii.\n"
     ]
    },
    {
     "name": "stderr",
     "output_type": "stream",
     "text": [
      " 16%|█▋        | 48/294 [01:47<09:57,  2.43s/it]"
     ]
    },
    {
     "name": "stdout",
     "output_type": "stream",
     "text": [
      "0 RNA-seq studies found for species Azorella lycopodioides.\n"
     ]
    },
    {
     "name": "stderr",
     "output_type": "stream",
     "text": [
      " 17%|█▋        | 51/294 [01:51<06:55,  1.71s/it]"
     ]
    },
    {
     "name": "stdout",
     "output_type": "stream",
     "text": [
      "0 RNA-seq studies found for species Azorella macquariensis.\n",
      "No results found for Azorella madreporica\n",
      "0 RNA-seq studies found for species Azorella madreporica.\n",
      "No results found for Azorella microphylla\n",
      "0 RNA-seq studies found for species Azorella microphylla.\n",
      "No results found for Azorella monantha\n",
      "0 RNA-seq studies found for species Azorella monantha.\n"
     ]
    },
    {
     "name": "stderr",
     "output_type": "stream",
     "text": [
      " 18%|█▊        | 54/294 [01:52<04:17,  1.07s/it]"
     ]
    },
    {
     "name": "stdout",
     "output_type": "stream",
     "text": [
      "No results found for Azorella monteroi\n",
      "0 RNA-seq studies found for species Azorella monteroi.\n",
      "No results found for Azorella multifida\n",
      "0 RNA-seq studies found for species Azorella multifida.\n"
     ]
    },
    {
     "name": "stderr",
     "output_type": "stream",
     "text": [
      " 19%|█▉        | 56/294 [01:55<04:36,  1.16s/it]"
     ]
    },
    {
     "name": "stdout",
     "output_type": "stream",
     "text": [
      "0 RNA-seq studies found for species Azorella nitens.\n",
      "No results found for Azorella nivalis\n",
      "0 RNA-seq studies found for species Azorella nivalis.\n"
     ]
    },
    {
     "name": "stderr",
     "output_type": "stream",
     "text": [
      " 19%|█▉        | 57/294 [01:58<06:27,  1.63s/it]"
     ]
    },
    {
     "name": "stdout",
     "output_type": "stream",
     "text": [
      "0 RNA-seq studies found for species Azorella pallida.\n"
     ]
    },
    {
     "name": "stderr",
     "output_type": "stream",
     "text": [
      " 20%|█▉        | 58/294 [01:59<05:10,  1.31s/it]"
     ]
    },
    {
     "name": "stdout",
     "output_type": "stream",
     "text": [
      "No results found for Azorella patagonica\n",
      "0 RNA-seq studies found for species Azorella patagonica.\n",
      "No results found for Azorella pedunculata\n",
      "0 RNA-seq studies found for species Azorella pedunculata.\n"
     ]
    },
    {
     "name": "stderr",
     "output_type": "stream",
     "text": [
      " 21%|██        | 62/294 [02:02<03:29,  1.11it/s]"
     ]
    },
    {
     "name": "stdout",
     "output_type": "stream",
     "text": [
      "0 RNA-seq studies found for species Azorella polaris.\n",
      "No results found for Azorella prolifera\n",
      "0 RNA-seq studies found for species Azorella prolifera.\n",
      "No results found for Azorella pulvinata\n",
      "0 RNA-seq studies found for species Azorella pulvinata.\n"
     ]
    },
    {
     "name": "stderr",
     "output_type": "stream",
     "text": [
      " 21%|██▏       | 63/294 [02:05<05:01,  1.30s/it]"
     ]
    },
    {
     "name": "stdout",
     "output_type": "stream",
     "text": [
      "0 RNA-seq studies found for species Azorella ranunculus.\n"
     ]
    },
    {
     "name": "stderr",
     "output_type": "stream",
     "text": [
      " 22%|██▏       | 64/294 [02:09<07:17,  1.90s/it]"
     ]
    },
    {
     "name": "stdout",
     "output_type": "stream",
     "text": [
      "0 RNA-seq studies found for species Azorella robusta.\n"
     ]
    },
    {
     "name": "stderr",
     "output_type": "stream",
     "text": [
      " 22%|██▏       | 66/294 [02:13<06:47,  1.79s/it]"
     ]
    },
    {
     "name": "stdout",
     "output_type": "stream",
     "text": [
      "0 RNA-seq studies found for species Azorella roughii.\n",
      "No results found for Azorella ruizii\n",
      "0 RNA-seq studies found for species Azorella ruizii.\n"
     ]
    },
    {
     "name": "stderr",
     "output_type": "stream",
     "text": [
      " 23%|██▎       | 67/294 [02:16<08:08,  2.15s/it]"
     ]
    },
    {
     "name": "stdout",
     "output_type": "stream",
     "text": [
      "0 RNA-seq studies found for species Azorella schizeilema.\n"
     ]
    },
    {
     "name": "stderr",
     "output_type": "stream",
     "text": [
      " 24%|██▍       | 70/294 [02:20<05:50,  1.57s/it]"
     ]
    },
    {
     "name": "stdout",
     "output_type": "stream",
     "text": [
      "0 RNA-seq studies found for species Azorella selago.\n",
      "No results found for Azorella spinosa\n",
      "0 RNA-seq studies found for species Azorella spinosa.\n",
      "No results found for Azorella triacantha\n",
      "0 RNA-seq studies found for species Azorella triacantha.\n",
      "No results found for Azorella trifoliolata\n",
      "0 RNA-seq studies found for species Azorella trifoliolata.\n"
     ]
    },
    {
     "name": "stderr",
     "output_type": "stream",
     "text": [
      " 24%|██▍       | 72/294 [02:25<07:12,  1.95s/it]"
     ]
    },
    {
     "name": "stdout",
     "output_type": "stream",
     "text": [
      "0 RNA-seq studies found for species Azorella trifurcata.\n"
     ]
    },
    {
     "name": "stderr",
     "output_type": "stream",
     "text": [
      " 26%|██▌       | 75/294 [02:29<05:17,  1.45s/it]"
     ]
    },
    {
     "name": "stdout",
     "output_type": "stream",
     "text": [
      "There are 1 RNA-seq studies in SRA for species Azorella trisecta\n",
      "No results found for Azorella ulicina\n",
      "0 RNA-seq studies found for species Azorella ulicina.\n",
      "No results found for Azorella valentini\n",
      "0 RNA-seq studies found for species Azorella valentini.\n",
      "Skipping species Beta vulgaris subsp. vulgaris because it has a genome in Phytozome\n",
      "Skipping species Betula platyphylla because it has a genome in Phytozome\n"
     ]
    },
    {
     "name": "stderr",
     "output_type": "stream",
     "text": [
      " 27%|██▋       | 78/294 [02:32<04:38,  1.29s/it]"
     ]
    },
    {
     "name": "stdout",
     "output_type": "stream",
     "text": [
      "0 RNA-seq studies found for species Boechera arcuata.\n"
     ]
    },
    {
     "name": "stderr",
     "output_type": "stream",
     "text": [
      " 27%|██▋       | 79/294 [02:36<06:27,  1.80s/it]"
     ]
    },
    {
     "name": "stdout",
     "output_type": "stream",
     "text": [
      "0 RNA-seq studies found for species Boechera breweri.\n"
     ]
    },
    {
     "name": "stderr",
     "output_type": "stream",
     "text": [
      " 27%|██▋       | 80/294 [02:40<07:42,  2.16s/it]"
     ]
    },
    {
     "name": "stdout",
     "output_type": "stream",
     "text": [
      "0 RNA-seq studies found for species Boechera cobrensis.\n"
     ]
    },
    {
     "name": "stderr",
     "output_type": "stream",
     "text": [
      " 28%|██▊       | 81/294 [02:44<08:49,  2.49s/it]"
     ]
    },
    {
     "name": "stdout",
     "output_type": "stream",
     "text": [
      "0 RNA-seq studies found for species Boechera constancei.\n"
     ]
    },
    {
     "name": "stderr",
     "output_type": "stream",
     "text": [
      " 28%|██▊       | 82/294 [02:47<09:51,  2.79s/it]"
     ]
    },
    {
     "name": "stdout",
     "output_type": "stream",
     "text": [
      "0 RNA-seq studies found for species Boechera crandallii.\n"
     ]
    },
    {
     "name": "stderr",
     "output_type": "stream",
     "text": [
      " 28%|██▊       | 83/294 [02:52<11:05,  3.16s/it]"
     ]
    },
    {
     "name": "stdout",
     "output_type": "stream",
     "text": [
      "There are 6 RNA-seq studies in SRA for species Boechera depauperata\n"
     ]
    },
    {
     "name": "stderr",
     "output_type": "stream",
     "text": [
      " 29%|██▊       | 84/294 [02:55<11:31,  3.29s/it]"
     ]
    },
    {
     "name": "stdout",
     "output_type": "stream",
     "text": [
      "0 RNA-seq studies found for species Boechera dispar.\n"
     ]
    },
    {
     "name": "stderr",
     "output_type": "stream",
     "text": [
      " 29%|██▉       | 85/294 [03:01<13:33,  3.89s/it]"
     ]
    },
    {
     "name": "stdout",
     "output_type": "stream",
     "text": [
      "There are 16 RNA-seq studies in SRA for species Boechera divaricarpa\n"
     ]
    },
    {
     "name": "stderr",
     "output_type": "stream",
     "text": [
      " 29%|██▉       | 86/294 [03:04<13:13,  3.82s/it]"
     ]
    },
    {
     "name": "stdout",
     "output_type": "stream",
     "text": [
      "0 RNA-seq studies found for species Boechera falcata.\n"
     ]
    },
    {
     "name": "stderr",
     "output_type": "stream",
     "text": [
      " 30%|██▉       | 87/294 [04:49<1:52:59, 32.75s/it]"
     ]
    },
    {
     "name": "stdout",
     "output_type": "stream",
     "text": [
      "There are 124 RNA-seq studies in SRA for species Boechera falcatoria\n"
     ]
    },
    {
     "name": "stderr",
     "output_type": "stream",
     "text": [
      " 30%|██▉       | 88/294 [04:52<1:23:15, 24.25s/it]"
     ]
    },
    {
     "name": "stdout",
     "output_type": "stream",
     "text": [
      "0 RNA-seq studies found for species Boechera fecunda.\n"
     ]
    },
    {
     "name": "stderr",
     "output_type": "stream",
     "text": [
      " 30%|███       | 89/294 [04:56<1:02:09, 18.19s/it]"
     ]
    },
    {
     "name": "stdout",
     "output_type": "stream",
     "text": [
      "There are 3 RNA-seq studies in SRA for species Boechera formosa\n",
      "No results found for Boechera gracilenta\n",
      "0 RNA-seq studies found for species Boechera gracilenta.\n"
     ]
    },
    {
     "name": "stderr",
     "output_type": "stream",
     "text": [
      " 31%|███       | 91/294 [04:59<35:41, 10.55s/it]  "
     ]
    },
    {
     "name": "stdout",
     "output_type": "stream",
     "text": [
      "There are 12 RNA-seq studies in SRA for species Boechera gunnisoniana\n"
     ]
    },
    {
     "name": "stderr",
     "output_type": "stream",
     "text": [
      " 31%|███▏      | 92/294 [05:02<29:44,  8.83s/it]"
     ]
    },
    {
     "name": "stdout",
     "output_type": "stream",
     "text": [
      "0 RNA-seq studies found for species Boechera hoffmannii.\n"
     ]
    },
    {
     "name": "stderr",
     "output_type": "stream",
     "text": [
      " 32%|███▏      | 93/294 [05:07<25:43,  7.68s/it]"
     ]
    },
    {
     "name": "stdout",
     "output_type": "stream",
     "text": [
      "There are 5 RNA-seq studies in SRA for species Boechera holboellii\n"
     ]
    },
    {
     "name": "stderr",
     "output_type": "stream",
     "text": [
      " 32%|███▏      | 94/294 [05:10<21:56,  6.58s/it]"
     ]
    },
    {
     "name": "stdout",
     "output_type": "stream",
     "text": [
      "There are 3 RNA-seq studies in SRA for species Boechera lasiocarpa\n"
     ]
    },
    {
     "name": "stderr",
     "output_type": "stream",
     "text": [
      " 32%|███▏      | 95/294 [05:14<19:10,  5.78s/it]"
     ]
    },
    {
     "name": "stdout",
     "output_type": "stream",
     "text": [
      "There are 3 RNA-seq studies in SRA for species Boechera lignifera\n"
     ]
    },
    {
     "name": "stderr",
     "output_type": "stream",
     "text": [
      " 33%|███▎      | 96/294 [06:48<1:42:30, 31.06s/it]"
     ]
    },
    {
     "name": "stdout",
     "output_type": "stream",
     "text": [
      "There are 124 RNA-seq studies in SRA for species Boechera ophira\n",
      "No results found for Boechera oxylobula\n",
      "0 RNA-seq studies found for species Boechera oxylobula.\n"
     ]
    },
    {
     "name": "stderr",
     "output_type": "stream",
     "text": [
      " 34%|███▎      | 99/294 [06:52<43:55, 13.52s/it]  "
     ]
    },
    {
     "name": "stdout",
     "output_type": "stream",
     "text": [
      "There are 11 RNA-seq studies in SRA for species Boechera pallidifolia\n",
      "No results found for Boechera patens\n",
      "0 RNA-seq studies found for species Boechera patens.\n"
     ]
    },
    {
     "name": "stderr",
     "output_type": "stream",
     "text": [
      " 34%|███▍      | 100/294 [06:54<34:41, 10.73s/it]"
     ]
    },
    {
     "name": "stdout",
     "output_type": "stream",
     "text": [
      "0 RNA-seq studies found for species Boechera paupercula.\n"
     ]
    },
    {
     "name": "stderr",
     "output_type": "stream",
     "text": [
      " 34%|███▍      | 101/294 [06:58<28:35,  8.89s/it]"
     ]
    },
    {
     "name": "stdout",
     "output_type": "stream",
     "text": [
      "0 RNA-seq studies found for species Boechera pendulina.\n"
     ]
    },
    {
     "name": "stderr",
     "output_type": "stream",
     "text": [
      " 35%|███▍      | 102/294 [07:02<24:14,  7.57s/it]"
     ]
    },
    {
     "name": "stdout",
     "output_type": "stream",
     "text": [
      "There are 3 RNA-seq studies in SRA for species Boechera perennans\n"
     ]
    },
    {
     "name": "stderr",
     "output_type": "stream",
     "text": [
      " 35%|███▌      | 103/294 [07:06<20:35,  6.47s/it]"
     ]
    },
    {
     "name": "stdout",
     "output_type": "stream",
     "text": [
      "0 RNA-seq studies found for species Boechera platysperma.\n"
     ]
    },
    {
     "name": "stderr",
     "output_type": "stream",
     "text": [
      " 35%|███▌      | 104/294 [07:10<17:58,  5.68s/it]"
     ]
    },
    {
     "name": "stdout",
     "output_type": "stream",
     "text": [
      "0 RNA-seq studies found for species Boechera puberula.\n"
     ]
    },
    {
     "name": "stderr",
     "output_type": "stream",
     "text": [
      " 36%|███▌      | 105/294 [07:14<16:14,  5.15s/it]"
     ]
    },
    {
     "name": "stdout",
     "output_type": "stream",
     "text": [
      "0 RNA-seq studies found for species Boechera pulchra.\n",
      "No results found for Boechera quebecensis\n",
      "0 RNA-seq studies found for species Boechera quebecensis.\n"
     ]
    },
    {
     "name": "stderr",
     "output_type": "stream",
     "text": [
      " 36%|███▋      | 107/294 [07:19<12:19,  3.96s/it]"
     ]
    },
    {
     "name": "stdout",
     "output_type": "stream",
     "text": [
      "0 RNA-seq studies found for species Boechera retrofracta.\n"
     ]
    },
    {
     "name": "stderr",
     "output_type": "stream",
     "text": [
      " 37%|███▋      | 108/294 [07:22<12:01,  3.88s/it]"
     ]
    },
    {
     "name": "stdout",
     "output_type": "stream",
     "text": [
      "There are 3 RNA-seq studies in SRA for species Boechera schistacea\n"
     ]
    },
    {
     "name": "stderr",
     "output_type": "stream",
     "text": [
      " 37%|███▋      | 109/294 [07:26<11:44,  3.81s/it]"
     ]
    },
    {
     "name": "stdout",
     "output_type": "stream",
     "text": [
      "0 RNA-seq studies found for species Boechera sparsiflora.\n"
     ]
    },
    {
     "name": "stderr",
     "output_type": "stream",
     "text": [
      " 37%|███▋      | 110/294 [07:30<11:40,  3.81s/it]"
     ]
    },
    {
     "name": "stdout",
     "output_type": "stream",
     "text": [
      "0 RNA-seq studies found for species Boechera spatifolia.\n",
      "Skipping species Boechera stricta because it has a genome in Phytozome\n",
      "Skipping species Boechera stricta because it has a genome in Phytozome\n",
      "No results found for Boechera tularensis\n",
      "0 RNA-seq studies found for species Boechera tularensis.\n"
     ]
    },
    {
     "name": "stderr",
     "output_type": "stream",
     "text": [
      " 39%|███▉      | 114/294 [07:33<05:53,  1.97s/it]"
     ]
    },
    {
     "name": "stdout",
     "output_type": "stream",
     "text": [
      "There are 12 RNA-seq studies in SRA for species Boechera williamsii\n"
     ]
    },
    {
     "name": "stderr",
     "output_type": "stream",
     "text": [
      " 42%|████▏     | 123/294 [07:37<02:10,  1.31it/s]"
     ]
    },
    {
     "name": "stdout",
     "output_type": "stream",
     "text": [
      "0 RNA-seq studies found for species Boechera yorkii.\n",
      "Skipping species Botryococcus braunii because it has a genome in Phytozome\n",
      "Skipping species Brachypodium distachyon because it has a genome in Phytozome\n",
      "Skipping species Brachypodium hybridum because it has a genome in Phytozome\n",
      "Skipping species Brachypodium stacei because it has a genome in Phytozome\n",
      "Skipping species Brassica juncea because it has a genome in Phytozome\n",
      "Skipping species Brassica oleracea var. capitata because it has a genome in Phytozome\n",
      "Skipping species Brassica rapa because it has a genome in Phytozome\n",
      "No results found for Breonadia salicina\n",
      "0 RNA-seq studies found for species Breonadia salicina.\n",
      "Skipping species Cakile maritima because it has a genome in Phytozome\n",
      "No results found for Calligonum comosum\n",
      "0 RNA-seq studies found for species Calligonum comosum.\n",
      "Skipping species Camelina sativa var. DH55 because it has a genome in Phytozome\n",
      "Skipping species Capsella rubella because it has a genome in Phytozome\n",
      "Skipping species Carica papaya because it has a genome in Phytozome\n"
     ]
    },
    {
     "name": "stderr",
     "output_type": "stream",
     "text": [
      " 44%|████▍     | 129/294 [07:42<02:15,  1.22it/s]"
     ]
    },
    {
     "name": "stdout",
     "output_type": "stream",
     "text": [
      "There are 5 RNA-seq studies in SRA for species Carnegiea gigantea\n",
      "Skipping species Carya illinoinensis because it has a genome in Phytozome\n",
      "Skipping species Castanea dentata because it has a genome in Phytozome\n",
      "Skipping species Castanea mollissima because it has a genome in Phytozome\n",
      "Skipping species Caulanthus amplexicaulis because it has a genome in Phytozome\n"
     ]
    },
    {
     "name": "stderr",
     "output_type": "stream",
     "text": [
      " 46%|████▌     | 134/294 [07:47<02:17,  1.16it/s]"
     ]
    },
    {
     "name": "stdout",
     "output_type": "stream",
     "text": [
      "0 RNA-seq studies found for species Celtis toka.\n",
      "Skipping species Ceratodon purpureus because it has a genome in Phytozome\n",
      "Skipping species Ceratopteris richardii because it has a genome in Phytozome\n",
      "Skipping species Cercis canadensis because it has a genome in Phytozome\n",
      "Skipping species Chamaecrista fasciculata because it has a genome in Phytozome\n",
      "Skipping species Chasmanthium laxum because it has a genome in Phytozome\n",
      "Skipping species Chlamydomonas reinhardtii because it has a genome in Phytozome\n",
      "Skipping species Chromochloris zofingiensis because it has a genome in Phytozome\n",
      "Skipping species Cicer arietinum because it has a genome in Phytozome\n",
      "Skipping species Cinnamomum kanehirae because it has a genome in Phytozome\n"
     ]
    },
    {
     "name": "stderr",
     "output_type": "stream",
     "text": [
      " 49%|████▉     | 144/294 [07:51<01:34,  1.59it/s]"
     ]
    },
    {
     "name": "stdout",
     "output_type": "stream",
     "text": [
      "There are 18 RNA-seq studies in SRA for species Cistanthe longiscapa\n",
      "Skipping species Citrus clementina because it has a genome in Phytozome\n",
      "Skipping species Cleome violacea because it has a genome in Phytozome\n",
      "Skipping species Clonorchis sinensis because it has a genome in Phytozome\n",
      "Skipping species Coccomyxa subellipsoidea because it has a genome in Phytozome\n",
      "Skipping species Coffea arabica because it has a genome in Phytozome\n",
      "Skipping species Coreopsis grandiflora because it has a genome in Phytozome\n",
      "Skipping species Corylus americana var. rush because it has a genome in Phytozome\n",
      "Skipping species Corylus avellana because it has a genome in Phytozome\n",
      "Skipping species Corymbia citriodora because it has a genome in Phytozome\n",
      "Skipping species Crambe hispanica because it has a genome in Phytozome\n",
      "Skipping species Crocus sativus because it has a genome in Phytozome\n"
     ]
    },
    {
     "name": "stderr",
     "output_type": "stream",
     "text": [
      " 53%|█████▎    | 156/294 [07:55<01:08,  2.02it/s]"
     ]
    },
    {
     "name": "stdout",
     "output_type": "stream",
     "text": [
      "There are 5 RNA-seq studies in SRA for species Cucurbita palmata\n"
     ]
    },
    {
     "name": "stderr",
     "output_type": "stream",
     "text": [
      " 53%|█████▎    | 157/294 [07:58<01:30,  1.51it/s]"
     ]
    },
    {
     "name": "stdout",
     "output_type": "stream",
     "text": [
      "0 RNA-seq studies found for species Cylindropuntia acanthocarpa.\n"
     ]
    },
    {
     "name": "stderr",
     "output_type": "stream",
     "text": [
      " 54%|█████▎    | 158/294 [08:02<01:57,  1.16it/s]"
     ]
    },
    {
     "name": "stdout",
     "output_type": "stream",
     "text": [
      "0 RNA-seq studies found for species Cylindropuntia bigelovii.\n",
      "Skipping species Daucus carota because it has a genome in Phytozome\n",
      "Skipping species Dendrocalamus strictus because it has a genome in Phytozome\n",
      "Skipping species Dioscorea alata because it has a genome in Phytozome\n",
      "Skipping species Diphasiastrum complanatum because it has a genome in Phytozome\n",
      "Skipping species Dunaliella salina because it has a genome in Phytozome\n",
      "No results found for Echinocactus sp\n",
      "0 RNA-seq studies found for species Echinocactus sp.\n",
      "Skipping species Ehretia anacua because it has a genome in Phytozome\n",
      "Skipping species Eruca vesicaria because it has a genome in Phytozome\n",
      "Skipping species Eschscholzia californica because it has a genome in Phytozome\n",
      "Skipping species Eucalyptus grandis because it has a genome in Phytozome\n",
      "Skipping species Euclidium syriacum because it has a genome in Phytozome\n",
      "Skipping species Eutrema salsugineum because it has a genome in Phytozome\n"
     ]
    },
    {
     "name": "stderr",
     "output_type": "stream",
     "text": [
      " 58%|█████▊    | 171/294 [08:05<01:02,  1.95it/s]"
     ]
    },
    {
     "name": "stdout",
     "output_type": "stream",
     "text": [
      "0 RNA-seq studies found for species Ficus vasta.\n",
      "Skipping species Fragaria vesca because it has a genome in Phytozome\n",
      "Skipping species Glycine max because it has a genome in Phytozome\n",
      "Skipping species Glycine max because it has a genome in Phytozome\n",
      "Skipping species Glycine max because it has a genome in Phytozome\n",
      "Skipping species Glycine soja because it has a genome in Phytozome\n",
      "Skipping species Gossypium barbadense because it has a genome in Phytozome\n",
      "Skipping species Gossypium darwinii because it has a genome in Phytozome\n",
      "Skipping species Gossypium hirsutum because it has a genome in Phytozome\n",
      "Skipping species Gossypium mustelinum because it has a genome in Phytozome\n",
      "Skipping species Gossypium raimondii because it has a genome in Phytozome\n",
      "Skipping species Gossypium tomentosum because it has a genome in Phytozome\n"
     ]
    },
    {
     "name": "stderr",
     "output_type": "stream",
     "text": [
      " 62%|██████▏   | 183/294 [08:15<01:12,  1.54it/s]"
     ]
    },
    {
     "name": "stdout",
     "output_type": "stream",
     "text": [
      "There are 16 RNA-seq studies in SRA for species Haloxylon persicum\n"
     ]
    },
    {
     "name": "stderr",
     "output_type": "stream",
     "text": [
      " 63%|██████▎   | 184/294 [08:29<02:22,  1.29s/it]"
     ]
    },
    {
     "name": "stdout",
     "output_type": "stream",
     "text": [
      "0 RNA-seq studies found for species Haloxylon salicornicum.\n",
      "Skipping species Helianthus annuus because it has a genome in Phytozome\n"
     ]
    },
    {
     "name": "stderr",
     "output_type": "stream",
     "text": [
      " 63%|██████▎   | 186/294 [08:36<02:44,  1.52s/it]"
     ]
    },
    {
     "name": "stdout",
     "output_type": "stream",
     "text": [
      "There are 16 RNA-seq studies in SRA for species Heliotropium curisavvicum\n",
      "Skipping species Hordeum vulgare because it has a genome in Phytozome\n",
      "Skipping species Hydrangea quercifolia because it has a genome in Phytozome\n",
      "Skipping species Hydrocotyle leucocephala because it has a genome in Phytozome\n",
      "Skipping species Iberis amara because it has a genome in Phytozome\n",
      "Skipping species Indigofera tinctoria because it has a genome in Phytozome\n",
      "No results found for Ipomea pes-caprae\n",
      "0 RNA-seq studies found for species Ipomea pes-caprae.\n"
     ]
    },
    {
     "name": "stderr",
     "output_type": "stream",
     "text": [
      " 66%|██████▌   | 193/294 [08:40<01:58,  1.17s/it]"
     ]
    },
    {
     "name": "stdout",
     "output_type": "stream",
     "text": [
      "0 RNA-seq studies found for species Juniperus procera.\n",
      "Skipping species Kalanchoe fedtschenkoi because it has a genome in Phytozome\n",
      "Skipping species Lactuca sativa because it has a genome in Phytozome\n",
      "Skipping species Lens culinaris because it has a genome in Phytozome\n",
      "Skipping species Lens ervoides because it has a genome in Phytozome\n",
      "Skipping species Lepidium sativum because it has a genome in Phytozome\n"
     ]
    },
    {
     "name": "stderr",
     "output_type": "stream",
     "text": [
      " 68%|██████▊   | 199/294 [08:43<01:34,  1.01it/s]"
     ]
    },
    {
     "name": "stdout",
     "output_type": "stream",
     "text": [
      "0 RNA-seq studies found for species Leptadenia pyrotechnica.\n",
      "Skipping species Liriodendron tulipifera because it has a genome in Phytozome\n",
      "Skipping species Lotus japonicus because it has a genome in Phytozome\n",
      "Skipping species Lunaria annua because it has a genome in Phytozome\n",
      "Skipping species Lupinus albus because it has a genome in Phytozome\n",
      "Skipping species Malcolmia maritima because it has a genome in Phytozome\n",
      "Skipping species Malus domestica because it has a genome in Phytozome\n",
      "Skipping species Marchantia polymorpha because it has a genome in Phytozome\n",
      "Skipping species Medicago truncatula because it has a genome in Phytozome\n",
      "Skipping species Micromonas pusilla because it has a genome in Phytozome\n",
      "Skipping species Mimulus guttatus because it has a genome in Phytozome\n",
      "Skipping species Mimulus guttatus because it has a genome in Phytozome\n",
      "Skipping species Mimulus nasutus because it has a genome in Phytozome\n",
      "Skipping species Mimulus tilingii because it has a genome in Phytozome\n",
      "No results found for Mimusops laurifolia\n",
      "0 RNA-seq studies found for species Mimusops laurifolia.\n",
      "Skipping species Miscanthus sinensis because it has a genome in Phytozome\n"
     ]
    },
    {
     "name": "stderr",
     "output_type": "stream",
     "text": [
      " 73%|███████▎  | 215/294 [08:47<00:44,  1.79it/s]"
     ]
    },
    {
     "name": "stdout",
     "output_type": "stream",
     "text": [
      "There are 1 RNA-seq studies in SRA for species Mollugo pentaphylla\n"
     ]
    },
    {
     "name": "stderr",
     "output_type": "stream",
     "text": [
      " 73%|███████▎  | 216/294 [08:50<00:52,  1.48it/s]"
     ]
    },
    {
     "name": "stdout",
     "output_type": "stream",
     "text": [
      "There are 2 RNA-seq studies in SRA for species Mollugo verticillata\n",
      "Skipping species Morchella esculenta because it has a genome in Phytozome\n",
      "No results found for Moringa peregrina\n",
      "0 RNA-seq studies found for species Moringa peregrina.\n",
      "Skipping species Musa acuminata because it has a genome in Phytozome\n",
      "Skipping species Myagrum perfoliatum because it has a genome in Phytozome\n",
      "Skipping species Notholithocarpus densiflorus because it has a genome in Phytozome\n",
      "Skipping species Nymphaea colorata because it has a genome in Phytozome\n",
      "Skipping species Olea europaea because it has a genome in Phytozome\n"
     ]
    },
    {
     "name": "stderr",
     "output_type": "stream",
     "text": [
      " 76%|███████▌  | 224/294 [08:53<00:40,  1.71it/s]"
     ]
    },
    {
     "name": "stdout",
     "output_type": "stream",
     "text": [
      "There are 6 RNA-seq studies in SRA for species Opuntia sp\n",
      "Skipping species Oropetium thomaeum because it has a genome in Phytozome\n",
      "Skipping species Oryza sativa because it has a genome in Phytozome\n",
      "Skipping species Ostreococcus lucimarinus because it has a genome in Phytozome\n",
      "Skipping species Panicum hallii because it has a genome in Phytozome\n",
      "Skipping species Panicum virgatum because it has a genome in Phytozome\n",
      "Skipping species Phaseolus acutifolius because it has a genome in Phytozome\n",
      "Skipping species Phaseolus coccineus because it has a genome in Phytozome\n",
      "Skipping species Phaseolus lunatus because it has a genome in Phytozome\n"
     ]
    },
    {
     "name": "stderr",
     "output_type": "stream",
     "text": [
      " 79%|███████▉  | 233/294 [09:30<01:53,  1.86s/it]"
     ]
    },
    {
     "name": "stdout",
     "output_type": "stream",
     "text": [
      "There are 340 RNA-seq studies in SRA for species Phoenix dactylifera\n",
      "Skipping species Physcomitrella patens because it has a genome in Phytozome\n",
      "Skipping species Podocarpus latifolius because it has a genome in Phytozome\n",
      "Skipping species Poncirus trifoliata because it has a genome in Phytozome\n",
      "Skipping species Populus deltoides because it has a genome in Phytozome\n",
      "Skipping species Populus nigra x maximowiczii because it has a genome in Phytozome\n",
      "Skipping species Populus tremula x Populus alba because it has a genome in Phytozome\n",
      "Skipping species Populus trichocarpa because it has a genome in Phytozome\n",
      "Skipping species Portulaca amilis because it has a genome in Phytozome\n",
      "Skipping species Prunella vulgaris because it has a genome in Phytozome\n",
      "Skipping species Prunus persica because it has a genome in Phytozome\n",
      "Skipping species Quercus rubra because it has a genome in Phytozome\n"
     ]
    },
    {
     "name": "stderr",
     "output_type": "stream",
     "text": [
      " 83%|████████▎ | 245/294 [09:35<01:02,  1.28s/it]"
     ]
    },
    {
     "name": "stdout",
     "output_type": "stream",
     "text": [
      "0 RNA-seq studies found for species Rhanterium epapposum.\n"
     ]
    },
    {
     "name": "stderr",
     "output_type": "stream",
     "text": [
      " 84%|████████▎ | 246/294 [11:16<04:41,  5.86s/it]"
     ]
    },
    {
     "name": "stdout",
     "output_type": "stream",
     "text": [
      "There are 157 RNA-seq studies in SRA for species Rhyza stricta\n",
      "Skipping species Ricinus communis because it has a genome in Phytozome\n",
      "Skipping species Rorippa islandica because it has a genome in Phytozome\n",
      "Skipping species Saccharum officinarum x spontaneum because it has a genome in Phytozome\n",
      "Skipping species Salix alba because it has a genome in Phytozome\n",
      "No results found for Salsola villosa\n",
      "0 RNA-seq studies found for species Salsola villosa.\n"
     ]
    },
    {
     "name": "stderr",
     "output_type": "stream",
     "text": [
      " 87%|████████▋ | 257/294 [11:20<02:01,  3.28s/it]"
     ]
    },
    {
     "name": "stdout",
     "output_type": "stream",
     "text": [
      "0 RNA-seq studies found for species Salvadora persica.\n",
      "Skipping species Salvia officinalis because it has a genome in Phytozome\n",
      "Skipping species Sarracenia purpurea because it has a genome in Phytozome\n",
      "Skipping species Schrenkiella parvula because it has a genome in Phytozome\n",
      "Skipping species Selaginella moellendorffii because it has a genome in Phytozome\n",
      "No results found for Sesuvium trianthema\n",
      "0 RNA-seq studies found for species Sesuvium trianthema.\n"
     ]
    },
    {
     "name": "stderr",
     "output_type": "stream",
     "text": [
      " 88%|████████▊ | 259/294 [11:23<01:47,  3.07s/it]"
     ]
    },
    {
     "name": "stdout",
     "output_type": "stream",
     "text": [
      "There are 11 RNA-seq studies in SRA for species Sesuvium verrucosum\n",
      "Skipping species Setaria italica because it has a genome in Phytozome\n",
      "Skipping species Setaria viridis because it has a genome in Phytozome\n",
      "Skipping species Sisymbrium irio because it has a genome in Phytozome\n",
      "Skipping species Solanum lycopersicum because it has a genome in Phytozome\n",
      "Skipping species Solanum tuberosum because it has a genome in Phytozome\n",
      "Skipping species Sorghum bicolor because it has a genome in Phytozome\n",
      "Skipping species Sphagnum fallax because it has a genome in Phytozome\n",
      "Skipping species Sphagnum magellanicum because it has a genome in Phytozome\n",
      "Skipping species Spinacia oleracea because it has a genome in Phytozome\n",
      "Skipping species Spirodela polyrhiza because it has a genome in Phytozome\n",
      "Skipping species Stanleya pinnata because it has a genome in Phytozome\n"
     ]
    },
    {
     "name": "stderr",
     "output_type": "stream",
     "text": [
      " 94%|█████████▍| 276/294 [11:28<00:22,  1.26s/it]"
     ]
    },
    {
     "name": "stdout",
     "output_type": "stream",
     "text": [
      "0 RNA-seq studies found for species Tamarindus indica.\n",
      "Skipping species Theobroma cacao because it has a genome in Phytozome\n",
      "Skipping species Thinopyrum intermedium because it has a genome in Phytozome\n",
      "Skipping species Thlaspi arvense because it has a genome in Phytozome\n",
      "Skipping species Thuja plicata because it has a genome in Phytozome\n",
      "No results found for Tidestromia carnosa\n",
      "0 RNA-seq studies found for species Tidestromia carnosa.\n",
      "No results found for Tidestromia gemmata\n",
      "0 RNA-seq studies found for species Tidestromia gemmata.\n",
      "There are 2 RNA-seq studies in SRA for species Tidestromia lanuginosa\n"
     ]
    },
    {
     "name": "stderr",
     "output_type": "stream",
     "text": [
      " 95%|█████████▍| 278/294 [11:34<00:23,  1.49s/it]"
     ]
    },
    {
     "name": "stdout",
     "output_type": "stream",
     "text": [
      "There are 1 RNA-seq studies in SRA for species Tidestromia oblongifolia\n"
     ]
    },
    {
     "name": "stderr",
     "output_type": "stream",
     "text": [
      " 95%|█████████▌| 280/294 [11:38<00:21,  1.55s/it]"
     ]
    },
    {
     "name": "stdout",
     "output_type": "stream",
     "text": [
      "There are 1 RNA-seq studies in SRA for species Tidestromia suffruticosa\n",
      "Skipping species Trifolium pratense because it has a genome in Phytozome\n",
      "Skipping species Triticum aestivum because it has a genome in Phytozome\n",
      "Skipping species Typha latifolia because it has a genome in Phytozome\n",
      "Skipping species Urochloa fusca because it has a genome in Phytozome\n",
      "Skipping species Vaccinium darrowii because it has a genome in Phytozome\n",
      "Skipping species Vicia faba because it has a genome in Phytozome\n",
      "Skipping species Vigna unguiculata because it has a genome in Phytozome\n",
      "Skipping species Vitis vinifera because it has a genome in Phytozome\n",
      "Skipping species Volvox carteri because it has a genome in Phytozome\n",
      "Skipping species Yucca aloifolia because it has a genome in Phytozome\n"
     ]
    },
    {
     "name": "stderr",
     "output_type": "stream",
     "text": [
      " 99%|█████████▊| 290/294 [11:51<00:05,  1.42s/it]"
     ]
    },
    {
     "name": "stdout",
     "output_type": "stream",
     "text": [
      "There are 58 RNA-seq studies in SRA for species Yucca brevifolia\n",
      "Skipping species Zea mays because it has a genome in Phytozome\n"
     ]
    },
    {
     "name": "stderr",
     "output_type": "stream",
     "text": [
      " 99%|█████████▉| 292/294 [11:55<00:03,  1.52s/it]"
     ]
    },
    {
     "name": "stdout",
     "output_type": "stream",
     "text": [
      "There are 36 RNA-seq studies in SRA for species Ziziphus spina\n"
     ]
    },
    {
     "name": "stderr",
     "output_type": "stream",
     "text": [
      "100%|██████████| 294/294 [12:00<00:00,  2.45s/it]"
     ]
    },
    {
     "name": "stdout",
     "output_type": "stream",
     "text": [
      "There are 49 RNA-seq studies in SRA for species Ziziphus spina christi\n",
      "Skipping species Zostera marina because it has a genome in Phytozome\n"
     ]
    },
    {
     "name": "stderr",
     "output_type": "stream",
     "text": [
      "\n"
     ]
    }
   ],
   "source": [
    "all_studies = {}\n",
    "missing_rnaseq = []\n",
    "for spec in tqdm(all_species.species):\n",
    "    try:\n",
    "        if isfile(all_species.loc[all_species.species==spec, 'full_path'].values[0]):\n",
    "            print(f'Skipping species {spec} because it has a genome in Phytozome')\n",
    "            continue\n",
    "    except TypeError:\n",
    "        studies = db.search_sra(spec, detailed=True)\n",
    "        try:\n",
    "            studies_rna = studies[studies.library_strategy.str.contains('RNA')]\n",
    "            if len(studies_rna) > 0:\n",
    "                print(f'There are {len(studies_rna)} RNA-seq studies in SRA for species {spec}')\n",
    "                all_studies[spec] = studies_rna\n",
    "            else:\n",
    "                print(f'0 RNA-seq studies found for species {spec}.')\n",
    "                missing_rnaseq.append(spec)\n",
    "        except AttributeError:\n",
    "            print(f'0 RNA-seq studies found for species {spec}.')\n",
    "            missing_rnaseq.append(spec)"
   ]
  },
  {
   "cell_type": "code",
   "execution_count": 109,
   "id": "0109822c-7cf3-4f51-9adb-44c7a01f0a53",
   "metadata": {},
   "outputs": [
    {
     "name": "stdout",
     "output_type": "stream",
     "text": [
      "There are 32 organisms with RNAseq datasets that also don't have Phytozome genomes, 162 organisms with Phytozome genomes, and 101 that don't have an RNAseq dataset in SRA.\n"
     ]
    }
   ],
   "source": [
    "print(f'There are {len(all_studies)} organisms with RNAseq datasets that also don\\'t have Phytozome genomes, {len(list(listdir(genome_top_path)))} organisms with Phytozome genomes, and {len(missing_rnaseq)} that don\\'t have an RNAseq dataset in SRA.')"
   ]
  },
  {
   "cell_type": "code",
   "execution_count": 110,
   "id": "d8cc4fbc-5435-45f0-b2da-6cc9612ad065",
   "metadata": {},
   "outputs": [
    {
     "name": "stdout",
     "output_type": "stream",
     "text": [
      "[127, 1, 6, 16, 124, 3, 12, 5, 3, 3, 124, 11, 3, 3, 12, 5, 18, 5, 16, 16, 1, 2, 6, 340, 157, 11, 2, 1, 1, 58, 36, 49] 1177\n"
     ]
    }
   ],
   "source": [
    "print([len(stud) for stud in all_studies.values()], sum([len(stud) for stud in all_studies.values()]))"
   ]
  },
  {
   "cell_type": "markdown",
   "id": "84af1db9-adf0-4bad-8919-ec15eebf91bd",
   "metadata": {},
   "source": [
    "Concat so that we can just delete the studies we don't want from a single spreadsheet:"
   ]
  },
  {
   "cell_type": "code",
   "execution_count": 111,
   "id": "57169b8a-8fa2-44a8-90c2-d5cc1f9b9ddd",
   "metadata": {},
   "outputs": [],
   "source": [
    "for i, reps in enumerate([len(df.columns) - len(set(df.columns)) for df in all_studies.values()]):\n",
    "    if reps > 0:\n",
    "        print(f'Species {list(all_studies.keys())[i]} detailed metadata has duplicate columns')\n",
    "        species_df = list(all_studies.values())[i]\n",
    "        # Get the duplicated columns and their counts\n",
    "        counted_col_names = Counter(species_df.columns.tolist())\n",
    "        dup_cols = [k for k,v in counted_col_names.items() if v > 1]\n",
    "        # Check which version of the columns actually have data (if any)\n",
    "        dup_col_isna = [(col_name, [vals.isna().all() for col, vals in species_df[col_name].items()]) for col_name in dup_cols]\n",
    "        # If they're all na, drop them all, if  not, keep the ones with info\n",
    "        # In our dataset there's only one with data in every duplicated group, you'd want to\n",
    "        # add a secondary check here if you were adding different species\n",
    "        for col_name, contents in dup_col_isna:\n",
    "            if set(contents) == set([True]):\n",
    "                species_df = species_df.drop(columns=col_name)\n",
    "                all_studies[list(all_studies.keys())[i]] = species_df\n",
    "            else:\n",
    "                # Get unique cols\n",
    "                unique_cols = species_df.columns.duplicated(keep=False) == False\n",
    "                df_unique = species_df.loc[:, unique_cols]\n",
    "                # Choose the duplicated column that actually has data\n",
    "                col_to_keep = species_df.T.groupby(species_df.T.index, axis=0).nth(contents.index(False)).T\n",
    "                species_df = pd.concat([df_unique, col_to_keep], axis=1)\n",
    "                all_studies[list(all_studies.keys())[i]] = species_df"
   ]
  },
  {
   "cell_type": "code",
   "execution_count": 112,
   "id": "ab4f230e-cbee-4c24-a552-1498c2354979",
   "metadata": {},
   "outputs": [
    {
     "data": {
      "text/html": [
       "<div>\n",
       "<style scoped>\n",
       "    .dataframe tbody tr th:only-of-type {\n",
       "        vertical-align: middle;\n",
       "    }\n",
       "\n",
       "    .dataframe tbody tr th {\n",
       "        vertical-align: top;\n",
       "    }\n",
       "\n",
       "    .dataframe thead th {\n",
       "        text-align: right;\n",
       "    }\n",
       "</style>\n",
       "<table border=\"1\" class=\"dataframe\">\n",
       "  <thead>\n",
       "    <tr style=\"text-align: right;\">\n",
       "      <th></th>\n",
       "      <th>run_accession</th>\n",
       "      <th>study_accession</th>\n",
       "      <th>study_title</th>\n",
       "      <th>experiment_accession</th>\n",
       "      <th>experiment_title</th>\n",
       "      <th>experiment_desc</th>\n",
       "      <th>organism_taxid</th>\n",
       "      <th>organism_name</th>\n",
       "      <th>library_name</th>\n",
       "      <th>library_strategy</th>\n",
       "      <th>...</th>\n",
       "      <th>subsrc_note</th>\n",
       "      <th>authority</th>\n",
       "      <th>library name</th>\n",
       "      <th>sample type</th>\n",
       "      <th>geo_loc</th>\n",
       "      <th>plant_id</th>\n",
       "      <th>geographic location</th>\n",
       "      <th>time</th>\n",
       "      <th>source population</th>\n",
       "      <th>tag</th>\n",
       "    </tr>\n",
       "  </thead>\n",
       "  <tbody>\n",
       "    <tr>\n",
       "      <th>0</th>\n",
       "      <td>DRR119672</td>\n",
       "      <td>DRP004551</td>\n",
       "      <td>Avicennia marina leaves transcriptome</td>\n",
       "      <td>DRX112674</td>\n",
       "      <td>Illumina HiSeq 1500 paired end sequencing of S...</td>\n",
       "      <td>Illumina HiSeq 1500 paired end sequencing of S...</td>\n",
       "      <td>82927</td>\n",
       "      <td>Avicennia marina</td>\n",
       "      <td>&lt;NA&gt;</td>\n",
       "      <td>RNA-Seq</td>\n",
       "      <td>...</td>\n",
       "      <td>NaN</td>\n",
       "      <td>NaN</td>\n",
       "      <td>NaN</td>\n",
       "      <td>NaN</td>\n",
       "      <td>NaN</td>\n",
       "      <td>NaN</td>\n",
       "      <td>NaN</td>\n",
       "      <td>NaN</td>\n",
       "      <td>NaN</td>\n",
       "      <td>NaN</td>\n",
       "    </tr>\n",
       "    <tr>\n",
       "      <th>1</th>\n",
       "      <td>SRR10533306</td>\n",
       "      <td>SRP233272</td>\n",
       "      <td>Tissue-specific transcriptomes from Avicennia ...</td>\n",
       "      <td>SRX7217273</td>\n",
       "      <td>Tissue-specific transcriptomes from Avicennia ...</td>\n",
       "      <td>Tissue-specific transcriptomes from Avicennia ...</td>\n",
       "      <td>82927</td>\n",
       "      <td>Avicennia marina</td>\n",
       "      <td>Transcriptomic reads of Avicennia_marina_Flowers</td>\n",
       "      <td>RNA-Seq</td>\n",
       "      <td>...</td>\n",
       "      <td>NaN</td>\n",
       "      <td>NaN</td>\n",
       "      <td>NaN</td>\n",
       "      <td>NaN</td>\n",
       "      <td>NaN</td>\n",
       "      <td>NaN</td>\n",
       "      <td>NaN</td>\n",
       "      <td>NaN</td>\n",
       "      <td>NaN</td>\n",
       "      <td>NaN</td>\n",
       "    </tr>\n",
       "    <tr>\n",
       "      <th>2</th>\n",
       "      <td>SRR12145926</td>\n",
       "      <td>SRP270003</td>\n",
       "      <td>RNASeq to identify salt responsive genes from ...</td>\n",
       "      <td>SRX8666650</td>\n",
       "      <td>RNASeq to identify salt responsive genes from ...</td>\n",
       "      <td>RNASeq to identify salt responsive genes from ...</td>\n",
       "      <td>82927</td>\n",
       "      <td>Avicennia marina</td>\n",
       "      <td>am_Leaf_salt_0h</td>\n",
       "      <td>RNA-Seq</td>\n",
       "      <td>...</td>\n",
       "      <td>NaN</td>\n",
       "      <td>NaN</td>\n",
       "      <td>NaN</td>\n",
       "      <td>NaN</td>\n",
       "      <td>NaN</td>\n",
       "      <td>NaN</td>\n",
       "      <td>NaN</td>\n",
       "      <td>NaN</td>\n",
       "      <td>NaN</td>\n",
       "      <td>NaN</td>\n",
       "    </tr>\n",
       "    <tr>\n",
       "      <th>3</th>\n",
       "      <td>SRR12145992</td>\n",
       "      <td>SRP270003</td>\n",
       "      <td>RNASeq to identify salt responsive genes from ...</td>\n",
       "      <td>SRX8666716</td>\n",
       "      <td>RNASeq to identify salt responsive genes from ...</td>\n",
       "      <td>RNASeq to identify salt responsive genes from ...</td>\n",
       "      <td>82927</td>\n",
       "      <td>Avicennia marina</td>\n",
       "      <td>am_salt_leaf_24h</td>\n",
       "      <td>RNA-Seq</td>\n",
       "      <td>...</td>\n",
       "      <td>NaN</td>\n",
       "      <td>NaN</td>\n",
       "      <td>NaN</td>\n",
       "      <td>NaN</td>\n",
       "      <td>NaN</td>\n",
       "      <td>NaN</td>\n",
       "      <td>NaN</td>\n",
       "      <td>NaN</td>\n",
       "      <td>NaN</td>\n",
       "      <td>NaN</td>\n",
       "    </tr>\n",
       "    <tr>\n",
       "      <th>4</th>\n",
       "      <td>SRR12145993</td>\n",
       "      <td>SRP270003</td>\n",
       "      <td>RNASeq to identify salt responsive genes from ...</td>\n",
       "      <td>SRX8666717</td>\n",
       "      <td>RNASeq to identify salt responsive genes from ...</td>\n",
       "      <td>RNASeq to identify salt responsive genes from ...</td>\n",
       "      <td>82927</td>\n",
       "      <td>Avicennia marina</td>\n",
       "      <td>am_salt_leaf_48h</td>\n",
       "      <td>RNA-Seq</td>\n",
       "      <td>...</td>\n",
       "      <td>NaN</td>\n",
       "      <td>NaN</td>\n",
       "      <td>NaN</td>\n",
       "      <td>NaN</td>\n",
       "      <td>NaN</td>\n",
       "      <td>NaN</td>\n",
       "      <td>NaN</td>\n",
       "      <td>NaN</td>\n",
       "      <td>NaN</td>\n",
       "      <td>NaN</td>\n",
       "    </tr>\n",
       "  </tbody>\n",
       "</table>\n",
       "<p>5 rows × 352 columns</p>\n",
       "</div>"
      ],
      "text/plain": [
       "  run_accession study_accession  \\\n",
       "0     DRR119672       DRP004551   \n",
       "1   SRR10533306       SRP233272   \n",
       "2   SRR12145926       SRP270003   \n",
       "3   SRR12145992       SRP270003   \n",
       "4   SRR12145993       SRP270003   \n",
       "\n",
       "                                         study_title experiment_accession  \\\n",
       "0              Avicennia marina leaves transcriptome            DRX112674   \n",
       "1  Tissue-specific transcriptomes from Avicennia ...           SRX7217273   \n",
       "2  RNASeq to identify salt responsive genes from ...           SRX8666650   \n",
       "3  RNASeq to identify salt responsive genes from ...           SRX8666716   \n",
       "4  RNASeq to identify salt responsive genes from ...           SRX8666717   \n",
       "\n",
       "                                    experiment_title  \\\n",
       "0  Illumina HiSeq 1500 paired end sequencing of S...   \n",
       "1  Tissue-specific transcriptomes from Avicennia ...   \n",
       "2  RNASeq to identify salt responsive genes from ...   \n",
       "3  RNASeq to identify salt responsive genes from ...   \n",
       "4  RNASeq to identify salt responsive genes from ...   \n",
       "\n",
       "                                     experiment_desc organism_taxid  \\\n",
       "0  Illumina HiSeq 1500 paired end sequencing of S...          82927   \n",
       "1  Tissue-specific transcriptomes from Avicennia ...          82927   \n",
       "2  RNASeq to identify salt responsive genes from ...          82927   \n",
       "3  RNASeq to identify salt responsive genes from ...          82927   \n",
       "4  RNASeq to identify salt responsive genes from ...          82927   \n",
       "\n",
       "      organism_name                                      library_name  \\\n",
       "0  Avicennia marina                                              <NA>   \n",
       "1  Avicennia marina  Transcriptomic reads of Avicennia_marina_Flowers   \n",
       "2  Avicennia marina                                   am_Leaf_salt_0h   \n",
       "3  Avicennia marina                                  am_salt_leaf_24h   \n",
       "4  Avicennia marina                                  am_salt_leaf_48h   \n",
       "\n",
       "  library_strategy  ... subsrc_note authority library name sample type  \\\n",
       "0          RNA-Seq  ...         NaN       NaN          NaN         NaN   \n",
       "1          RNA-Seq  ...         NaN       NaN          NaN         NaN   \n",
       "2          RNA-Seq  ...         NaN       NaN          NaN         NaN   \n",
       "3          RNA-Seq  ...         NaN       NaN          NaN         NaN   \n",
       "4          RNA-Seq  ...         NaN       NaN          NaN         NaN   \n",
       "\n",
       "  geo_loc plant_id geographic location time source population  tag  \n",
       "0     NaN      NaN                 NaN  NaN               NaN  NaN  \n",
       "1     NaN      NaN                 NaN  NaN               NaN  NaN  \n",
       "2     NaN      NaN                 NaN  NaN               NaN  NaN  \n",
       "3     NaN      NaN                 NaN  NaN               NaN  NaN  \n",
       "4     NaN      NaN                 NaN  NaN               NaN  NaN  \n",
       "\n",
       "[5 rows x 352 columns]"
      ]
     },
     "execution_count": 112,
     "metadata": {},
     "output_type": "execute_result"
    }
   ],
   "source": [
    "all_studies_df = pd.concat([df.reset_index(drop=True) for df in all_studies.values()], ignore_index=True)#.drop_duplicates()\n",
    "all_studies_df.head()"
   ]
  },
  {
   "cell_type": "markdown",
   "id": "4f663bc3-8f26-4756-972c-42cec9f2104b",
   "metadata": {},
   "source": [
    "Save out the studies so we don't have to run the search again:"
   ]
  },
  {
   "cell_type": "code",
   "execution_count": 113,
   "id": "fd5b06f9-f0f8-4e44-8e9b-d880f202a990",
   "metadata": {},
   "outputs": [],
   "source": [
    "all_studies_df.to_csv(f'/mnt/research/Walker_Lab_Research/Serena_project_data/selection-under-heat_data/sra_study_info/all_SRA_studies_{run_date}.csv', index=False)"
   ]
  },
  {
   "cell_type": "markdown",
   "id": "e590e881-dca1-4124-93b6-bd99e33a402c",
   "metadata": {},
   "source": [
    "Read them back in:"
   ]
  },
  {
   "cell_type": "code",
   "execution_count": 83,
   "id": "86ed8406-e187-4dfa-976d-ba092b420f7d",
   "metadata": {},
   "outputs": [
    {
     "data": {
      "text/html": [
       "<div>\n",
       "<style scoped>\n",
       "    .dataframe tbody tr th:only-of-type {\n",
       "        vertical-align: middle;\n",
       "    }\n",
       "\n",
       "    .dataframe tbody tr th {\n",
       "        vertical-align: top;\n",
       "    }\n",
       "\n",
       "    .dataframe thead th {\n",
       "        text-align: right;\n",
       "    }\n",
       "</style>\n",
       "<table border=\"1\" class=\"dataframe\">\n",
       "  <thead>\n",
       "    <tr style=\"text-align: right;\">\n",
       "      <th></th>\n",
       "      <th>run_accession</th>\n",
       "      <th>study_accession</th>\n",
       "      <th>study_title</th>\n",
       "      <th>experiment_accession</th>\n",
       "      <th>experiment_title</th>\n",
       "      <th>experiment_desc</th>\n",
       "      <th>organism_taxid</th>\n",
       "      <th>organism_name</th>\n",
       "      <th>library_name</th>\n",
       "      <th>library_strategy</th>\n",
       "      <th>...</th>\n",
       "      <th>subsrc_note</th>\n",
       "      <th>authority</th>\n",
       "      <th>library name</th>\n",
       "      <th>sample type</th>\n",
       "      <th>geo_loc</th>\n",
       "      <th>plant_id</th>\n",
       "      <th>geographic location</th>\n",
       "      <th>time</th>\n",
       "      <th>source population</th>\n",
       "      <th>tag</th>\n",
       "    </tr>\n",
       "  </thead>\n",
       "  <tbody>\n",
       "    <tr>\n",
       "      <th>0</th>\n",
       "      <td>DRR119672</td>\n",
       "      <td>DRP004551</td>\n",
       "      <td>Avicennia marina leaves transcriptome</td>\n",
       "      <td>DRX112674</td>\n",
       "      <td>Illumina HiSeq 1500 paired end sequencing of S...</td>\n",
       "      <td>Illumina HiSeq 1500 paired end sequencing of S...</td>\n",
       "      <td>82927</td>\n",
       "      <td>Avicennia marina</td>\n",
       "      <td>NaN</td>\n",
       "      <td>RNA-Seq</td>\n",
       "      <td>...</td>\n",
       "      <td>NaN</td>\n",
       "      <td>NaN</td>\n",
       "      <td>NaN</td>\n",
       "      <td>NaN</td>\n",
       "      <td>NaN</td>\n",
       "      <td>NaN</td>\n",
       "      <td>NaN</td>\n",
       "      <td>NaN</td>\n",
       "      <td>NaN</td>\n",
       "      <td>NaN</td>\n",
       "    </tr>\n",
       "    <tr>\n",
       "      <th>1</th>\n",
       "      <td>SRR10533306</td>\n",
       "      <td>SRP233272</td>\n",
       "      <td>Tissue-specific transcriptomes from Avicennia ...</td>\n",
       "      <td>SRX7217273</td>\n",
       "      <td>Tissue-specific transcriptomes from Avicennia ...</td>\n",
       "      <td>Tissue-specific transcriptomes from Avicennia ...</td>\n",
       "      <td>82927</td>\n",
       "      <td>Avicennia marina</td>\n",
       "      <td>Transcriptomic reads of Avicennia_marina_Flowers</td>\n",
       "      <td>RNA-Seq</td>\n",
       "      <td>...</td>\n",
       "      <td>NaN</td>\n",
       "      <td>NaN</td>\n",
       "      <td>NaN</td>\n",
       "      <td>NaN</td>\n",
       "      <td>NaN</td>\n",
       "      <td>NaN</td>\n",
       "      <td>NaN</td>\n",
       "      <td>NaN</td>\n",
       "      <td>NaN</td>\n",
       "      <td>NaN</td>\n",
       "    </tr>\n",
       "    <tr>\n",
       "      <th>2</th>\n",
       "      <td>SRR12145926</td>\n",
       "      <td>SRP270003</td>\n",
       "      <td>RNASeq to identify salt responsive genes from ...</td>\n",
       "      <td>SRX8666650</td>\n",
       "      <td>RNASeq to identify salt responsive genes from ...</td>\n",
       "      <td>RNASeq to identify salt responsive genes from ...</td>\n",
       "      <td>82927</td>\n",
       "      <td>Avicennia marina</td>\n",
       "      <td>am_Leaf_salt_0h</td>\n",
       "      <td>RNA-Seq</td>\n",
       "      <td>...</td>\n",
       "      <td>NaN</td>\n",
       "      <td>NaN</td>\n",
       "      <td>NaN</td>\n",
       "      <td>NaN</td>\n",
       "      <td>NaN</td>\n",
       "      <td>NaN</td>\n",
       "      <td>NaN</td>\n",
       "      <td>NaN</td>\n",
       "      <td>NaN</td>\n",
       "      <td>NaN</td>\n",
       "    </tr>\n",
       "    <tr>\n",
       "      <th>3</th>\n",
       "      <td>SRR12145992</td>\n",
       "      <td>SRP270003</td>\n",
       "      <td>RNASeq to identify salt responsive genes from ...</td>\n",
       "      <td>SRX8666716</td>\n",
       "      <td>RNASeq to identify salt responsive genes from ...</td>\n",
       "      <td>RNASeq to identify salt responsive genes from ...</td>\n",
       "      <td>82927</td>\n",
       "      <td>Avicennia marina</td>\n",
       "      <td>am_salt_leaf_24h</td>\n",
       "      <td>RNA-Seq</td>\n",
       "      <td>...</td>\n",
       "      <td>NaN</td>\n",
       "      <td>NaN</td>\n",
       "      <td>NaN</td>\n",
       "      <td>NaN</td>\n",
       "      <td>NaN</td>\n",
       "      <td>NaN</td>\n",
       "      <td>NaN</td>\n",
       "      <td>NaN</td>\n",
       "      <td>NaN</td>\n",
       "      <td>NaN</td>\n",
       "    </tr>\n",
       "    <tr>\n",
       "      <th>4</th>\n",
       "      <td>SRR12145993</td>\n",
       "      <td>SRP270003</td>\n",
       "      <td>RNASeq to identify salt responsive genes from ...</td>\n",
       "      <td>SRX8666717</td>\n",
       "      <td>RNASeq to identify salt responsive genes from ...</td>\n",
       "      <td>RNASeq to identify salt responsive genes from ...</td>\n",
       "      <td>82927</td>\n",
       "      <td>Avicennia marina</td>\n",
       "      <td>am_salt_leaf_48h</td>\n",
       "      <td>RNA-Seq</td>\n",
       "      <td>...</td>\n",
       "      <td>NaN</td>\n",
       "      <td>NaN</td>\n",
       "      <td>NaN</td>\n",
       "      <td>NaN</td>\n",
       "      <td>NaN</td>\n",
       "      <td>NaN</td>\n",
       "      <td>NaN</td>\n",
       "      <td>NaN</td>\n",
       "      <td>NaN</td>\n",
       "      <td>NaN</td>\n",
       "    </tr>\n",
       "  </tbody>\n",
       "</table>\n",
       "<p>5 rows × 352 columns</p>\n",
       "</div>"
      ],
      "text/plain": [
       "  run_accession study_accession  \\\n",
       "0     DRR119672       DRP004551   \n",
       "1   SRR10533306       SRP233272   \n",
       "2   SRR12145926       SRP270003   \n",
       "3   SRR12145992       SRP270003   \n",
       "4   SRR12145993       SRP270003   \n",
       "\n",
       "                                         study_title experiment_accession  \\\n",
       "0              Avicennia marina leaves transcriptome            DRX112674   \n",
       "1  Tissue-specific transcriptomes from Avicennia ...           SRX7217273   \n",
       "2  RNASeq to identify salt responsive genes from ...           SRX8666650   \n",
       "3  RNASeq to identify salt responsive genes from ...           SRX8666716   \n",
       "4  RNASeq to identify salt responsive genes from ...           SRX8666717   \n",
       "\n",
       "                                    experiment_title  \\\n",
       "0  Illumina HiSeq 1500 paired end sequencing of S...   \n",
       "1  Tissue-specific transcriptomes from Avicennia ...   \n",
       "2  RNASeq to identify salt responsive genes from ...   \n",
       "3  RNASeq to identify salt responsive genes from ...   \n",
       "4  RNASeq to identify salt responsive genes from ...   \n",
       "\n",
       "                                     experiment_desc  organism_taxid  \\\n",
       "0  Illumina HiSeq 1500 paired end sequencing of S...           82927   \n",
       "1  Tissue-specific transcriptomes from Avicennia ...           82927   \n",
       "2  RNASeq to identify salt responsive genes from ...           82927   \n",
       "3  RNASeq to identify salt responsive genes from ...           82927   \n",
       "4  RNASeq to identify salt responsive genes from ...           82927   \n",
       "\n",
       "      organism_name                                      library_name  \\\n",
       "0  Avicennia marina                                               NaN   \n",
       "1  Avicennia marina  Transcriptomic reads of Avicennia_marina_Flowers   \n",
       "2  Avicennia marina                                   am_Leaf_salt_0h   \n",
       "3  Avicennia marina                                  am_salt_leaf_24h   \n",
       "4  Avicennia marina                                  am_salt_leaf_48h   \n",
       "\n",
       "  library_strategy  ... subsrc_note authority library name sample type  \\\n",
       "0          RNA-Seq  ...         NaN       NaN          NaN         NaN   \n",
       "1          RNA-Seq  ...         NaN       NaN          NaN         NaN   \n",
       "2          RNA-Seq  ...         NaN       NaN          NaN         NaN   \n",
       "3          RNA-Seq  ...         NaN       NaN          NaN         NaN   \n",
       "4          RNA-Seq  ...         NaN       NaN          NaN         NaN   \n",
       "\n",
       "  geo_loc plant_id geographic location time source population tag  \n",
       "0     NaN      NaN                 NaN  NaN               NaN NaN  \n",
       "1     NaN      NaN                 NaN  NaN               NaN NaN  \n",
       "2     NaN      NaN                 NaN  NaN               NaN NaN  \n",
       "3     NaN      NaN                 NaN  NaN               NaN NaN  \n",
       "4     NaN      NaN                 NaN  NaN               NaN NaN  \n",
       "\n",
       "[5 rows x 352 columns]"
      ]
     },
     "execution_count": 83,
     "metadata": {},
     "output_type": "execute_result"
    }
   ],
   "source": [
    "all_studies_df = pd.read_csv('/mnt/research/Walker_Lab_Research/Serena_project_data/selection-under-heat_data/sra_study_info/all_SRA_studies_17Sep2025.csv')\n",
    "all_studies_df.head()"
   ]
  },
  {
   "cell_type": "markdown",
   "id": "8df59930-9e5d-41b5-9f06-525da0f2b3fd",
   "metadata": {},
   "source": [
    "We want to perform further filtering on this list to get a single rep per organism. This will require some if/else logic on the studies for each organism. First, we'll drop any `SINGLE` in the `library_layout` column, if there is a `PAIRED` option for that species, because paired end reads are more reliable."
   ]
  },
  {
   "cell_type": "code",
   "execution_count": 84,
   "id": "dc1cba92-698c-4222-8f76-3ebfd72b7935",
   "metadata": {},
   "outputs": [
    {
     "name": "stdout",
     "output_type": "stream",
     "text": [
      "For species Avicennia marina, 5 of 88 total studies are single-end reads, and will be dropped\n",
      "There are only single-end reads for species Boechera depauperata\n",
      "For species Boechera divaricarpa, 15 of 48 total studies are single-end reads, and will be dropped\n",
      "For species Boechera stricta, 49 of 115 total studies are single-end reads, and will be dropped\n",
      "There are only single-end reads for species Arabidopsis thaliana\n",
      "For species Boechera williamsii, 18 of 36 total studies are single-end reads, and will be dropped\n",
      "For species Boechera pallidifolia, 24 of 33 total studies are single-end reads, and will be dropped\n",
      "There are only single-end reads for species Opuntia robusta\n",
      "There are only single-end reads for species Opuntia joconostle\n",
      "There are only single-end reads for species Opuntia ficus-indica\n",
      "For species Phoenix dactylifera, 23 of 267 total studies are single-end reads, and will be dropped\n",
      "There are only single-end reads for species Coccotrypes dactyliperda\n",
      "There are only single-end reads for species nan\n",
      "There are only single-end reads for species Rhynchophorus ferrugineus\n",
      "For species Ziziphus spina-christi, 1 of 13 total studies are single-end reads, and will be dropped\n"
     ]
    }
   ],
   "source": [
    "drop_for_single = []\n",
    "for species in all_studies_df.organism_name.unique():\n",
    "    spec_subset = all_studies_df[all_studies_df.organism_name == species]\n",
    "    single_end = spec_subset[spec_subset.library_layout == 'SINGLE']\n",
    "    if len(single_end) == len(spec_subset): # Means there's only single end\n",
    "        print(f'There are only single-end reads for species {species}')\n",
    "        continue\n",
    "    else:\n",
    "        drop_for_single.extend(single_end.index.tolist())\n",
    "        if len(single_end) > 0:\n",
    "            print(f'For species {species}, {len(single_end)} of {len(spec_subset)} total studies are single-end reads, and will be dropped')"
   ]
  },
  {
   "cell_type": "code",
   "execution_count": 85,
   "id": "9362f58d-796c-4b85-be59-0fec7d633e71",
   "metadata": {},
   "outputs": [],
   "source": [
    "all_studies_df = all_studies_df.drop(index=drop_for_single)"
   ]
  },
  {
   "cell_type": "markdown",
   "id": "0ebfa1a9-950d-487b-87cd-fc4a61ef987c",
   "metadata": {},
   "source": [
    "Unfortunately the read length is not included in the metadata returned by our search, so we can't filter based on that; we'll have to check that manually at the end. However, we also want to know that our samples are coming from leaf tissue. While there is not a eddicated field for tissue type, many studies inclued this information in one of the following fields: `study_title`, `experiment_title`, `experiment_desc`, `tissue`, `tissue_type`. As for the single vs. paired filter, we'll look for any rows with the string `\"leaf\"` in them, but if none have them, we'll just keep what's there."
   ]
  },
  {
   "cell_type": "code",
   "execution_count": 86,
   "id": "ea28a0b0-eaee-43a3-b5ad-4ae0695a3b6f",
   "metadata": {},
   "outputs": [
    {
     "name": "stdout",
     "output_type": "stream",
     "text": [
      "For species Avicennia marina, 50 of 83 total studies are leaf specific, all others will be dropped\n",
      "There are no leaf-specific studies for species mangrove metagenome\n",
      "For species Rhizophora apiculata, 6 of 12 total studies are leaf specific, all others will be dropped\n",
      "For species Avicennia marina var. rumphiana, 2 of 2 total studies are leaf specific, all others will be dropped\n",
      "For species Avicennia marina subsp. eucalyptifolia, 1 of 2 total studies are leaf specific, all others will be dropped\n",
      "For species Avicennia marina subsp. australasica, 1 of 1 total studies are leaf specific, all others will be dropped\n",
      "For species Avicennia marina subsp. marina, 1 of 1 total studies are leaf specific, all others will be dropped\n",
      "There are no leaf-specific studies for species sediment metagenome\n",
      "There are no leaf-specific studies for species Azorella trisecta\n",
      "There are no leaf-specific studies for species Boechera depauperata\n",
      "There are no leaf-specific studies for species Boechera divaricarpa\n",
      "There are no leaf-specific studies for species Boechera gunnisoniana\n",
      "For species Boechera stricta, 51 of 66 total studies are leaf specific, all others will be dropped\n",
      "There are no leaf-specific studies for species Arabidopsis thaliana\n",
      "There are no leaf-specific studies for species mixed culture metagenome\n",
      "There are no leaf-specific studies for species Boechera williamsii\n",
      "There are no leaf-specific studies for species Boechera glareosa\n",
      "There are no leaf-specific studies for species Boechera schistacea\n",
      "There are no leaf-specific studies for species Boechera perennans\n",
      "There are no leaf-specific studies for species Boechera lignifera\n",
      "There are no leaf-specific studies for species Boechera lasiocarpa\n",
      "There are no leaf-specific studies for species Boechera holboellii\n",
      "There are no leaf-specific studies for species Boechera formosa\n",
      "There are no leaf-specific studies for species Boechera pallidifolia\n",
      "There are no leaf-specific studies for species Carnegiea gigantea\n",
      "For species Cistanthe longiscapa, 18 of 18 total studies are leaf specific, all others will be dropped\n",
      "For species Cucurbita palmata, 5 of 5 total studies are leaf specific, all others will be dropped\n",
      "For species Haloxylon persicum, 4 of 16 total studies are leaf specific, all others will be dropped\n",
      "There are no leaf-specific studies for species Heliotropium calcicola\n",
      "For species Euploca convolvulacea, 1 of 1 total studies are leaf specific, all others will be dropped\n",
      "For species Heliotropium greggii, 1 of 1 total studies are leaf specific, all others will be dropped\n",
      "For species Heliotropium spathulatum, 1 of 1 total studies are leaf specific, all others will be dropped\n",
      "For species Heliotropium corymbosum, 1 of 1 total studies are leaf specific, all others will be dropped\n",
      "For species Heliotropium thermophilum, 3 of 7 total studies are leaf specific, all others will be dropped\n",
      "For species Heliotropium arborescens, 1 of 2 total studies are leaf specific, all others will be dropped\n",
      "There are no leaf-specific studies for species Trigastrotheca pentaphylla\n",
      "There are no leaf-specific studies for species Mollugo verticillata\n",
      "There are no leaf-specific studies for species Opuntia robusta\n",
      "There are no leaf-specific studies for species Opuntia joconostle\n",
      "There are no leaf-specific studies for species Opuntia ficus-indica\n",
      "For species Phoenix dactylifera, 28 of 244 total studies are leaf specific, all others will be dropped\n",
      "There are no leaf-specific studies for species soil metagenome\n",
      "There are no leaf-specific studies for species Coccotrypes dactyliperda\n",
      "There are no leaf-specific studies for species nan\n",
      "There are no leaf-specific studies for species Rhynchophorus ferrugineus\n",
      "For species Nardus stricta, 1 of 16 total studies are leaf specific, all others will be dropped\n",
      "For species Rhazya stricta, 49 of 49 total studies are leaf specific, all others will be dropped\n",
      "For species Nigella stricta, 15 of 15 total studies are leaf specific, all others will be dropped\n",
      "For species Oxalis stricta, 26 of 36 total studies are leaf specific, all others will be dropped\n",
      "For species Adenophora, 1 of 1 total studies are leaf specific, all others will be dropped\n",
      "For species Zamia stricta, 1 of 1 total studies are leaf specific, all others will be dropped\n",
      "For species Adenophora stricta, 1 of 1 total studies are leaf specific, all others will be dropped\n",
      "For species Lobelia chinensis, 1 of 1 total studies are leaf specific, all others will be dropped\n",
      "For species Lobelia sp., 1 of 1 total studies are leaf specific, all others will be dropped\n",
      "For species Lobelia seguinii, 1 of 3 total studies are leaf specific, all others will be dropped\n",
      "There are no leaf-specific studies for species Sesuvium verrucosum\n",
      "For species Tidestromia lanuginosa, 2 of 2 total studies are leaf specific, all others will be dropped\n",
      "For species Tidestromia suffruticosa var. oblongifolia, 2 of 2 total studies are leaf specific, all others will be dropped\n",
      "For species Yucca brevifolia, 56 of 57 total studies are leaf specific, all others will be dropped\n",
      "There are no leaf-specific studies for species Dactuliothrips xerophilus\n",
      "For species Ziziphus jujuba, 36 of 72 total studies are leaf specific, all others will be dropped\n",
      "For species Ziziphus spina-christi, 6 of 12 total studies are leaf specific, all others will be dropped\n"
     ]
    }
   ],
   "source": [
    "drop_for_leaf = []\n",
    "for species in all_studies_df.organism_name.unique():\n",
    "    spec_subset = all_studies_df[all_studies_df.organism_name == species]\n",
    "    # This feels unwieldy and like there's probably a cleaner way to do it\n",
    "    has_leaf = spec_subset[(spec_subset.study_title.str.lower().str.contains('leaf')) | (spec_subset.experiment_title.str.lower().str.contains('leaf')) | (spec_subset.experiment_desc.str.lower().str.contains('leaf')) | (spec_subset.tissue.str.lower().str.contains('leaf')) | (spec_subset.tissue_type.str.lower().str.contains('leaf')) | (spec_subset.study_title.str.lower().str.contains('leaves')) | (spec_subset.experiment_title.str.lower().str.contains('leaves')) | (spec_subset.experiment_desc.str.lower().str.contains('leaves')) | (spec_subset.tissue.str.lower().str.contains('leaves')) | (spec_subset.tissue_type.str.lower().str.contains('leaves'))]\n",
    "    if len(has_leaf) == 0: # Means there's no leaf specific one\n",
    "        print(f'There are no leaf-specific studies for species {species}')\n",
    "        continue\n",
    "    else:\n",
    "        not_leaf_idxs = spec_subset.drop(index=has_leaf.index.tolist()).index.tolist()\n",
    "        drop_for_leaf.extend(not_leaf_idxs)\n",
    "        print(f'For species {species}, {len(has_leaf)} of {len(spec_subset)} total studies are leaf specific, all others will be dropped')"
   ]
  },
  {
   "cell_type": "code",
   "execution_count": 87,
   "id": "4503ba8c-7344-42a1-a3c6-2bbcd6d4356b",
   "metadata": {},
   "outputs": [],
   "source": [
    "all_studies_df = all_studies_df.drop(index=drop_for_leaf)"
   ]
  },
  {
   "cell_type": "markdown",
   "id": "8c8000cf-c800-4bf6-8064-c412777a98a3",
   "metadata": {},
   "source": [
    "The last thing we can do tom ake this list easiest to manage is to remove duplicate entries from the same experiment, since we only need one rep. Any species that still have multiple experiments we will include one rep from all of them, as we can manually check the read lengths to choose among them. The groupings will have the same Bioproject number, but different sample accession numbers and different experiment numbers. We'll go through each remaining bioproject and keep just the first sample. Note that some bioprojects contain multiple species, so we're first going to look at each species and then within that species, the bioproject numbers."
   ]
  },
  {
   "cell_type": "code",
   "execution_count": 93,
   "id": "54b993fd-61ed-412b-91e5-1e1c591172c1",
   "metadata": {},
   "outputs": [
    {
     "name": "stdout",
     "output_type": "stream",
     "text": [
      "586 replicate rows will be dropped (out of a total of 684)\n"
     ]
    }
   ],
   "source": [
    "drop_for_reps = []\n",
    "for species in all_studies_df.organism_name.unique():\n",
    "    spec_subset = all_studies_df[all_studies_df.organism_name == species]\n",
    "    for proj in spec_subset.bioproject.unique():\n",
    "        bio_subset = spec_subset[spec_subset.bioproject == proj]\n",
    "        all_but_first = bio_subset.index.tolist()[1:]\n",
    "        drop_for_reps.extend(all_but_first)\n",
    "print(f'{len(drop_for_reps)} replicate rows will be dropped (out of a total of {len(all_studies_df)})')"
   ]
  },
  {
   "cell_type": "code",
   "execution_count": 95,
   "id": "5d832c4a-a94c-46ac-82e3-072e63a2a4ed",
   "metadata": {},
   "outputs": [],
   "source": [
    "all_studies_df = all_studies_df.drop(index=drop_for_reps)"
   ]
  },
  {
   "cell_type": "markdown",
   "id": "e40289b4-b3c4-45a2-9d62-c16301316764",
   "metadata": {},
   "source": [
    "Save out what we have:"
   ]
  },
  {
   "cell_type": "code",
   "execution_count": 98,
   "id": "1ed43646-72c6-4723-a428-b89d5cd54fd2",
   "metadata": {},
   "outputs": [],
   "source": [
    "all_studies_df.to_csv(f'/mnt/research/Walker_Lab_Research/Serena_project_data/selection-under-heat_data/sra_study_info/filtered_single_rep_studies_{run_date}.csv', index=False)"
   ]
  },
  {
   "cell_type": "markdown",
   "id": "e4bd0305-04ce-42ab-bffe-a9d17657b7ad",
   "metadata": {},
   "source": [
    "Since I revised the above code to use the `detailed` additional columns, I already have the read lengths for some but not all of the studies that result from adding the `tissue` and `tissue_type` columns. We'll merge the old results here to save the work of having to manually add them all back: "
   ]
  },
  {
   "cell_type": "code",
   "execution_count": 99,
   "id": "78fe3843-6c34-4eb9-9854-bfefee8e407d",
   "metadata": {},
   "outputs": [
    {
     "data": {
      "text/html": [
       "<div>\n",
       "<style scoped>\n",
       "    .dataframe tbody tr th:only-of-type {\n",
       "        vertical-align: middle;\n",
       "    }\n",
       "\n",
       "    .dataframe tbody tr th {\n",
       "        vertical-align: top;\n",
       "    }\n",
       "\n",
       "    .dataframe thead th {\n",
       "        text-align: right;\n",
       "    }\n",
       "</style>\n",
       "<table border=\"1\" class=\"dataframe\">\n",
       "  <thead>\n",
       "    <tr style=\"text-align: right;\">\n",
       "      <th></th>\n",
       "      <th>run_accession</th>\n",
       "      <th>study_accession</th>\n",
       "      <th>study_title</th>\n",
       "      <th>experiment_accession</th>\n",
       "      <th>experiment_title</th>\n",
       "      <th>experiment_desc</th>\n",
       "      <th>organism_taxid</th>\n",
       "      <th>organism_name</th>\n",
       "      <th>library_name</th>\n",
       "      <th>library_strategy</th>\n",
       "      <th>...</th>\n",
       "      <th>subsrc_note</th>\n",
       "      <th>authority</th>\n",
       "      <th>library name</th>\n",
       "      <th>sample type</th>\n",
       "      <th>geo_loc</th>\n",
       "      <th>plant_id</th>\n",
       "      <th>geographic location</th>\n",
       "      <th>time</th>\n",
       "      <th>source population</th>\n",
       "      <th>tag</th>\n",
       "    </tr>\n",
       "  </thead>\n",
       "  <tbody>\n",
       "    <tr>\n",
       "      <th>0</th>\n",
       "      <td>DRR119672</td>\n",
       "      <td>DRP004551</td>\n",
       "      <td>Avicennia marina leaves transcriptome</td>\n",
       "      <td>DRX112674</td>\n",
       "      <td>Illumina HiSeq 1500 paired end sequencing of S...</td>\n",
       "      <td>Illumina HiSeq 1500 paired end sequencing of S...</td>\n",
       "      <td>82927</td>\n",
       "      <td>Avicennia marina</td>\n",
       "      <td>NaN</td>\n",
       "      <td>RNA-Seq</td>\n",
       "      <td>...</td>\n",
       "      <td>NaN</td>\n",
       "      <td>NaN</td>\n",
       "      <td>NaN</td>\n",
       "      <td>NaN</td>\n",
       "      <td>NaN</td>\n",
       "      <td>NaN</td>\n",
       "      <td>NaN</td>\n",
       "      <td>NaN</td>\n",
       "      <td>NaN</td>\n",
       "      <td>NaN</td>\n",
       "    </tr>\n",
       "    <tr>\n",
       "      <th>1</th>\n",
       "      <td>SRR10533306</td>\n",
       "      <td>SRP233272</td>\n",
       "      <td>Tissue-specific transcriptomes from Avicennia ...</td>\n",
       "      <td>SRX7217273</td>\n",
       "      <td>Tissue-specific transcriptomes from Avicennia ...</td>\n",
       "      <td>Tissue-specific transcriptomes from Avicennia ...</td>\n",
       "      <td>82927</td>\n",
       "      <td>Avicennia marina</td>\n",
       "      <td>Transcriptomic reads of Avicennia_marina_Flowers</td>\n",
       "      <td>RNA-Seq</td>\n",
       "      <td>...</td>\n",
       "      <td>NaN</td>\n",
       "      <td>NaN</td>\n",
       "      <td>NaN</td>\n",
       "      <td>NaN</td>\n",
       "      <td>NaN</td>\n",
       "      <td>NaN</td>\n",
       "      <td>NaN</td>\n",
       "      <td>NaN</td>\n",
       "      <td>NaN</td>\n",
       "      <td>NaN</td>\n",
       "    </tr>\n",
       "    <tr>\n",
       "      <th>2</th>\n",
       "      <td>SRR12145926</td>\n",
       "      <td>SRP270003</td>\n",
       "      <td>RNASeq to identify salt responsive genes from ...</td>\n",
       "      <td>SRX8666650</td>\n",
       "      <td>RNASeq to identify salt responsive genes from ...</td>\n",
       "      <td>RNASeq to identify salt responsive genes from ...</td>\n",
       "      <td>82927</td>\n",
       "      <td>Avicennia marina</td>\n",
       "      <td>am_Leaf_salt_0h</td>\n",
       "      <td>RNA-Seq</td>\n",
       "      <td>...</td>\n",
       "      <td>NaN</td>\n",
       "      <td>NaN</td>\n",
       "      <td>NaN</td>\n",
       "      <td>NaN</td>\n",
       "      <td>NaN</td>\n",
       "      <td>NaN</td>\n",
       "      <td>NaN</td>\n",
       "      <td>NaN</td>\n",
       "      <td>NaN</td>\n",
       "      <td>NaN</td>\n",
       "    </tr>\n",
       "    <tr>\n",
       "      <th>3</th>\n",
       "      <td>SRR12146026</td>\n",
       "      <td>SRP270005</td>\n",
       "      <td>Whole Transcriptome sequencing and analaysis i...</td>\n",
       "      <td>SRX8666750</td>\n",
       "      <td>RNASeq from Avicennia leaf tissue</td>\n",
       "      <td>RNASeq from Avicennia leaf tissue</td>\n",
       "      <td>82927</td>\n",
       "      <td>Avicennia marina</td>\n",
       "      <td>am_rnaseq_leaf</td>\n",
       "      <td>RNA-Seq</td>\n",
       "      <td>...</td>\n",
       "      <td>NaN</td>\n",
       "      <td>NaN</td>\n",
       "      <td>NaN</td>\n",
       "      <td>NaN</td>\n",
       "      <td>NaN</td>\n",
       "      <td>NaN</td>\n",
       "      <td>NaN</td>\n",
       "      <td>NaN</td>\n",
       "      <td>NaN</td>\n",
       "      <td>NaN</td>\n",
       "    </tr>\n",
       "    <tr>\n",
       "      <th>4</th>\n",
       "      <td>SRR12185868</td>\n",
       "      <td>SRP271133</td>\n",
       "      <td>Gazi bay and Mida creek mangrove metagenome Ra...</td>\n",
       "      <td>SRX8700441</td>\n",
       "      <td>16S rRNA amplicon metagenomics sequences from ...</td>\n",
       "      <td>16S rRNA amplicon metagenomics sequences from ...</td>\n",
       "      <td>1284368</td>\n",
       "      <td>mangrove metagenome</td>\n",
       "      <td>Ed16S-AVM1-1-5cm</td>\n",
       "      <td>RNA-Seq</td>\n",
       "      <td>...</td>\n",
       "      <td>NaN</td>\n",
       "      <td>NaN</td>\n",
       "      <td>NaN</td>\n",
       "      <td>NaN</td>\n",
       "      <td>NaN</td>\n",
       "      <td>NaN</td>\n",
       "      <td>NaN</td>\n",
       "      <td>NaN</td>\n",
       "      <td>NaN</td>\n",
       "      <td>NaN</td>\n",
       "    </tr>\n",
       "  </tbody>\n",
       "</table>\n",
       "<p>5 rows × 352 columns</p>\n",
       "</div>"
      ],
      "text/plain": [
       "  run_accession study_accession  \\\n",
       "0     DRR119672       DRP004551   \n",
       "1   SRR10533306       SRP233272   \n",
       "2   SRR12145926       SRP270003   \n",
       "3   SRR12146026       SRP270005   \n",
       "4   SRR12185868       SRP271133   \n",
       "\n",
       "                                         study_title experiment_accession  \\\n",
       "0              Avicennia marina leaves transcriptome            DRX112674   \n",
       "1  Tissue-specific transcriptomes from Avicennia ...           SRX7217273   \n",
       "2  RNASeq to identify salt responsive genes from ...           SRX8666650   \n",
       "3  Whole Transcriptome sequencing and analaysis i...           SRX8666750   \n",
       "4  Gazi bay and Mida creek mangrove metagenome Ra...           SRX8700441   \n",
       "\n",
       "                                    experiment_title  \\\n",
       "0  Illumina HiSeq 1500 paired end sequencing of S...   \n",
       "1  Tissue-specific transcriptomes from Avicennia ...   \n",
       "2  RNASeq to identify salt responsive genes from ...   \n",
       "3                  RNASeq from Avicennia leaf tissue   \n",
       "4  16S rRNA amplicon metagenomics sequences from ...   \n",
       "\n",
       "                                     experiment_desc  organism_taxid  \\\n",
       "0  Illumina HiSeq 1500 paired end sequencing of S...           82927   \n",
       "1  Tissue-specific transcriptomes from Avicennia ...           82927   \n",
       "2  RNASeq to identify salt responsive genes from ...           82927   \n",
       "3                  RNASeq from Avicennia leaf tissue           82927   \n",
       "4  16S rRNA amplicon metagenomics sequences from ...         1284368   \n",
       "\n",
       "         organism_name                                      library_name  \\\n",
       "0     Avicennia marina                                               NaN   \n",
       "1     Avicennia marina  Transcriptomic reads of Avicennia_marina_Flowers   \n",
       "2     Avicennia marina                                   am_Leaf_salt_0h   \n",
       "3     Avicennia marina                                    am_rnaseq_leaf   \n",
       "4  mangrove metagenome                                  Ed16S-AVM1-1-5cm   \n",
       "\n",
       "  library_strategy  ... subsrc_note authority library name sample type  \\\n",
       "0          RNA-Seq  ...         NaN       NaN          NaN         NaN   \n",
       "1          RNA-Seq  ...         NaN       NaN          NaN         NaN   \n",
       "2          RNA-Seq  ...         NaN       NaN          NaN         NaN   \n",
       "3          RNA-Seq  ...         NaN       NaN          NaN         NaN   \n",
       "4          RNA-Seq  ...         NaN       NaN          NaN         NaN   \n",
       "\n",
       "  geo_loc plant_id geographic location time source population tag  \n",
       "0     NaN      NaN                 NaN  NaN               NaN NaN  \n",
       "1     NaN      NaN                 NaN  NaN               NaN NaN  \n",
       "2     NaN      NaN                 NaN  NaN               NaN NaN  \n",
       "3     NaN      NaN                 NaN  NaN               NaN NaN  \n",
       "4     NaN      NaN                 NaN  NaN               NaN NaN  \n",
       "\n",
       "[5 rows x 352 columns]"
      ]
     },
     "execution_count": 99,
     "metadata": {},
     "output_type": "execute_result"
    }
   ],
   "source": [
    "all_studies_df = pd.read_csv('/mnt/research/Walker_Lab_Research/Serena_project_data/selection-under-heat_data/sra_study_info/filtered_single_rep_studies_18Sep2025.csv')\n",
    "all_studies_df.head()"
   ]
  },
  {
   "cell_type": "code",
   "execution_count": 100,
   "id": "51215e66-bb7d-4ac9-8a36-8bf8c519c422",
   "metadata": {},
   "outputs": [
    {
     "data": {
      "text/html": [
       "<div>\n",
       "<style scoped>\n",
       "    .dataframe tbody tr th:only-of-type {\n",
       "        vertical-align: middle;\n",
       "    }\n",
       "\n",
       "    .dataframe tbody tr th {\n",
       "        vertical-align: top;\n",
       "    }\n",
       "\n",
       "    .dataframe thead th {\n",
       "        text-align: right;\n",
       "    }\n",
       "</style>\n",
       "<table border=\"1\" class=\"dataframe\">\n",
       "  <thead>\n",
       "    <tr style=\"text-align: right;\">\n",
       "      <th></th>\n",
       "      <th>organism_name</th>\n",
       "      <th>len_reads</th>\n",
       "      <th>study_accession</th>\n",
       "      <th>study_title</th>\n",
       "      <th>experiment_accession</th>\n",
       "      <th>experiment_title</th>\n",
       "      <th>experiment_desc</th>\n",
       "      <th>organism_taxid</th>\n",
       "      <th>library_name</th>\n",
       "      <th>library_strategy</th>\n",
       "      <th>...</th>\n",
       "      <th>biosample</th>\n",
       "      <th>bioproject</th>\n",
       "      <th>instrument</th>\n",
       "      <th>instrument_model</th>\n",
       "      <th>instrument_model_desc</th>\n",
       "      <th>total_spots</th>\n",
       "      <th>total_size</th>\n",
       "      <th>run_accession</th>\n",
       "      <th>run_total_spots</th>\n",
       "      <th>run_total_bases</th>\n",
       "    </tr>\n",
       "  </thead>\n",
       "  <tbody>\n",
       "    <tr>\n",
       "      <th>0</th>\n",
       "      <td>Adenophora</td>\n",
       "      <td>150</td>\n",
       "      <td>SRP406394</td>\n",
       "      <td>Phylogenetic Genomics of Adenophora</td>\n",
       "      <td>SRX18176188</td>\n",
       "      <td>RNA-seq of Adenophora stricta subsp. stricta :</td>\n",
       "      <td>RNA-seq of Adenophora stricta subsp. stricta :</td>\n",
       "      <td>82270</td>\n",
       "      <td>am_Leaf_salt_0h</td>\n",
       "      <td>RNA-Seq</td>\n",
       "      <td>...</td>\n",
       "      <td>SAMN15447932</td>\n",
       "      <td>PRJNA643813</td>\n",
       "      <td>NextSeq 500</td>\n",
       "      <td>NextSeq 500</td>\n",
       "      <td>ILLUMINA</td>\n",
       "      <td>11648210</td>\n",
       "      <td>757097881</td>\n",
       "      <td>SRR12145926</td>\n",
       "      <td>11648210</td>\n",
       "      <td>1750406459</td>\n",
       "    </tr>\n",
       "    <tr>\n",
       "      <th>1</th>\n",
       "      <td>Adenophora stricta</td>\n",
       "      <td>150</td>\n",
       "      <td>SRP549143</td>\n",
       "      <td>This BioProject includes raw sequencing data f...</td>\n",
       "      <td>SRX26957374</td>\n",
       "      <td>leaf+stem RNA of Adenophora stricta</td>\n",
       "      <td>leaf+stem RNA of Adenophora stricta</td>\n",
       "      <td>82279</td>\n",
       "      <td>am_rnaseq_leaf</td>\n",
       "      <td>RNA-Seq</td>\n",
       "      <td>...</td>\n",
       "      <td>SAMN15447991</td>\n",
       "      <td>PRJNA392014</td>\n",
       "      <td>NextSeq 500</td>\n",
       "      <td>NextSeq 500</td>\n",
       "      <td>ILLUMINA</td>\n",
       "      <td>54006517</td>\n",
       "      <td>6346122539</td>\n",
       "      <td>SRR12146026</td>\n",
       "      <td>54006517</td>\n",
       "      <td>14987554557</td>\n",
       "    </tr>\n",
       "    <tr>\n",
       "      <th>2</th>\n",
       "      <td>Avicennia marina</td>\n",
       "      <td>75</td>\n",
       "      <td>SRP270003</td>\n",
       "      <td>RNASeq to identify salt responsive genes from ...</td>\n",
       "      <td>SRX8666650</td>\n",
       "      <td>RNASeq to identify salt responsive genes from ...</td>\n",
       "      <td>RNASeq to identify salt responsive genes from ...</td>\n",
       "      <td>82927</td>\n",
       "      <td>Ed16S-AVM1-1-5cm</td>\n",
       "      <td>RNA-Seq</td>\n",
       "      <td>...</td>\n",
       "      <td>SAMN15492854</td>\n",
       "      <td>PRJNA644929</td>\n",
       "      <td>Illumina MiSeq</td>\n",
       "      <td>Illumina MiSeq</td>\n",
       "      <td>ILLUMINA</td>\n",
       "      <td>49648</td>\n",
       "      <td>17902988</td>\n",
       "      <td>SRR12185868</td>\n",
       "      <td>49648</td>\n",
       "      <td>29735410</td>\n",
       "    </tr>\n",
       "    <tr>\n",
       "      <th>3</th>\n",
       "      <td>Avicennia marina</td>\n",
       "      <td>139</td>\n",
       "      <td>SRP270005</td>\n",
       "      <td>Whole Transcriptome sequencing and analaysis i...</td>\n",
       "      <td>SRX8666750</td>\n",
       "      <td>RNASeq from Avicennia leaf tissue</td>\n",
       "      <td>RNASeq from Avicennia leaf tissue</td>\n",
       "      <td>82927</td>\n",
       "      <td>RA_leaf_500_r2</td>\n",
       "      <td>RNA-Seq</td>\n",
       "      <td>...</td>\n",
       "      <td>SAMN22185018</td>\n",
       "      <td>PRJNA719266</td>\n",
       "      <td>Illumina HiSeq 2000</td>\n",
       "      <td>Illumina HiSeq 2000</td>\n",
       "      <td>ILLUMINA</td>\n",
       "      <td>26620432</td>\n",
       "      <td>3597436477</td>\n",
       "      <td>SRR16279084</td>\n",
       "      <td>26620432</td>\n",
       "      <td>5270845536</td>\n",
       "    </tr>\n",
       "    <tr>\n",
       "      <th>4</th>\n",
       "      <td>Avicennia marina</td>\n",
       "      <td>76</td>\n",
       "      <td>SRP058424</td>\n",
       "      <td>Transcriptomic changes  in Avicennia marina in...</td>\n",
       "      <td>SRX1030223</td>\n",
       "      <td>Avicennia marina A1 accession control leaf tra...</td>\n",
       "      <td>Avicennia marina A1 accession control leaf tra...</td>\n",
       "      <td>82927</td>\n",
       "      <td>Arumphiana_leaf</td>\n",
       "      <td>RNA-Seq</td>\n",
       "      <td>...</td>\n",
       "      <td>SAMN26804911</td>\n",
       "      <td>PRJNA817364</td>\n",
       "      <td>Illumina NovaSeq 6000</td>\n",
       "      <td>Illumina NovaSeq 6000</td>\n",
       "      <td>ILLUMINA</td>\n",
       "      <td>30063634</td>\n",
       "      <td>3007376940</td>\n",
       "      <td>SRR18449582</td>\n",
       "      <td>30063634</td>\n",
       "      <td>9019090200</td>\n",
       "    </tr>\n",
       "  </tbody>\n",
       "</table>\n",
       "<p>5 rows × 25 columns</p>\n",
       "</div>"
      ],
      "text/plain": [
       "        organism_name len_reads study_accession  \\\n",
       "0          Adenophora       150       SRP406394   \n",
       "1  Adenophora stricta       150       SRP549143   \n",
       "2    Avicennia marina        75       SRP270003   \n",
       "3    Avicennia marina       139       SRP270005   \n",
       "4    Avicennia marina        76       SRP058424   \n",
       "\n",
       "                                         study_title experiment_accession  \\\n",
       "0                Phylogenetic Genomics of Adenophora          SRX18176188   \n",
       "1  This BioProject includes raw sequencing data f...          SRX26957374   \n",
       "2  RNASeq to identify salt responsive genes from ...           SRX8666650   \n",
       "3  Whole Transcriptome sequencing and analaysis i...           SRX8666750   \n",
       "4  Transcriptomic changes  in Avicennia marina in...           SRX1030223   \n",
       "\n",
       "                                    experiment_title  \\\n",
       "0     RNA-seq of Adenophora stricta subsp. stricta :   \n",
       "1                leaf+stem RNA of Adenophora stricta   \n",
       "2  RNASeq to identify salt responsive genes from ...   \n",
       "3                  RNASeq from Avicennia leaf tissue   \n",
       "4  Avicennia marina A1 accession control leaf tra...   \n",
       "\n",
       "                                     experiment_desc  organism_taxid  \\\n",
       "0     RNA-seq of Adenophora stricta subsp. stricta :           82270   \n",
       "1                leaf+stem RNA of Adenophora stricta           82279   \n",
       "2  RNASeq to identify salt responsive genes from ...           82927   \n",
       "3                  RNASeq from Avicennia leaf tissue           82927   \n",
       "4  Avicennia marina A1 accession control leaf tra...           82927   \n",
       "\n",
       "       library_name library_strategy  ...     biosample   bioproject  \\\n",
       "0   am_Leaf_salt_0h          RNA-Seq  ...  SAMN15447932  PRJNA643813   \n",
       "1    am_rnaseq_leaf          RNA-Seq  ...  SAMN15447991  PRJNA392014   \n",
       "2  Ed16S-AVM1-1-5cm          RNA-Seq  ...  SAMN15492854  PRJNA644929   \n",
       "3    RA_leaf_500_r2          RNA-Seq  ...  SAMN22185018  PRJNA719266   \n",
       "4   Arumphiana_leaf          RNA-Seq  ...  SAMN26804911  PRJNA817364   \n",
       "\n",
       "              instrument       instrument_model instrument_model_desc  \\\n",
       "0            NextSeq 500            NextSeq 500              ILLUMINA   \n",
       "1            NextSeq 500            NextSeq 500              ILLUMINA   \n",
       "2         Illumina MiSeq         Illumina MiSeq              ILLUMINA   \n",
       "3    Illumina HiSeq 2000    Illumina HiSeq 2000              ILLUMINA   \n",
       "4  Illumina NovaSeq 6000  Illumina NovaSeq 6000              ILLUMINA   \n",
       "\n",
       "  total_spots  total_size run_accession run_total_spots run_total_bases  \n",
       "0    11648210   757097881   SRR12145926        11648210      1750406459  \n",
       "1    54006517  6346122539   SRR12146026        54006517     14987554557  \n",
       "2       49648    17902988   SRR12185868           49648        29735410  \n",
       "3    26620432  3597436477   SRR16279084        26620432      5270845536  \n",
       "4    30063634  3007376940   SRR18449582        30063634      9019090200  \n",
       "\n",
       "[5 rows x 25 columns]"
      ]
     },
     "execution_count": 100,
     "metadata": {},
     "output_type": "execute_result"
    }
   ],
   "source": [
    "with_read_lens = pd.read_csv('/mnt/research/Walker_Lab_Research/Serena_project_data/selection-under-heat_data/sra_study_info/filtered_single_rep_studies_15Sep2025_with_read_lengths.csv')\n",
    "with_read_lens = with_read_lens.drop(columns='Unnamed: 8')\n",
    "with_read_lens.head()"
   ]
  },
  {
   "cell_type": "markdown",
   "id": "ea48af58-6ed1-4c03-b3e3-e9063d57a1fe",
   "metadata": {},
   "source": [
    "Because we had additional fields to filter on, the newer data frame will have some studies dropped compared to the old if having the additional fields identified leaf-specific studies. The symptom of this in the merged dataframe is rows that have a run accession but no other information; we'll drop any rows that have no organism name."
   ]
  },
  {
   "cell_type": "code",
   "execution_count": 101,
   "id": "ec30c9d5-5c82-4b6e-9bcd-dba3c87432ab",
   "metadata": {},
   "outputs": [],
   "source": [
    "# Fix the type of this one col that causes an issue\n",
    "all_studies_df.sample_title = all_studies_df.sample_title.astype('object')\n",
    "# Merge\n",
    "merged = all_studies_df.merge(with_read_lens, left_on='run_accession', right_on='run_accession', suffixes=('_new', '_old'), how='outer')\n",
    "# Drop cols from old\n",
    "merged = merged.drop(columns=[col for col in merged.columns if col[-4:] == '_old'])\n",
    "# Drop _new suffix\n",
    "merged.columns = merged.columns.str.replace('_new', '', regex=False)\n",
    "# Drop rows with no info in the organism name column\n",
    "merged = merged.dropna(subset=['organism_name'])"
   ]
  },
  {
   "cell_type": "code",
   "execution_count": 103,
   "id": "de6378f9-1603-4c5e-aeaf-9a1c558bc853",
   "metadata": {},
   "outputs": [
    {
     "data": {
      "text/html": [
       "<div>\n",
       "<style scoped>\n",
       "    .dataframe tbody tr th:only-of-type {\n",
       "        vertical-align: middle;\n",
       "    }\n",
       "\n",
       "    .dataframe tbody tr th {\n",
       "        vertical-align: top;\n",
       "    }\n",
       "\n",
       "    .dataframe thead th {\n",
       "        text-align: right;\n",
       "    }\n",
       "</style>\n",
       "<table border=\"1\" class=\"dataframe\">\n",
       "  <thead>\n",
       "    <tr style=\"text-align: right;\">\n",
       "      <th></th>\n",
       "      <th>organism_name</th>\n",
       "      <th>run_accession</th>\n",
       "      <th>len_reads</th>\n",
       "      <th>tissue</th>\n",
       "      <th>tissue_type</th>\n",
       "      <th>study_accession</th>\n",
       "      <th>study_title</th>\n",
       "      <th>experiment_accession</th>\n",
       "      <th>experiment_title</th>\n",
       "      <th>experiment_desc</th>\n",
       "      <th>...</th>\n",
       "      <th>subsrc_note</th>\n",
       "      <th>authority</th>\n",
       "      <th>library name</th>\n",
       "      <th>sample type</th>\n",
       "      <th>geo_loc</th>\n",
       "      <th>plant_id</th>\n",
       "      <th>geographic location</th>\n",
       "      <th>time</th>\n",
       "      <th>source population</th>\n",
       "      <th>tag</th>\n",
       "    </tr>\n",
       "  </thead>\n",
       "  <tbody>\n",
       "    <tr>\n",
       "      <th>0</th>\n",
       "      <td>Avicennia marina</td>\n",
       "      <td>DRR119672</td>\n",
       "      <td>NaN</td>\n",
       "      <td>NaN</td>\n",
       "      <td>leaf</td>\n",
       "      <td>DRP004551</td>\n",
       "      <td>Avicennia marina leaves transcriptome</td>\n",
       "      <td>DRX112674</td>\n",
       "      <td>Illumina HiSeq 1500 paired end sequencing of S...</td>\n",
       "      <td>Illumina HiSeq 1500 paired end sequencing of S...</td>\n",
       "      <td>...</td>\n",
       "      <td>NaN</td>\n",
       "      <td>NaN</td>\n",
       "      <td>NaN</td>\n",
       "      <td>NaN</td>\n",
       "      <td>NaN</td>\n",
       "      <td>NaN</td>\n",
       "      <td>NaN</td>\n",
       "      <td>NaN</td>\n",
       "      <td>NaN</td>\n",
       "      <td>NaN</td>\n",
       "    </tr>\n",
       "    <tr>\n",
       "      <th>2</th>\n",
       "      <td>Boechera gunnisoniana</td>\n",
       "      <td>ERR1548596</td>\n",
       "      <td>101</td>\n",
       "      <td>NaN</td>\n",
       "      <td>NaN</td>\n",
       "      <td>ERP016601</td>\n",
       "      <td>Abiotic stress-response reprogramming events u...</td>\n",
       "      <td>ERX1619366</td>\n",
       "      <td>Illumina HiSeq 2000 paired end sequencing; Abi...</td>\n",
       "      <td>Illumina HiSeq 2000 paired end sequencing; Abi...</td>\n",
       "      <td>...</td>\n",
       "      <td>NaN</td>\n",
       "      <td>NaN</td>\n",
       "      <td>NaN</td>\n",
       "      <td>NaN</td>\n",
       "      <td>NaN</td>\n",
       "      <td>NaN</td>\n",
       "      <td>NaN</td>\n",
       "      <td>NaN</td>\n",
       "      <td>NaN</td>\n",
       "      <td>NaN</td>\n",
       "    </tr>\n",
       "    <tr>\n",
       "      <th>4</th>\n",
       "      <td>Sesuvium verrucosum</td>\n",
       "      <td>ERR2040195</td>\n",
       "      <td>NaN</td>\n",
       "      <td>NaN</td>\n",
       "      <td>NaN</td>\n",
       "      <td>ERP023948</td>\n",
       "      <td>1000 Plant (1KP) Transcriptomes: The Remaining...</td>\n",
       "      <td>ERX2099252</td>\n",
       "      <td>Illumina HiSeq 2000 paired end sequencing</td>\n",
       "      <td>Illumina HiSeq 2000 paired end sequencing</td>\n",
       "      <td>...</td>\n",
       "      <td>NaN</td>\n",
       "      <td>NaN</td>\n",
       "      <td>NaN</td>\n",
       "      <td>NaN</td>\n",
       "      <td>NaN</td>\n",
       "      <td>NaN</td>\n",
       "      <td>NaN</td>\n",
       "      <td>NaN</td>\n",
       "      <td>NaN</td>\n",
       "      <td>NaN</td>\n",
       "    </tr>\n",
       "    <tr>\n",
       "      <th>5</th>\n",
       "      <td>Trigastrotheca pentaphylla</td>\n",
       "      <td>ERR2040238</td>\n",
       "      <td>NaN</td>\n",
       "      <td>NaN</td>\n",
       "      <td>NaN</td>\n",
       "      <td>ERP023948</td>\n",
       "      <td>1000 Plant (1KP) Transcriptomes: The Remaining...</td>\n",
       "      <td>ERX2099295</td>\n",
       "      <td>Illumina HiSeq 2000 paired end sequencing</td>\n",
       "      <td>Illumina HiSeq 2000 paired end sequencing</td>\n",
       "      <td>...</td>\n",
       "      <td>NaN</td>\n",
       "      <td>NaN</td>\n",
       "      <td>NaN</td>\n",
       "      <td>NaN</td>\n",
       "      <td>NaN</td>\n",
       "      <td>NaN</td>\n",
       "      <td>NaN</td>\n",
       "      <td>NaN</td>\n",
       "      <td>NaN</td>\n",
       "      <td>NaN</td>\n",
       "    </tr>\n",
       "    <tr>\n",
       "      <th>6</th>\n",
       "      <td>Mollugo verticillata</td>\n",
       "      <td>ERR2040239</td>\n",
       "      <td>NaN</td>\n",
       "      <td>NaN</td>\n",
       "      <td>NaN</td>\n",
       "      <td>ERP023948</td>\n",
       "      <td>1000 Plant (1KP) Transcriptomes: The Remaining...</td>\n",
       "      <td>ERX2099296</td>\n",
       "      <td>Illumina HiSeq 2000 paired end sequencing</td>\n",
       "      <td>Illumina HiSeq 2000 paired end sequencing</td>\n",
       "      <td>...</td>\n",
       "      <td>NaN</td>\n",
       "      <td>NaN</td>\n",
       "      <td>NaN</td>\n",
       "      <td>NaN</td>\n",
       "      <td>NaN</td>\n",
       "      <td>NaN</td>\n",
       "      <td>NaN</td>\n",
       "      <td>NaN</td>\n",
       "      <td>NaN</td>\n",
       "      <td>NaN</td>\n",
       "    </tr>\n",
       "  </tbody>\n",
       "</table>\n",
       "<p>5 rows × 353 columns</p>\n",
       "</div>"
      ],
      "text/plain": [
       "                organism_name run_accession len_reads tissue tissue_type  \\\n",
       "0            Avicennia marina     DRR119672       NaN    NaN        leaf   \n",
       "2       Boechera gunnisoniana    ERR1548596       101    NaN         NaN   \n",
       "4         Sesuvium verrucosum    ERR2040195       NaN    NaN         NaN   \n",
       "5  Trigastrotheca pentaphylla    ERR2040238       NaN    NaN         NaN   \n",
       "6        Mollugo verticillata    ERR2040239       NaN    NaN         NaN   \n",
       "\n",
       "  study_accession                                        study_title  \\\n",
       "0       DRP004551              Avicennia marina leaves transcriptome   \n",
       "2       ERP016601  Abiotic stress-response reprogramming events u...   \n",
       "4       ERP023948  1000 Plant (1KP) Transcriptomes: The Remaining...   \n",
       "5       ERP023948  1000 Plant (1KP) Transcriptomes: The Remaining...   \n",
       "6       ERP023948  1000 Plant (1KP) Transcriptomes: The Remaining...   \n",
       "\n",
       "  experiment_accession                                   experiment_title  \\\n",
       "0            DRX112674  Illumina HiSeq 1500 paired end sequencing of S...   \n",
       "2           ERX1619366  Illumina HiSeq 2000 paired end sequencing; Abi...   \n",
       "4           ERX2099252          Illumina HiSeq 2000 paired end sequencing   \n",
       "5           ERX2099295          Illumina HiSeq 2000 paired end sequencing   \n",
       "6           ERX2099296          Illumina HiSeq 2000 paired end sequencing   \n",
       "\n",
       "                                     experiment_desc  ...  subsrc_note  \\\n",
       "0  Illumina HiSeq 1500 paired end sequencing of S...  ...          NaN   \n",
       "2  Illumina HiSeq 2000 paired end sequencing; Abi...  ...          NaN   \n",
       "4          Illumina HiSeq 2000 paired end sequencing  ...          NaN   \n",
       "5          Illumina HiSeq 2000 paired end sequencing  ...          NaN   \n",
       "6          Illumina HiSeq 2000 paired end sequencing  ...          NaN   \n",
       "\n",
       "  authority library name sample type geo_loc plant_id geographic location  \\\n",
       "0       NaN          NaN         NaN     NaN      NaN                 NaN   \n",
       "2       NaN          NaN         NaN     NaN      NaN                 NaN   \n",
       "4       NaN          NaN         NaN     NaN      NaN                 NaN   \n",
       "5       NaN          NaN         NaN     NaN      NaN                 NaN   \n",
       "6       NaN          NaN         NaN     NaN      NaN                 NaN   \n",
       "\n",
       "  time source population tag  \n",
       "0  NaN               NaN NaN  \n",
       "2  NaN               NaN NaN  \n",
       "4  NaN               NaN NaN  \n",
       "5  NaN               NaN NaN  \n",
       "6  NaN               NaN NaN  \n",
       "\n",
       "[5 rows x 353 columns]"
      ]
     },
     "execution_count": 103,
     "metadata": {},
     "output_type": "execute_result"
    }
   ],
   "source": [
    "# Make the first three columns be the species, the run accession, and the read length\n",
    "merged = merged[['organism_name', 'run_accession', 'len_reads', 'tissue', 'tissue_type'] + [col for col in merged.columns if col not in ['organism_name', 'run_accession', 'len_reads', 'tissue', 'tissue_type']]]\n",
    "merged.head()"
   ]
  },
  {
   "cell_type": "code",
   "execution_count": 104,
   "id": "3316810a-90a2-49e0-8118-6b2c6e3ccd49",
   "metadata": {},
   "outputs": [],
   "source": [
    "merged.to_csv(f'/mnt/research/Walker_Lab_Research/Serena_project_data/selection-under-heat_data/sra_study_info/filtered_single_rep_studies_{run_date}_with_len_reads.csv', index=False)"
   ]
  },
  {
   "cell_type": "markdown",
   "id": "fc7ce8bc-9e44-4f26-8b80-cb63eb2550f0",
   "metadata": {},
   "source": [
    "## Getting fastq files\n",
    "After exporting the above file, I manually checked read lengths and removed most duplicate samples. For those with similar length paired read samples, I left duplicates if (a) I thought it would be valuable or (b) if I wasn't certain about the tissue origin for the samples. Here, we'll read back in the manually finalized dataframe and use it to download the datasets."
   ]
  },
  {
   "cell_type": "code",
   "execution_count": 105,
   "id": "a363c686-6818-4f0a-a8ef-59493230e8b4",
   "metadata": {},
   "outputs": [
    {
     "data": {
      "text/html": [
       "<div>\n",
       "<style scoped>\n",
       "    .dataframe tbody tr th:only-of-type {\n",
       "        vertical-align: middle;\n",
       "    }\n",
       "\n",
       "    .dataframe tbody tr th {\n",
       "        vertical-align: top;\n",
       "    }\n",
       "\n",
       "    .dataframe thead th {\n",
       "        text-align: right;\n",
       "    }\n",
       "</style>\n",
       "<table border=\"1\" class=\"dataframe\">\n",
       "  <thead>\n",
       "    <tr style=\"text-align: right;\">\n",
       "      <th></th>\n",
       "      <th>organism_name</th>\n",
       "      <th>run_accession</th>\n",
       "      <th>len_reads</th>\n",
       "      <th>tissue</th>\n",
       "      <th>tissue_type</th>\n",
       "      <th>study_accession</th>\n",
       "      <th>study_title</th>\n",
       "      <th>experiment_accession</th>\n",
       "      <th>experiment_title</th>\n",
       "      <th>experiment_desc</th>\n",
       "      <th>...</th>\n",
       "      <th>subsrc_note</th>\n",
       "      <th>authority</th>\n",
       "      <th>library name</th>\n",
       "      <th>sample type</th>\n",
       "      <th>geo_loc</th>\n",
       "      <th>plant_id</th>\n",
       "      <th>geographic location</th>\n",
       "      <th>time</th>\n",
       "      <th>source population</th>\n",
       "      <th>tag</th>\n",
       "    </tr>\n",
       "  </thead>\n",
       "  <tbody>\n",
       "    <tr>\n",
       "      <th>0</th>\n",
       "      <td>Adenophora stricta</td>\n",
       "      <td>SRR31592529</td>\n",
       "      <td>150</td>\n",
       "      <td>leaf-stem</td>\n",
       "      <td>NaN</td>\n",
       "      <td>SRP549143</td>\n",
       "      <td>This BioProject includes raw sequencing data f...</td>\n",
       "      <td>SRX26957374</td>\n",
       "      <td>leaf+stem RNA of Adenophora stricta</td>\n",
       "      <td>leaf+stem RNA of Adenophora stricta</td>\n",
       "      <td>...</td>\n",
       "      <td>NaN</td>\n",
       "      <td>NaN</td>\n",
       "      <td>NaN</td>\n",
       "      <td>NaN</td>\n",
       "      <td>NaN</td>\n",
       "      <td>NaN</td>\n",
       "      <td>NaN</td>\n",
       "      <td>NaN</td>\n",
       "      <td>NaN</td>\n",
       "      <td>NaN</td>\n",
       "    </tr>\n",
       "    <tr>\n",
       "      <th>1</th>\n",
       "      <td>Avicennia marina</td>\n",
       "      <td>SRR12145926</td>\n",
       "      <td>150</td>\n",
       "      <td>Leaf</td>\n",
       "      <td>NaN</td>\n",
       "      <td>SRP270003</td>\n",
       "      <td>RNASeq to identify salt responsive genes from ...</td>\n",
       "      <td>SRX8666650</td>\n",
       "      <td>RNASeq to identify salt responsive genes from ...</td>\n",
       "      <td>RNASeq to identify salt responsive genes from ...</td>\n",
       "      <td>...</td>\n",
       "      <td>NaN</td>\n",
       "      <td>NaN</td>\n",
       "      <td>NaN</td>\n",
       "      <td>NaN</td>\n",
       "      <td>NaN</td>\n",
       "      <td>NaN</td>\n",
       "      <td>NaN</td>\n",
       "      <td>NaN</td>\n",
       "      <td>NaN</td>\n",
       "      <td>NaN</td>\n",
       "    </tr>\n",
       "    <tr>\n",
       "      <th>2</th>\n",
       "      <td>Avicennia marina</td>\n",
       "      <td>SRR12146026</td>\n",
       "      <td>150</td>\n",
       "      <td>Leaf</td>\n",
       "      <td>NaN</td>\n",
       "      <td>SRP270005</td>\n",
       "      <td>Whole Transcriptome sequencing and analaysis i...</td>\n",
       "      <td>SRX8666750</td>\n",
       "      <td>RNASeq from Avicennia leaf tissue</td>\n",
       "      <td>RNASeq from Avicennia leaf tissue</td>\n",
       "      <td>...</td>\n",
       "      <td>NaN</td>\n",
       "      <td>NaN</td>\n",
       "      <td>NaN</td>\n",
       "      <td>NaN</td>\n",
       "      <td>NaN</td>\n",
       "      <td>NaN</td>\n",
       "      <td>NaN</td>\n",
       "      <td>NaN</td>\n",
       "      <td>NaN</td>\n",
       "      <td>NaN</td>\n",
       "    </tr>\n",
       "    <tr>\n",
       "      <th>3</th>\n",
       "      <td>Avicennia marina subsp. australasica</td>\n",
       "      <td>SRR18449588</td>\n",
       "      <td>100</td>\n",
       "      <td>leaf</td>\n",
       "      <td>NaN</td>\n",
       "      <td>SRP365449</td>\n",
       "      <td>Mangrove Genome Project</td>\n",
       "      <td>SRX14582333</td>\n",
       "      <td>Amarinaau_leaf</td>\n",
       "      <td>Amarinaau_leaf</td>\n",
       "      <td>...</td>\n",
       "      <td>NaN</td>\n",
       "      <td>NaN</td>\n",
       "      <td>NaN</td>\n",
       "      <td>NaN</td>\n",
       "      <td>NaN</td>\n",
       "      <td>NaN</td>\n",
       "      <td>NaN</td>\n",
       "      <td>NaN</td>\n",
       "      <td>NaN</td>\n",
       "      <td>NaN</td>\n",
       "    </tr>\n",
       "    <tr>\n",
       "      <th>4</th>\n",
       "      <td>Avicennia marina subsp. eucalyptifolia</td>\n",
       "      <td>SRR18449587</td>\n",
       "      <td>100</td>\n",
       "      <td>leaf</td>\n",
       "      <td>NaN</td>\n",
       "      <td>SRP365449</td>\n",
       "      <td>Mangrove Genome Project</td>\n",
       "      <td>SRX14582334</td>\n",
       "      <td>Amarinaeu_leaf</td>\n",
       "      <td>Amarinaeu_leaf</td>\n",
       "      <td>...</td>\n",
       "      <td>NaN</td>\n",
       "      <td>NaN</td>\n",
       "      <td>NaN</td>\n",
       "      <td>NaN</td>\n",
       "      <td>NaN</td>\n",
       "      <td>NaN</td>\n",
       "      <td>NaN</td>\n",
       "      <td>NaN</td>\n",
       "      <td>NaN</td>\n",
       "      <td>NaN</td>\n",
       "    </tr>\n",
       "  </tbody>\n",
       "</table>\n",
       "<p>5 rows × 353 columns</p>\n",
       "</div>"
      ],
      "text/plain": [
       "                            organism_name run_accession len_reads     tissue  \\\n",
       "0                      Adenophora stricta   SRR31592529       150  leaf-stem   \n",
       "1                        Avicennia marina   SRR12145926       150       Leaf   \n",
       "2                        Avicennia marina   SRR12146026       150       Leaf   \n",
       "3    Avicennia marina subsp. australasica   SRR18449588       100       leaf   \n",
       "4  Avicennia marina subsp. eucalyptifolia   SRR18449587       100       leaf   \n",
       "\n",
       "  tissue_type study_accession  \\\n",
       "0         NaN       SRP549143   \n",
       "1         NaN       SRP270003   \n",
       "2         NaN       SRP270005   \n",
       "3         NaN       SRP365449   \n",
       "4         NaN       SRP365449   \n",
       "\n",
       "                                         study_title experiment_accession  \\\n",
       "0  This BioProject includes raw sequencing data f...          SRX26957374   \n",
       "1  RNASeq to identify salt responsive genes from ...           SRX8666650   \n",
       "2  Whole Transcriptome sequencing and analaysis i...           SRX8666750   \n",
       "3                            Mangrove Genome Project          SRX14582333   \n",
       "4                            Mangrove Genome Project          SRX14582334   \n",
       "\n",
       "                                    experiment_title  \\\n",
       "0                leaf+stem RNA of Adenophora stricta   \n",
       "1  RNASeq to identify salt responsive genes from ...   \n",
       "2                  RNASeq from Avicennia leaf tissue   \n",
       "3                                     Amarinaau_leaf   \n",
       "4                                     Amarinaeu_leaf   \n",
       "\n",
       "                                     experiment_desc  ...  subsrc_note  \\\n",
       "0                leaf+stem RNA of Adenophora stricta  ...          NaN   \n",
       "1  RNASeq to identify salt responsive genes from ...  ...          NaN   \n",
       "2                  RNASeq from Avicennia leaf tissue  ...          NaN   \n",
       "3                                     Amarinaau_leaf  ...          NaN   \n",
       "4                                     Amarinaeu_leaf  ...          NaN   \n",
       "\n",
       "  authority library name sample type geo_loc plant_id geographic location  \\\n",
       "0       NaN          NaN         NaN     NaN      NaN                 NaN   \n",
       "1       NaN          NaN         NaN     NaN      NaN                 NaN   \n",
       "2       NaN          NaN         NaN     NaN      NaN                 NaN   \n",
       "3       NaN          NaN         NaN     NaN      NaN                 NaN   \n",
       "4       NaN          NaN         NaN     NaN      NaN                 NaN   \n",
       "\n",
       "   time source population tag  \n",
       "0   NaN               NaN NaN  \n",
       "1   NaN               NaN NaN  \n",
       "2   NaN               NaN NaN  \n",
       "3   NaN               NaN NaN  \n",
       "4   NaN               NaN NaN  \n",
       "\n",
       "[5 rows x 353 columns]"
      ]
     },
     "execution_count": 105,
     "metadata": {},
     "output_type": "execute_result"
    }
   ],
   "source": [
    "final_df = pd.read_csv('/mnt/research/Walker_Lab_Research/Serena_project_data/selection-under-heat_data/sra_study_info/filtered_single_rep_studies_18Sep2025_manual_filtering.csv')\n",
    "final_df.head()"
   ]
  },
  {
   "cell_type": "markdown",
   "id": "bd0d24e3-ed20-48c0-9da1-160c1076035c",
   "metadata": {},
   "source": [
    "Rather than use the SRA toolkit, which is prohibitively slow, we'll use `pysradb` with the `detailed` option to get FTP links for the data we're interested in."
   ]
  },
  {
   "cell_type": "code",
   "execution_count": 107,
   "id": "86dbf756-434c-4514-a831-b82c17725b5d",
   "metadata": {},
   "outputs": [],
   "source": [
    "db = SRAweb()"
   ]
  },
  {
   "cell_type": "code",
   "execution_count": 108,
   "id": "1bfc3d2b-3d7e-4a33-afb1-b93b3e1971c7",
   "metadata": {},
   "outputs": [
    {
     "name": "stdout",
     "output_type": "stream",
     "text": [
      "0    leaf-stem\n",
      "Name: tissue, dtype: object\n",
      "0    Leaf\n",
      "Name: tissue, dtype: object\n",
      "0    Leaf\n",
      "Name: tissue, dtype: object\n"
     ]
    },
    {
     "ename": "KeyboardInterrupt",
     "evalue": "",
     "output_type": "error",
     "traceback": [
      "\u001b[0;31m---------------------------------------------------------------------------\u001b[0m",
      "\u001b[0;31mKeyboardInterrupt\u001b[0m                         Traceback (most recent call last)",
      "Cell \u001b[0;32mIn[108], line 3\u001b[0m\n\u001b[1;32m      1\u001b[0m ftp_links \u001b[38;5;241m=\u001b[39m {}\n\u001b[1;32m      2\u001b[0m \u001b[38;5;28;01mfor\u001b[39;00m run \u001b[38;5;129;01min\u001b[39;00m final_df\u001b[38;5;241m.\u001b[39mrun_accession\u001b[38;5;241m.\u001b[39mtolist():\n\u001b[0;32m----> 3\u001b[0m     metadata \u001b[38;5;241m=\u001b[39m \u001b[43mdb\u001b[49m\u001b[38;5;241;43m.\u001b[39;49m\u001b[43msra_metadata\u001b[49m\u001b[43m(\u001b[49m\u001b[43mrun\u001b[49m\u001b[43m,\u001b[49m\u001b[43m \u001b[49m\u001b[43mdetailed\u001b[49m\u001b[38;5;241;43m=\u001b[39;49m\u001b[38;5;28;43;01mTrue\u001b[39;49;00m\u001b[43m)\u001b[49m\n\u001b[1;32m      4\u001b[0m     \u001b[38;5;28;01mtry\u001b[39;00m:\n\u001b[1;32m      5\u001b[0m         \u001b[38;5;28mprint\u001b[39m(metadata\u001b[38;5;241m.\u001b[39mtissue)\n",
      "File \u001b[0;32m~/.conda/envs/omics/lib/python3.10/site-packages/pysradb/sraweb.py:560\u001b[0m, in \u001b[0;36mSRAweb.sra_metadata\u001b[0;34m(self, srp, sample_attribute, detailed, expand_sample_attributes, output_read_lengths, **kwargs)\u001b[0m\n\u001b[1;32m    557\u001b[0m     \u001b[38;5;28;01mreturn\u001b[39;00m metadata_df\n\u001b[1;32m    559\u001b[0m time\u001b[38;5;241m.\u001b[39msleep(\u001b[38;5;28mself\u001b[39m\u001b[38;5;241m.\u001b[39msleep_time)\n\u001b[0;32m--> 560\u001b[0m efetch_result \u001b[38;5;241m=\u001b[39m \u001b[38;5;28;43mself\u001b[39;49m\u001b[38;5;241;43m.\u001b[39;49m\u001b[43mget_efetch_response\u001b[49m\u001b[43m(\u001b[49m\u001b[38;5;124;43m\"\u001b[39;49m\u001b[38;5;124;43msra\u001b[39;49m\u001b[38;5;124;43m\"\u001b[39;49m\u001b[43m,\u001b[49m\u001b[43m \u001b[49m\u001b[43msrp\u001b[49m\u001b[43m)\u001b[49m\n\u001b[1;32m    561\u001b[0m \u001b[38;5;28;01mif\u001b[39;00m \u001b[38;5;129;01mnot\u001b[39;00m \u001b[38;5;28misinstance\u001b[39m(efetch_result, \u001b[38;5;28mlist\u001b[39m):\n\u001b[1;32m    562\u001b[0m     \u001b[38;5;28;01mif\u001b[39;00m efetch_result:\n",
      "File \u001b[0;32m~/.conda/envs/omics/lib/python3.10/site-packages/pysradb/sraweb.py:369\u001b[0m, in \u001b[0;36mSRAweb.get_efetch_response\u001b[0;34m(self, db, term, usehistory)\u001b[0m\n\u001b[1;32m    367\u001b[0m         sys\u001b[38;5;241m.\u001b[39mstderr\u001b[38;5;241m.\u001b[39mwrite(\u001b[38;5;124m\"\u001b[39m\u001b[38;5;124mEncountered error while making request.\u001b[39m\u001b[38;5;130;01m\\n\u001b[39;00m\u001b[38;5;124m\"\u001b[39m)\n\u001b[1;32m    368\u001b[0m         sys\u001b[38;5;241m.\u001b[39mexit(\u001b[38;5;241m1\u001b[39m)\n\u001b[0;32m--> 369\u001b[0m \u001b[43mtime\u001b[49m\u001b[38;5;241;43m.\u001b[39;49m\u001b[43msleep\u001b[49m\u001b[43m(\u001b[49m\u001b[38;5;28;43mint\u001b[39;49m\u001b[43m(\u001b[49m\u001b[43mretry_after\u001b[49m\u001b[43m)\u001b[49m\u001b[43m)\u001b[49m\n\u001b[1;32m    370\u001b[0m \u001b[38;5;66;03m# try again\u001b[39;00m\n\u001b[1;32m    371\u001b[0m request \u001b[38;5;241m=\u001b[39m requests\u001b[38;5;241m.\u001b[39mget(\n\u001b[1;32m    372\u001b[0m     \u001b[38;5;28mself\u001b[39m\u001b[38;5;241m.\u001b[39mbase_url[\u001b[38;5;124m\"\u001b[39m\u001b[38;5;124mefetch\u001b[39m\u001b[38;5;124m\"\u001b[39m], params\u001b[38;5;241m=\u001b[39mOrderedDict(payload)\n\u001b[1;32m    373\u001b[0m )\n",
      "\u001b[0;31mKeyboardInterrupt\u001b[0m: "
     ]
    }
   ],
   "source": [
    "ftp_links = {}\n"
   ]
  }
 ],
 "metadata": {
  "kernelspec": {
   "display_name": "omics",
   "language": "python",
   "name": "omics"
  },
  "language_info": {
   "codemirror_mode": {
    "name": "ipython",
    "version": 3
   },
   "file_extension": ".py",
   "mimetype": "text/x-python",
   "name": "python",
   "nbconvert_exporter": "python",
   "pygments_lexer": "ipython3",
   "version": "3.10.14"
  }
 },
 "nbformat": 4,
 "nbformat_minor": 5
}
