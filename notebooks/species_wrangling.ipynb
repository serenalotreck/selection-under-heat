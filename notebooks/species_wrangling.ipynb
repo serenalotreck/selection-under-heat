{
 "cells": [
  {
   "cell_type": "markdown",
   "id": "e5f5d334-e07d-45c4-8d02-d7f3cc37e8ae",
   "metadata": {},
   "source": [
    "# Species wrangling\n",
    "In this notebook, I'll combine some information about which species we're interested in using for this project (from manually created spreadsheets) and find sources for genomes/transcriptomes for those we don't already have."
   ]
  },
  {
   "cell_type": "code",
   "execution_count": 2,
   "id": "54fba714-681f-473e-a63c-4298986623e1",
   "metadata": {},
   "outputs": [
    {
     "name": "stderr",
     "output_type": "stream",
     "text": [
      "/mnt/home/lotrecks/.conda/envs/omics/lib/python3.10/site-packages/pysradb/utils.py:14: TqdmExperimentalWarning: Using `tqdm.autonotebook.tqdm` in notebook mode. Use `tqdm.tqdm` instead to force console mode (e.g. in jupyter console)\n",
      "  from tqdm.autonotebook import tqdm\n"
     ]
    }
   ],
   "source": [
    "import pandas as pd\n",
    "from os import listdir\n",
    "from os.path import isfile, exists\n",
    "from openpyxl import load_workbook\n",
    "from collections import defaultdict\n",
    "import numpy as np\n",
    "from pysradb.sraweb import SRAweb\n",
    "from tqdm import tqdm\n",
    "import subprocess"
   ]
  },
  {
   "cell_type": "code",
   "execution_count": 3,
   "id": "ad48a310-ea74-401d-a09b-d3ca64bdacb5",
   "metadata": {},
   "outputs": [],
   "source": [
    "run_date = '16Sep2025'"
   ]
  },
  {
   "cell_type": "markdown",
   "id": "17a50a75-d69a-4ecd-b6bb-19ad1c05a603",
   "metadata": {},
   "source": [
    "## Reading in the data"
   ]
  },
  {
   "cell_type": "code",
   "execution_count": 3,
   "id": "102a9dc6-85fa-451d-ac48-3a01762bcdc1",
   "metadata": {},
   "outputs": [
    {
     "data": {
      "text/html": [
       "<div>\n",
       "<style scoped>\n",
       "    .dataframe tbody tr th:only-of-type {\n",
       "        vertical-align: middle;\n",
       "    }\n",
       "\n",
       "    .dataframe tbody tr th {\n",
       "        vertical-align: top;\n",
       "    }\n",
       "\n",
       "    .dataframe thead th {\n",
       "        text-align: right;\n",
       "    }\n",
       "</style>\n",
       "<table border=\"1\" class=\"dataframe\">\n",
       "  <thead>\n",
       "    <tr style=\"text-align: right;\">\n",
       "      <th></th>\n",
       "      <th>abbreviated_species</th>\n",
       "      <th>species_gbif</th>\n",
       "      <th>species</th>\n",
       "      <th>common_name</th>\n",
       "      <th>has_genome</th>\n",
       "      <th>has_transcriptome</th>\n",
       "      <th>original_source</th>\n",
       "      <th>thermotolerance</th>\n",
       "      <th>reference</th>\n",
       "      <th>notes</th>\n",
       "    </tr>\n",
       "  </thead>\n",
       "  <tbody>\n",
       "    <tr>\n",
       "      <th>0</th>\n",
       "      <td>A. americanus</td>\n",
       "      <td>Acorus americanus</td>\n",
       "      <td>Acorus americanus</td>\n",
       "      <td>NaN</td>\n",
       "      <td>NaN</td>\n",
       "      <td>NaN</td>\n",
       "      <td>phytozome</td>\n",
       "      <td>NaN</td>\n",
       "      <td>NaN</td>\n",
       "      <td>NaN</td>\n",
       "    </tr>\n",
       "    <tr>\n",
       "      <th>1</th>\n",
       "      <td>A. tequilanavar</td>\n",
       "      <td>Agave tequilana</td>\n",
       "      <td>Agave tequilana</td>\n",
       "      <td>NaN</td>\n",
       "      <td>NaN</td>\n",
       "      <td>NaN</td>\n",
       "      <td>phytozome</td>\n",
       "      <td>NaN</td>\n",
       "      <td>NaN</td>\n",
       "      <td>NaN</td>\n",
       "    </tr>\n",
       "    <tr>\n",
       "      <th>2</th>\n",
       "      <td>A. officinalis</td>\n",
       "      <td>Althaea officinalis</td>\n",
       "      <td>Althaea officinalis</td>\n",
       "      <td>marsh-mallow</td>\n",
       "      <td>NaN</td>\n",
       "      <td>NaN</td>\n",
       "      <td>phytozome</td>\n",
       "      <td>NaN</td>\n",
       "      <td>NaN</td>\n",
       "      <td>NaN</td>\n",
       "    </tr>\n",
       "    <tr>\n",
       "      <th>3</th>\n",
       "      <td>A. linifolium</td>\n",
       "      <td>Alyssum linifolium</td>\n",
       "      <td>Alyssum linifolium</td>\n",
       "      <td>NaN</td>\n",
       "      <td>NaN</td>\n",
       "      <td>NaN</td>\n",
       "      <td>phytozome</td>\n",
       "      <td>NaN</td>\n",
       "      <td>NaN</td>\n",
       "      <td>NaN</td>\n",
       "    </tr>\n",
       "    <tr>\n",
       "      <th>4</th>\n",
       "      <td>A. hypochondriacus</td>\n",
       "      <td>Amaranthus hypochondriacus</td>\n",
       "      <td>Amaranthus hypochondriacus</td>\n",
       "      <td>NaN</td>\n",
       "      <td>NaN</td>\n",
       "      <td>NaN</td>\n",
       "      <td>phytozome</td>\n",
       "      <td>NaN</td>\n",
       "      <td>NaN</td>\n",
       "      <td>NaN</td>\n",
       "    </tr>\n",
       "  </tbody>\n",
       "</table>\n",
       "</div>"
      ],
      "text/plain": [
       "  abbreviated_species                species_gbif                     species  \\\n",
       "0       A. americanus           Acorus americanus           Acorus americanus   \n",
       "1     A. tequilanavar            Agave tequilana             Agave tequilana    \n",
       "2      A. officinalis         Althaea officinalis         Althaea officinalis   \n",
       "3       A. linifolium          Alyssum linifolium          Alyssum linifolium   \n",
       "4  A. hypochondriacus  Amaranthus hypochondriacus  Amaranthus hypochondriacus   \n",
       "\n",
       "    common_name  has_genome  has_transcriptome original_source  \\\n",
       "0           NaN         NaN                NaN       phytozome   \n",
       "1           NaN         NaN                NaN       phytozome   \n",
       "2  marsh-mallow         NaN                NaN       phytozome   \n",
       "3           NaN         NaN                NaN       phytozome   \n",
       "4           NaN         NaN                NaN       phytozome   \n",
       "\n",
       "  thermotolerance  reference notes  \n",
       "0             NaN        NaN   NaN  \n",
       "1             NaN        NaN   NaN  \n",
       "2             NaN        NaN   NaN  \n",
       "3             NaN        NaN   NaN  \n",
       "4             NaN        NaN   NaN  "
      ]
     },
     "execution_count": 3,
     "metadata": {},
     "output_type": "execute_result"
    }
   ],
   "source": [
    "phyto_origin = pd.read_csv('../data/species_info/species_info_full.csv')\n",
    "phyto_origin.head()"
   ]
  },
  {
   "cell_type": "markdown",
   "id": "32c1d714-7028-41a4-96d0-f7a1a83314af",
   "metadata": {},
   "source": [
    "Add a path for the genomes we already have:"
   ]
  },
  {
   "cell_type": "code",
   "execution_count": 4,
   "id": "437ee366-23c4-452d-97f1-d58080f0db09",
   "metadata": {},
   "outputs": [],
   "source": [
    "genome_top_path = '/mnt/research/Walker_Lab_Research/Serena_project_data/selection-under-heat_data/phytozome_genomes'\n",
    "sp_path = [(f\"{f.split('_')[0][0]}. {f.split('_')[0][1:]}\", f'{genome_top_path}/{f}') for f in listdir(genome_top_path)]\n",
    "sp_path_df = pd.DataFrame(sp_path, columns=['abbreviated_species', 'full_path'])\n",
    "phyto_paths = sp_path_df.merge(phyto_origin, left_on='abbreviated_species', right_on='abbreviated_species', how='right')"
   ]
  },
  {
   "cell_type": "markdown",
   "id": "24ad0094-9c4a-4f59-a1ec-6e043513a8fe",
   "metadata": {},
   "source": [
    "Include function to read URLs from Excel files:"
   ]
  },
  {
   "cell_type": "code",
   "execution_count": 5,
   "id": "b7873770-e059-400e-bb03-d32c6e97b858",
   "metadata": {},
   "outputs": [],
   "source": [
    "def get_hyperlink_columns(base_df, path, sheet_name):\n",
    "    \"\"\"\n",
    "    Use openpyxl to detect hyperlinks and add them as new columns.\n",
    "\n",
    "    From: https://github.com/serenalotreck/greencut-formatting/blob/main/notebooks/greencut_database_input_formatting.ipynb\n",
    "\n",
    "    parameters:\n",
    "        base_df, pandas df: the result of read_excel on path\n",
    "        path, str: path to the excel document\n",
    "        sheet_name, str: name of the sheet to read\n",
    "\n",
    "    returns:\n",
    "        updated_df, pandas df: base_df with added columns for hyperlinks\n",
    "    \"\"\"\n",
    "    # Load the workbook using openpyxl\n",
    "    workbook = load_workbook(path)\n",
    "    \n",
    "    # Select the sheet\n",
    "    sheet = workbook[sheet_name] if sheet_name else workbook.active\n",
    "\n",
    "    # Openpyxl will maintain rows that aren't relevant to the dataframe,\n",
    "    # whereas pandas.read_excel just drops those -- we need to make them agree\n",
    "    if sheet.max_row != len(base_df):\n",
    "        rows_to_delete = [i for i in range(len(base_df) + 1, sheet.max_row)]\n",
    "        for row_index in reversed(rows_to_delete):\n",
    "            sheet.delete_rows(row_index)\n",
    "\n",
    "    # Detect columns with hyperlinks\n",
    "    hyperlink_cols = defaultdict(list)\n",
    "    for row_idx, row in enumerate(sheet.iter_rows()):\n",
    "        # Skip the first row, since it's the header\n",
    "        if row_idx == 0:\n",
    "            continue\n",
    "        for col_index, cell in enumerate(row):\n",
    "            hyperlink = cell.hyperlink.target if cell.hyperlink else None\n",
    "            header_name = sheet.cell(row=1, column=col_index + 1).value\n",
    "            if hyperlink:\n",
    "                hyperlink_cols[header_name + \"_hyperlink\"].append(hyperlink)\n",
    "            else:\n",
    "                # We need to add NaN if there's no hyperlink to keep the values\n",
    "                # in the right rows, but this does mean we'll get non-hyperlink columns\n",
    "                hyperlink_cols[header_name + \"_hyperlink\"].append(np.nan)\n",
    "\n",
    "    # Create a df with the new columns\n",
    "    hyperlink_df = pd.DataFrame(hyperlink_cols)\n",
    "    \n",
    "    # Now remove any columns that are all NaN\n",
    "    hyperlink_df = hyperlink_df.dropna(axis=1, how='all')\n",
    "\n",
    "    # Concat this horizontally to the original df\n",
    "    updated_df = pd.concat([base_df, hyperlink_df], axis=1)\n",
    "\n",
    "    return updated_df"
   ]
  },
  {
   "cell_type": "code",
   "execution_count": 6,
   "id": "5bb9e670-439f-473a-9e91-d0d7c200bbb5",
   "metadata": {},
   "outputs": [
    {
     "data": {
      "text/html": [
       "<div>\n",
       "<style scoped>\n",
       "    .dataframe tbody tr th:only-of-type {\n",
       "        vertical-align: middle;\n",
       "    }\n",
       "\n",
       "    .dataframe tbody tr th {\n",
       "        vertical-align: top;\n",
       "    }\n",
       "\n",
       "    .dataframe thead th {\n",
       "        text-align: right;\n",
       "    }\n",
       "</style>\n",
       "<table border=\"1\" class=\"dataframe\">\n",
       "  <thead>\n",
       "    <tr style=\"text-align: right;\">\n",
       "      <th></th>\n",
       "      <th>Species_Name</th>\n",
       "      <th>Species_Notes</th>\n",
       "      <th>Transciptomic_data_in_NCBI_with_SRA_data</th>\n",
       "      <th>Publication_Link</th>\n",
       "      <th>Notes</th>\n",
       "    </tr>\n",
       "  </thead>\n",
       "  <tbody>\n",
       "    <tr>\n",
       "      <th>0</th>\n",
       "      <td>Heliotropium curisavvicum</td>\n",
       "      <td>a prostrate plant from the Mojave desert.  You...</td>\n",
       "      <td>NaN</td>\n",
       "      <td>NaN</td>\n",
       "      <td>Rowan suggested</td>\n",
       "    </tr>\n",
       "    <tr>\n",
       "      <th>1</th>\n",
       "      <td>Sesuvium verrucosum</td>\n",
       "      <td>Succulent halophytes from deserts and hot coas...</td>\n",
       "      <td>NaN</td>\n",
       "      <td>NaN</td>\n",
       "      <td>Rowan suggested</td>\n",
       "    </tr>\n",
       "    <tr>\n",
       "      <th>2</th>\n",
       "      <td>Sesuvium trianthema</td>\n",
       "      <td>Succulent halophytes from deserts and hot coas...</td>\n",
       "      <td>NaN</td>\n",
       "      <td>NaN</td>\n",
       "      <td>Rowan suggested</td>\n",
       "    </tr>\n",
       "    <tr>\n",
       "      <th>3</th>\n",
       "      <td>Ipomea pes-caprae</td>\n",
       "      <td>tropical beach vine, grows on hot sands of tro...</td>\n",
       "      <td>NaN</td>\n",
       "      <td>NaN</td>\n",
       "      <td>Rowan suggested</td>\n",
       "    </tr>\n",
       "    <tr>\n",
       "      <th>4</th>\n",
       "      <td>Mollugo verticillata</td>\n",
       "      <td>carpet weed.  Grows across blacktop that burns...</td>\n",
       "      <td>NaN</td>\n",
       "      <td>NaN</td>\n",
       "      <td>Rowan suggested</td>\n",
       "    </tr>\n",
       "  </tbody>\n",
       "</table>\n",
       "</div>"
      ],
      "text/plain": [
       "                Species_Name  \\\n",
       "0  Heliotropium curisavvicum   \n",
       "1        Sesuvium verrucosum   \n",
       "2        Sesuvium trianthema   \n",
       "3          Ipomea pes-caprae   \n",
       "4       Mollugo verticillata   \n",
       "\n",
       "                                       Species_Notes  \\\n",
       "0  a prostrate plant from the Mojave desert.  You...   \n",
       "1  Succulent halophytes from deserts and hot coas...   \n",
       "2  Succulent halophytes from deserts and hot coas...   \n",
       "3  tropical beach vine, grows on hot sands of tro...   \n",
       "4  carpet weed.  Grows across blacktop that burns...   \n",
       "\n",
       "   Transciptomic_data_in_NCBI_with_SRA_data Publication_Link            Notes  \n",
       "0                                       NaN              NaN  Rowan suggested  \n",
       "1                                       NaN              NaN  Rowan suggested  \n",
       "2                                       NaN              NaN  Rowan suggested  \n",
       "3                                       NaN              NaN  Rowan suggested  \n",
       "4                                       NaN              NaN  Rowan suggested  "
      ]
     },
     "execution_count": 6,
     "metadata": {},
     "output_type": "execute_result"
    }
   ],
   "source": [
    "with_lit = pd.read_excel('../data/species_info/thermophilic_plant_species.xlsx', sheet_name='Sheet1')\n",
    "with_lit.columns = with_lit.columns.str.replace(' ', '_')\n",
    "with_list = with_lit.apply(lambda x: x.str.strip() if x.dtype == \"object\" else x)\n",
    "with_lit.head()"
   ]
  },
  {
   "cell_type": "markdown",
   "id": "e6be122e-8acf-4690-8f41-93b7168c9e28",
   "metadata": {},
   "source": [
    "## Wrangling\n",
    "Drop specific rows we know don't have info from manually looking:"
   ]
  },
  {
   "cell_type": "code",
   "execution_count": 7,
   "id": "8fd40448-22f2-4f73-b424-f4f124302d14",
   "metadata": {},
   "outputs": [
    {
     "data": {
      "text/html": [
       "<div>\n",
       "<style scoped>\n",
       "    .dataframe tbody tr th:only-of-type {\n",
       "        vertical-align: middle;\n",
       "    }\n",
       "\n",
       "    .dataframe tbody tr th {\n",
       "        vertical-align: top;\n",
       "    }\n",
       "\n",
       "    .dataframe thead th {\n",
       "        text-align: right;\n",
       "    }\n",
       "</style>\n",
       "<table border=\"1\" class=\"dataframe\">\n",
       "  <thead>\n",
       "    <tr style=\"text-align: right;\">\n",
       "      <th></th>\n",
       "      <th>Species_Name</th>\n",
       "      <th>Species_Notes</th>\n",
       "      <th>Transciptomic_data_in_NCBI_with_SRA_data</th>\n",
       "      <th>Publication_Link</th>\n",
       "      <th>Notes</th>\n",
       "    </tr>\n",
       "  </thead>\n",
       "  <tbody>\n",
       "    <tr>\n",
       "      <th>120</th>\n",
       "      <td>Azorella trifurcata (Gaertn.) Pers.</td>\n",
       "      <td>NaN</td>\n",
       "      <td>NaN</td>\n",
       "      <td>NaN</td>\n",
       "      <td>Grows in the high Andes, super arid, appears t...</td>\n",
       "    </tr>\n",
       "    <tr>\n",
       "      <th>121</th>\n",
       "      <td>Azorella trisecta (H.Wolff) Mart.Fernández &amp; C...</td>\n",
       "      <td>NaN</td>\n",
       "      <td>NaN</td>\n",
       "      <td>NaN</td>\n",
       "      <td>Grows in the high Andes, super arid, appears t...</td>\n",
       "    </tr>\n",
       "    <tr>\n",
       "      <th>122</th>\n",
       "      <td>Azorella ulicina (Gillies &amp; Hook.) G.M.Plunket...</td>\n",
       "      <td>NaN</td>\n",
       "      <td>NaN</td>\n",
       "      <td>NaN</td>\n",
       "      <td>Grows in the high Andes, super arid, appears t...</td>\n",
       "    </tr>\n",
       "    <tr>\n",
       "      <th>123</th>\n",
       "      <td>Azorella valentini (Speg.) Mart.Fernández &amp; C....</td>\n",
       "      <td>NaN</td>\n",
       "      <td>NaN</td>\n",
       "      <td>NaN</td>\n",
       "      <td>Grows in the high Andes, super arid, appears t...</td>\n",
       "    </tr>\n",
       "    <tr>\n",
       "      <th>124</th>\n",
       "      <td>Cistanthe longiscapa</td>\n",
       "      <td>CAM species that grows in the atacama desert</td>\n",
       "      <td>NaN</td>\n",
       "      <td>NaN</td>\n",
       "      <td>Paper from Ariel Orellana, gave a talk in the ...</td>\n",
       "    </tr>\n",
       "  </tbody>\n",
       "</table>\n",
       "</div>"
      ],
      "text/plain": [
       "                                          Species_Name  \\\n",
       "120                Azorella trifurcata (Gaertn.) Pers.   \n",
       "121  Azorella trisecta (H.Wolff) Mart.Fernández & C...   \n",
       "122  Azorella ulicina (Gillies & Hook.) G.M.Plunket...   \n",
       "123  Azorella valentini (Speg.) Mart.Fernández & C....   \n",
       "124                               Cistanthe longiscapa   \n",
       "\n",
       "                                    Species_Notes  \\\n",
       "120                                           NaN   \n",
       "121                                           NaN   \n",
       "122                                           NaN   \n",
       "123                                           NaN   \n",
       "124  CAM species that grows in the atacama desert   \n",
       "\n",
       "     Transciptomic_data_in_NCBI_with_SRA_data Publication_Link  \\\n",
       "120                                       NaN              NaN   \n",
       "121                                       NaN              NaN   \n",
       "122                                       NaN              NaN   \n",
       "123                                       NaN              NaN   \n",
       "124                                       NaN              NaN   \n",
       "\n",
       "                                                 Notes  \n",
       "120  Grows in the high Andes, super arid, appears t...  \n",
       "121  Grows in the high Andes, super arid, appears t...  \n",
       "122  Grows in the high Andes, super arid, appears t...  \n",
       "123  Grows in the high Andes, super arid, appears t...  \n",
       "124  Paper from Ariel Orellana, gave a talk in the ...  "
      ]
     },
     "execution_count": 7,
     "metadata": {},
     "output_type": "execute_result"
    }
   ],
   "source": [
    "with_lit = with_lit.drop(index=[60,125])\n",
    "with_lit.tail()"
   ]
  },
  {
   "cell_type": "code",
   "execution_count": 8,
   "id": "a0c01e67-5931-4643-ad0d-cb1c8fafc874",
   "metadata": {},
   "outputs": [
    {
     "data": {
      "text/html": [
       "<div>\n",
       "<style scoped>\n",
       "    .dataframe tbody tr th:only-of-type {\n",
       "        vertical-align: middle;\n",
       "    }\n",
       "\n",
       "    .dataframe tbody tr th {\n",
       "        vertical-align: top;\n",
       "    }\n",
       "\n",
       "    .dataframe thead th {\n",
       "        text-align: right;\n",
       "    }\n",
       "</style>\n",
       "<table border=\"1\" class=\"dataframe\">\n",
       "  <thead>\n",
       "    <tr style=\"text-align: right;\">\n",
       "      <th></th>\n",
       "      <th>Species_Name</th>\n",
       "      <th>Species_Notes</th>\n",
       "      <th>Transciptomic_data_in_NCBI_with_SRA_data</th>\n",
       "      <th>Publication_Link</th>\n",
       "      <th>Notes</th>\n",
       "      <th>Species Name_hyperlink</th>\n",
       "    </tr>\n",
       "  </thead>\n",
       "  <tbody>\n",
       "    <tr>\n",
       "      <th>120</th>\n",
       "      <td>Azorella trifurcata (Gaertn.) Pers.</td>\n",
       "      <td>NaN</td>\n",
       "      <td>NaN</td>\n",
       "      <td>NaN</td>\n",
       "      <td>Grows in the high Andes, super arid, appears t...</td>\n",
       "      <td>https://en.wikipedia.org/w/index.php?title=Azo...</td>\n",
       "    </tr>\n",
       "    <tr>\n",
       "      <th>121</th>\n",
       "      <td>Azorella trisecta (H.Wolff) Mart.Fernández &amp; C...</td>\n",
       "      <td>NaN</td>\n",
       "      <td>NaN</td>\n",
       "      <td>NaN</td>\n",
       "      <td>Grows in the high Andes, super arid, appears t...</td>\n",
       "      <td>https://en.wikipedia.org/w/index.php?title=Azo...</td>\n",
       "    </tr>\n",
       "    <tr>\n",
       "      <th>122</th>\n",
       "      <td>Azorella ulicina (Gillies &amp; Hook.) G.M.Plunket...</td>\n",
       "      <td>NaN</td>\n",
       "      <td>NaN</td>\n",
       "      <td>NaN</td>\n",
       "      <td>Grows in the high Andes, super arid, appears t...</td>\n",
       "      <td>https://en.wikipedia.org/w/index.php?title=Azo...</td>\n",
       "    </tr>\n",
       "    <tr>\n",
       "      <th>123</th>\n",
       "      <td>Azorella valentini (Speg.) Mart.Fernández &amp; C....</td>\n",
       "      <td>NaN</td>\n",
       "      <td>NaN</td>\n",
       "      <td>NaN</td>\n",
       "      <td>Grows in the high Andes, super arid, appears t...</td>\n",
       "      <td>NaN</td>\n",
       "    </tr>\n",
       "    <tr>\n",
       "      <th>124</th>\n",
       "      <td>Cistanthe longiscapa</td>\n",
       "      <td>CAM species that grows in the atacama desert</td>\n",
       "      <td>NaN</td>\n",
       "      <td>NaN</td>\n",
       "      <td>Paper from Ariel Orellana, gave a talk in the ...</td>\n",
       "      <td>NaN</td>\n",
       "    </tr>\n",
       "  </tbody>\n",
       "</table>\n",
       "</div>"
      ],
      "text/plain": [
       "                                          Species_Name  \\\n",
       "120                Azorella trifurcata (Gaertn.) Pers.   \n",
       "121  Azorella trisecta (H.Wolff) Mart.Fernández & C...   \n",
       "122  Azorella ulicina (Gillies & Hook.) G.M.Plunket...   \n",
       "123  Azorella valentini (Speg.) Mart.Fernández & C....   \n",
       "124                               Cistanthe longiscapa   \n",
       "\n",
       "                                    Species_Notes  \\\n",
       "120                                           NaN   \n",
       "121                                           NaN   \n",
       "122                                           NaN   \n",
       "123                                           NaN   \n",
       "124  CAM species that grows in the atacama desert   \n",
       "\n",
       "     Transciptomic_data_in_NCBI_with_SRA_data Publication_Link  \\\n",
       "120                                       NaN              NaN   \n",
       "121                                       NaN              NaN   \n",
       "122                                       NaN              NaN   \n",
       "123                                       NaN              NaN   \n",
       "124                                       NaN              NaN   \n",
       "\n",
       "                                                 Notes  \\\n",
       "120  Grows in the high Andes, super arid, appears t...   \n",
       "121  Grows in the high Andes, super arid, appears t...   \n",
       "122  Grows in the high Andes, super arid, appears t...   \n",
       "123  Grows in the high Andes, super arid, appears t...   \n",
       "124  Paper from Ariel Orellana, gave a talk in the ...   \n",
       "\n",
       "                                Species Name_hyperlink  \n",
       "120  https://en.wikipedia.org/w/index.php?title=Azo...  \n",
       "121  https://en.wikipedia.org/w/index.php?title=Azo...  \n",
       "122  https://en.wikipedia.org/w/index.php?title=Azo...  \n",
       "123                                                NaN  \n",
       "124                                                NaN  "
      ]
     },
     "execution_count": 8,
     "metadata": {},
     "output_type": "execute_result"
    }
   ],
   "source": [
    "lit_w_links = get_hyperlink_columns(with_lit, '../data/species_info/thermophilic_plant_species.xlsx', sheet_name='Sheet1').drop(index=60)\n",
    "lit_w_links.tail()"
   ]
  },
  {
   "cell_type": "markdown",
   "id": "47ef8fe8-8100-4e01-b4f7-cda0043c0fb2",
   "metadata": {},
   "source": [
    "Get rid of additional text after the first two space-delimited words in the species column to get a base species name."
   ]
  },
  {
   "cell_type": "code",
   "execution_count": 9,
   "id": "2a81c15b-8ed5-4765-9b16-e0b8210b202f",
   "metadata": {},
   "outputs": [],
   "source": [
    "lit_w_links['species'] = lit_w_links['Species_Name'].str.split(r'[\\xa0\\s]+').str[:2].str.join(' ')"
   ]
  },
  {
   "cell_type": "code",
   "execution_count": 10,
   "id": "9ce28fa5-fcdd-4005-84fa-325ff8fcf799",
   "metadata": {},
   "outputs": [
    {
     "data": {
      "text/html": [
       "<div>\n",
       "<style scoped>\n",
       "    .dataframe tbody tr th:only-of-type {\n",
       "        vertical-align: middle;\n",
       "    }\n",
       "\n",
       "    .dataframe tbody tr th {\n",
       "        vertical-align: top;\n",
       "    }\n",
       "\n",
       "    .dataframe thead th {\n",
       "        text-align: right;\n",
       "    }\n",
       "</style>\n",
       "<table border=\"1\" class=\"dataframe\">\n",
       "  <thead>\n",
       "    <tr style=\"text-align: right;\">\n",
       "      <th></th>\n",
       "      <th>Species_Name</th>\n",
       "      <th>notes</th>\n",
       "      <th>Transciptomic_data_in_NCBI_with_SRA_data</th>\n",
       "      <th>reference</th>\n",
       "      <th>original_source</th>\n",
       "      <th>Species Name_hyperlink</th>\n",
       "      <th>species</th>\n",
       "    </tr>\n",
       "  </thead>\n",
       "  <tbody>\n",
       "    <tr>\n",
       "      <th>0</th>\n",
       "      <td>Heliotropium curisavvicum</td>\n",
       "      <td>a prostrate plant from the Mojave desert.  You...</td>\n",
       "      <td>NaN</td>\n",
       "      <td>NaN</td>\n",
       "      <td>Rowan suggested</td>\n",
       "      <td>NaN</td>\n",
       "      <td>Heliotropium curisavvicum</td>\n",
       "    </tr>\n",
       "    <tr>\n",
       "      <th>1</th>\n",
       "      <td>Sesuvium verrucosum</td>\n",
       "      <td>Succulent halophytes from deserts and hot coas...</td>\n",
       "      <td>NaN</td>\n",
       "      <td>NaN</td>\n",
       "      <td>Rowan suggested</td>\n",
       "      <td>NaN</td>\n",
       "      <td>Sesuvium verrucosum</td>\n",
       "    </tr>\n",
       "    <tr>\n",
       "      <th>2</th>\n",
       "      <td>Sesuvium trianthema</td>\n",
       "      <td>Succulent halophytes from deserts and hot coas...</td>\n",
       "      <td>NaN</td>\n",
       "      <td>NaN</td>\n",
       "      <td>Rowan suggested</td>\n",
       "      <td>NaN</td>\n",
       "      <td>Sesuvium trianthema</td>\n",
       "    </tr>\n",
       "    <tr>\n",
       "      <th>3</th>\n",
       "      <td>Ipomea pes-caprae</td>\n",
       "      <td>tropical beach vine, grows on hot sands of tro...</td>\n",
       "      <td>NaN</td>\n",
       "      <td>NaN</td>\n",
       "      <td>Rowan suggested</td>\n",
       "      <td>NaN</td>\n",
       "      <td>Ipomea pes-caprae</td>\n",
       "    </tr>\n",
       "    <tr>\n",
       "      <th>4</th>\n",
       "      <td>Mollugo verticillata</td>\n",
       "      <td>carpet weed.  Grows across blacktop that burns...</td>\n",
       "      <td>NaN</td>\n",
       "      <td>NaN</td>\n",
       "      <td>Rowan suggested</td>\n",
       "      <td>NaN</td>\n",
       "      <td>Mollugo verticillata</td>\n",
       "    </tr>\n",
       "  </tbody>\n",
       "</table>\n",
       "</div>"
      ],
      "text/plain": [
       "                Species_Name  \\\n",
       "0  Heliotropium curisavvicum   \n",
       "1        Sesuvium verrucosum   \n",
       "2        Sesuvium trianthema   \n",
       "3          Ipomea pes-caprae   \n",
       "4       Mollugo verticillata   \n",
       "\n",
       "                                               notes  \\\n",
       "0  a prostrate plant from the Mojave desert.  You...   \n",
       "1  Succulent halophytes from deserts and hot coas...   \n",
       "2  Succulent halophytes from deserts and hot coas...   \n",
       "3  tropical beach vine, grows on hot sands of tro...   \n",
       "4  carpet weed.  Grows across blacktop that burns...   \n",
       "\n",
       "   Transciptomic_data_in_NCBI_with_SRA_data reference  original_source  \\\n",
       "0                                       NaN       NaN  Rowan suggested   \n",
       "1                                       NaN       NaN  Rowan suggested   \n",
       "2                                       NaN       NaN  Rowan suggested   \n",
       "3                                       NaN       NaN  Rowan suggested   \n",
       "4                                       NaN       NaN  Rowan suggested   \n",
       "\n",
       "  Species Name_hyperlink                    species  \n",
       "0                    NaN  Heliotropium curisavvicum  \n",
       "1                    NaN        Sesuvium verrucosum  \n",
       "2                    NaN        Sesuvium trianthema  \n",
       "3                    NaN          Ipomea pes-caprae  \n",
       "4                    NaN       Mollugo verticillata  "
      ]
     },
     "execution_count": 10,
     "metadata": {},
     "output_type": "execute_result"
    }
   ],
   "source": [
    "lit_w_links = lit_w_links.rename(columns={'Notes': 'original_source', 'Species_Notes': 'notes', 'Publication_Link': 'reference'})\n",
    "lit_w_links.head()"
   ]
  },
  {
   "cell_type": "markdown",
   "id": "768c59e8-e012-43e8-8733-c5a8544c3f48",
   "metadata": {},
   "source": [
    "Merge with the other list:"
   ]
  },
  {
   "cell_type": "code",
   "execution_count": 11,
   "id": "0e38a80e-2633-4a91-b1e2-4f8b63dea0ed",
   "metadata": {},
   "outputs": [
    {
     "data": {
      "text/html": [
       "<div>\n",
       "<style scoped>\n",
       "    .dataframe tbody tr th:only-of-type {\n",
       "        vertical-align: middle;\n",
       "    }\n",
       "\n",
       "    .dataframe tbody tr th {\n",
       "        vertical-align: top;\n",
       "    }\n",
       "\n",
       "    .dataframe thead th {\n",
       "        text-align: right;\n",
       "    }\n",
       "</style>\n",
       "<table border=\"1\" class=\"dataframe\">\n",
       "  <thead>\n",
       "    <tr style=\"text-align: right;\">\n",
       "      <th></th>\n",
       "      <th>species</th>\n",
       "      <th>thermotolerance</th>\n",
       "      <th>common_name</th>\n",
       "      <th>full_path</th>\n",
       "      <th>has_genome</th>\n",
       "      <th>has_transcriptome</th>\n",
       "      <th>notes</th>\n",
       "      <th>original_source_berkley</th>\n",
       "      <th>original_source_serena</th>\n",
       "      <th>reference</th>\n",
       "      <th>species_gbif</th>\n",
       "    </tr>\n",
       "  </thead>\n",
       "  <tbody>\n",
       "    <tr>\n",
       "      <th>0</th>\n",
       "      <td>Acorus americanus</td>\n",
       "      <td>NaN</td>\n",
       "      <td>NaN</td>\n",
       "      <td>/mnt/research/Walker_Lab_Research/Serena_proje...</td>\n",
       "      <td>NaN</td>\n",
       "      <td>NaN</td>\n",
       "      <td>NaN</td>\n",
       "      <td>NaN</td>\n",
       "      <td>phytozome</td>\n",
       "      <td>NaN</td>\n",
       "      <td>Acorus americanus</td>\n",
       "    </tr>\n",
       "    <tr>\n",
       "      <th>1</th>\n",
       "      <td>Agave sp.</td>\n",
       "      <td>NaN</td>\n",
       "      <td>NaN</td>\n",
       "      <td>NaN</td>\n",
       "      <td>NaN</td>\n",
       "      <td>NaN</td>\n",
       "      <td>NaN</td>\n",
       "      <td>NaN</td>\n",
       "      <td>NaN</td>\n",
       "      <td>NaN</td>\n",
       "      <td>NaN</td>\n",
       "    </tr>\n",
       "    <tr>\n",
       "      <th>2</th>\n",
       "      <td>Agave tequilana</td>\n",
       "      <td>NaN</td>\n",
       "      <td>NaN</td>\n",
       "      <td>/mnt/research/Walker_Lab_Research/Serena_proje...</td>\n",
       "      <td>NaN</td>\n",
       "      <td>NaN</td>\n",
       "      <td>NaN</td>\n",
       "      <td>NaN</td>\n",
       "      <td>phytozome</td>\n",
       "      <td>NaN</td>\n",
       "      <td>Agave tequilana</td>\n",
       "    </tr>\n",
       "    <tr>\n",
       "      <th>3</th>\n",
       "      <td>Althaea officinalis</td>\n",
       "      <td>NaN</td>\n",
       "      <td>marsh-mallow</td>\n",
       "      <td>/mnt/research/Walker_Lab_Research/Serena_proje...</td>\n",
       "      <td>NaN</td>\n",
       "      <td>NaN</td>\n",
       "      <td>NaN</td>\n",
       "      <td>NaN</td>\n",
       "      <td>phytozome</td>\n",
       "      <td>NaN</td>\n",
       "      <td>Althaea officinalis</td>\n",
       "    </tr>\n",
       "    <tr>\n",
       "      <th>4</th>\n",
       "      <td>Alyssum linifolium</td>\n",
       "      <td>NaN</td>\n",
       "      <td>NaN</td>\n",
       "      <td>/mnt/research/Walker_Lab_Research/Serena_proje...</td>\n",
       "      <td>NaN</td>\n",
       "      <td>NaN</td>\n",
       "      <td>NaN</td>\n",
       "      <td>NaN</td>\n",
       "      <td>phytozome</td>\n",
       "      <td>NaN</td>\n",
       "      <td>Alyssum linifolium</td>\n",
       "    </tr>\n",
       "  </tbody>\n",
       "</table>\n",
       "</div>"
      ],
      "text/plain": [
       "               species thermotolerance   common_name  \\\n",
       "0    Acorus americanus             NaN           NaN   \n",
       "1            Agave sp.             NaN           NaN   \n",
       "2     Agave tequilana              NaN           NaN   \n",
       "3  Althaea officinalis             NaN  marsh-mallow   \n",
       "4   Alyssum linifolium             NaN           NaN   \n",
       "\n",
       "                                           full_path  has_genome  \\\n",
       "0  /mnt/research/Walker_Lab_Research/Serena_proje...         NaN   \n",
       "1                                                NaN         NaN   \n",
       "2  /mnt/research/Walker_Lab_Research/Serena_proje...         NaN   \n",
       "3  /mnt/research/Walker_Lab_Research/Serena_proje...         NaN   \n",
       "4  /mnt/research/Walker_Lab_Research/Serena_proje...         NaN   \n",
       "\n",
       "   has_transcriptome notes original_source_berkley original_source_serena  \\\n",
       "0                NaN   NaN                     NaN              phytozome   \n",
       "1                NaN   NaN                     NaN                    NaN   \n",
       "2                NaN   NaN                     NaN              phytozome   \n",
       "3                NaN   NaN                     NaN              phytozome   \n",
       "4                NaN   NaN                     NaN              phytozome   \n",
       "\n",
       "  reference         species_gbif  \n",
       "0       NaN    Acorus americanus  \n",
       "1       NaN                  NaN  \n",
       "2       NaN     Agave tequilana   \n",
       "3       NaN  Althaea officinalis  \n",
       "4       NaN   Alyssum linifolium  "
      ]
     },
     "execution_count": 11,
     "metadata": {},
     "output_type": "execute_result"
    }
   ],
   "source": [
    "phyto_paths['reference'] = phyto_paths['reference'].astype('object')\n",
    "all_species = lit_w_links.merge(phyto_paths, left_on=['species', 'notes', 'reference'], right_on=['species', 'notes', 'reference'], suffixes=('_berkley', '_serena'), how='outer')\n",
    "all_species = all_species.drop(columns=['Species_Name', 'Transciptomic_data_in_NCBI_with_SRA_data', 'Species Name_hyperlink', 'abbreviated_species'])\n",
    "all_species = all_species[['species', 'thermotolerance'] + sorted(c for c in all_species.columns if c != 'species' and c != 'thermotolerance')]\n",
    "all_species = all_species.drop_duplicates()\n",
    "all_species.head()"
   ]
  },
  {
   "cell_type": "markdown",
   "id": "53a61dc5-5ed2-4e8b-ad1a-76f1138bf99f",
   "metadata": {},
   "source": [
    "How many genera are represented here?"
   ]
  },
  {
   "cell_type": "code",
   "execution_count": 12,
   "id": "3939e712-92dd-43af-b130-ee13c755e918",
   "metadata": {},
   "outputs": [
    {
     "name": "stdout",
     "output_type": "stream",
     "text": [
      "There are 159 unique genera in the list. The top genus is Azorella, with 58 species\n",
      "There were only 14 species in common between the two lists: Boechera crandallii, Boechera pallidifolia, Salvadora persica, Avicennia marina, Phoenix dactylifera, Boechera perennans, Boechera gunnisoniana, Boechera depauperata, Boechera stricta, Calligonum comosum, Haloxylon salicornicum, Salsola villosa, Boechera holboellii, Vigna unguiculata\n"
     ]
    }
   ],
   "source": [
    "unique_genera = all_species.species.str.split(' ').str[0].value_counts()\n",
    "print(f'There are {len(unique_genera)} unique genera in the list. The top genus is {unique_genera.idxmax()}, with {unique_genera.max()} species')\n",
    "spec_in_common = set(phyto_paths.species).intersection(set(lit_w_links.species))\n",
    "print(f'There were only {len(spec_in_common)} species in common between the two lists: {\", \".join(list(spec_in_common))}')"
   ]
  },
  {
   "cell_type": "markdown",
   "id": "f03447dd-45a4-4ee5-aa4f-3ef0be54bdb5",
   "metadata": {},
   "source": [
    "Save the final thing:"
   ]
  },
  {
   "cell_type": "code",
   "execution_count": 13,
   "id": "cc07d4ff-e1b0-4098-8d14-fd97c235eda6",
   "metadata": {},
   "outputs": [],
   "source": [
    "all_species.to_csv(f'../data/species_info/berkley_serena_combined_species_list_{run_date}.csv', index=False)"
   ]
  },
  {
   "cell_type": "markdown",
   "id": "aa222c1a-f241-4082-ae83-1dea4ee62e6c",
   "metadata": {},
   "source": [
    "## Looking in SRA\n",
    "We want to know, before we manually search up all of these, that there's at least one entry in SRA for them. We'll use [`pysradb`](https://github.com/saketkc/pysradb) for this. We also can only use RNA-Seq data, so we'll also filter for that here."
   ]
  },
  {
   "cell_type": "code",
   "execution_count": 15,
   "id": "6aad8c5f-79ec-484f-865f-7d4d6317b464",
   "metadata": {},
   "outputs": [],
   "source": [
    "db = SRAweb()"
   ]
  },
  {
   "cell_type": "code",
   "execution_count": 16,
   "id": "0d67b89f-7233-4a74-80e1-d24c278c3238",
   "metadata": {
    "scrolled": true
   },
   "outputs": [
    {
     "name": "stderr",
     "output_type": "stream",
     "text": [
      "  0%|          | 0/294 [00:00<?, ?it/s]"
     ]
    },
    {
     "name": "stdout",
     "output_type": "stream",
     "text": [
      "Skipping species Acorus americanus because it has a genome in Phytozome\n"
     ]
    },
    {
     "name": "stderr",
     "output_type": "stream",
     "text": [
      "  1%|          | 2/294 [00:00<00:40,  7.16it/s]"
     ]
    },
    {
     "name": "stdout",
     "output_type": "stream",
     "text": [
      "0 RNA-seq studies found for species Agave sp..\n",
      "Skipping species Agave tequilana  because it has a genome in Phytozome\n",
      "Skipping species Althaea officinalis because it has a genome in Phytozome\n",
      "Skipping species Alyssum linifolium because it has a genome in Phytozome\n",
      "Skipping species Amaranthus hypochondriacus because it has a genome in Phytozome\n",
      "Skipping species Amborella trichopoda because it has a genome in Phytozome\n",
      "Skipping species Anacardium occidentale because it has a genome in Phytozome\n",
      "Skipping species Ananas comosus because it has a genome in Phytozome\n",
      "Skipping species Andropogon gerardi because it has a genome in Phytozome\n",
      "Skipping species Aquilegia caerulea because it has a genome in Phytozome\n",
      "Skipping species Arabidopsis halleri because it has a genome in Phytozome\n",
      "Skipping species Arabidopsis lyrata because it has a genome in Phytozome\n",
      "Skipping species Arabidopsis thaliana because it has a genome in Phytozome\n",
      "Skipping species Arachis hypogaea because it has a genome in Phytozome\n"
     ]
    },
    {
     "name": "stderr",
     "output_type": "stream",
     "text": [
      "  5%|▌         | 16/294 [00:03<00:56,  4.96it/s]"
     ]
    },
    {
     "name": "stdout",
     "output_type": "stream",
     "text": [
      "There are 127 RNA-seq studies in SRA for species Avicennia marina\n"
     ]
    },
    {
     "name": "stderr",
     "output_type": "stream",
     "text": [
      "  6%|▌         | 17/294 [00:04<01:15,  3.68it/s]"
     ]
    },
    {
     "name": "stdout",
     "output_type": "stream",
     "text": [
      "There are 127 RNA-seq studies in SRA for species Avicennia marina\n"
     ]
    },
    {
     "name": "stderr",
     "output_type": "stream",
     "text": [
      "  6%|▌         | 18/294 [00:04<01:12,  3.78it/s]"
     ]
    },
    {
     "name": "stdout",
     "output_type": "stream",
     "text": [
      "0 RNA-seq studies found for species Azorella acaulis.\n"
     ]
    },
    {
     "name": "stderr",
     "output_type": "stream",
     "text": [
      "  6%|▋         | 19/294 [00:05<01:51,  2.47it/s]"
     ]
    },
    {
     "name": "stdout",
     "output_type": "stream",
     "text": [
      "No results found for Azorella albovaginata\n",
      "0 RNA-seq studies found for species Azorella albovaginata.\n"
     ]
    },
    {
     "name": "stderr",
     "output_type": "stream",
     "text": [
      "  7%|▋         | 20/294 [00:06<01:46,  2.56it/s]"
     ]
    },
    {
     "name": "stdout",
     "output_type": "stream",
     "text": [
      "0 RNA-seq studies found for species Azorella allanii.\n"
     ]
    },
    {
     "name": "stderr",
     "output_type": "stream",
     "text": [
      "  7%|▋         | 22/294 [00:07<02:04,  2.19it/s]"
     ]
    },
    {
     "name": "stdout",
     "output_type": "stream",
     "text": [
      "No results found for Azorella ameghinoi\n",
      "0 RNA-seq studies found for species Azorella ameghinoi.\n",
      "No results found for Azorella andina\n",
      "0 RNA-seq studies found for species Azorella andina.\n"
     ]
    },
    {
     "name": "stderr",
     "output_type": "stream",
     "text": [
      "  8%|▊         | 23/294 [00:07<01:43,  2.62it/s]"
     ]
    },
    {
     "name": "stdout",
     "output_type": "stream",
     "text": [
      "No results found for Azorella aretioides\n",
      "0 RNA-seq studies found for species Azorella aretioides.\n"
     ]
    },
    {
     "name": "stderr",
     "output_type": "stream",
     "text": [
      "  9%|▊         | 25/294 [00:08<02:05,  2.15it/s]"
     ]
    },
    {
     "name": "stdout",
     "output_type": "stream",
     "text": [
      "No results found for Azorella biloba\n",
      "0 RNA-seq studies found for species Azorella biloba.\n",
      "No results found for Azorella boelckei\n",
      "0 RNA-seq studies found for species Azorella boelckei.\n"
     ]
    },
    {
     "name": "stderr",
     "output_type": "stream",
     "text": [
      "  9%|▉         | 26/294 [00:10<03:16,  1.37it/s]"
     ]
    },
    {
     "name": "stdout",
     "output_type": "stream",
     "text": [
      "0 RNA-seq studies found for species Azorella burkartii.\n"
     ]
    },
    {
     "name": "stderr",
     "output_type": "stream",
     "text": [
      "  9%|▉         | 27/294 [00:10<02:46,  1.61it/s]"
     ]
    },
    {
     "name": "stdout",
     "output_type": "stream",
     "text": [
      "0 RNA-seq studies found for species Azorella cockaynei.\n"
     ]
    },
    {
     "name": "stderr",
     "output_type": "stream",
     "text": [
      " 10%|▉         | 29/294 [00:12<02:58,  1.48it/s]"
     ]
    },
    {
     "name": "stdout",
     "output_type": "stream",
     "text": [
      "0 RNA-seq studies found for species Azorella colensoi.\n",
      "No results found for Azorella compacta\n",
      "0 RNA-seq studies found for species Azorella compacta.\n"
     ]
    },
    {
     "name": "stderr",
     "output_type": "stream",
     "text": [
      " 10%|█         | 30/294 [00:13<03:56,  1.12it/s]"
     ]
    },
    {
     "name": "stdout",
     "output_type": "stream",
     "text": [
      "0 RNA-seq studies found for species Azorella corymbosa.\n",
      "No results found for Azorella crassipes\n",
      "0 RNA-seq studies found for species Azorella crassipes.\n"
     ]
    },
    {
     "name": "stderr",
     "output_type": "stream",
     "text": [
      " 11%|█         | 33/294 [00:15<02:43,  1.60it/s]"
     ]
    },
    {
     "name": "stdout",
     "output_type": "stream",
     "text": [
      "No results found for Azorella crenata\n",
      "0 RNA-seq studies found for species Azorella crenata.\n",
      "No results found for Azorella cryptantha\n",
      "0 RNA-seq studies found for species Azorella cryptantha.\n",
      "No results found for Azorella cuatrecasasii\n",
      "0 RNA-seq studies found for species Azorella cuatrecasasii.\n"
     ]
    },
    {
     "name": "stderr",
     "output_type": "stream",
     "text": [
      " 12%|█▏        | 36/294 [00:16<02:13,  1.93it/s]"
     ]
    },
    {
     "name": "stdout",
     "output_type": "stream",
     "text": [
      "No results found for Azorella diapensioides\n",
      "0 RNA-seq studies found for species Azorella diapensioides.\n",
      "No results found for Azorella diversifolia\n",
      "0 RNA-seq studies found for species Azorella diversifolia.\n"
     ]
    },
    {
     "name": "stderr",
     "output_type": "stream",
     "text": [
      " 13%|█▎        | 37/294 [00:16<01:47,  2.40it/s]"
     ]
    },
    {
     "name": "stdout",
     "output_type": "stream",
     "text": [
      "No results found for Azorella echegarayi\n",
      "0 RNA-seq studies found for species Azorella echegarayi.\n"
     ]
    },
    {
     "name": "stderr",
     "output_type": "stream",
     "text": [
      " 13%|█▎        | 39/294 [00:18<02:10,  1.95it/s]"
     ]
    },
    {
     "name": "stdout",
     "output_type": "stream",
     "text": [
      "0 RNA-seq studies found for species Azorella exigua.\n",
      "No results found for Azorella filamentosa\n",
      "0 RNA-seq studies found for species Azorella filamentosa.\n"
     ]
    },
    {
     "name": "stderr",
     "output_type": "stream",
     "text": [
      " 14%|█▎        | 40/294 [00:19<03:07,  1.35it/s]"
     ]
    },
    {
     "name": "stdout",
     "output_type": "stream",
     "text": [
      "0 RNA-seq studies found for species Azorella fragosea.\n",
      "No results found for Azorella fuegiana\n",
      "0 RNA-seq studies found for species Azorella fuegiana.\n"
     ]
    },
    {
     "name": "stderr",
     "output_type": "stream",
     "text": [
      " 14%|█▍        | 42/294 [00:21<03:09,  1.33it/s]"
     ]
    },
    {
     "name": "stdout",
     "output_type": "stream",
     "text": [
      "0 RNA-seq studies found for species Azorella haastii.\n",
      "No results found for Azorella hallei\n",
      "0 RNA-seq studies found for species Azorella hallei.\n"
     ]
    },
    {
     "name": "stderr",
     "output_type": "stream",
     "text": [
      " 15%|█▍        | 44/294 [00:22<03:04,  1.35it/s]"
     ]
    },
    {
     "name": "stdout",
     "output_type": "stream",
     "text": [
      "0 RNA-seq studies found for species Azorella hookeri.\n"
     ]
    },
    {
     "name": "stderr",
     "output_type": "stream",
     "text": [
      " 15%|█▌        | 45/294 [00:23<03:36,  1.15it/s]"
     ]
    },
    {
     "name": "stdout",
     "output_type": "stream",
     "text": [
      "0 RNA-seq studies found for species Azorella hydrocotyloides.\n"
     ]
    },
    {
     "name": "stderr",
     "output_type": "stream",
     "text": [
      " 16%|█▌        | 46/294 [00:24<03:01,  1.37it/s]"
     ]
    },
    {
     "name": "stdout",
     "output_type": "stream",
     "text": [
      "No results found for Azorella julianii\n",
      "0 RNA-seq studies found for species Azorella julianii.\n"
     ]
    },
    {
     "name": "stderr",
     "output_type": "stream",
     "text": [
      " 16%|█▌        | 47/294 [00:25<03:38,  1.13it/s]"
     ]
    },
    {
     "name": "stdout",
     "output_type": "stream",
     "text": [
      "0 RNA-seq studies found for species Azorella lyallii.\n"
     ]
    },
    {
     "name": "stderr",
     "output_type": "stream",
     "text": [
      " 16%|█▋        | 48/294 [00:25<03:02,  1.35it/s]"
     ]
    },
    {
     "name": "stdout",
     "output_type": "stream",
     "text": [
      "0 RNA-seq studies found for species Azorella lycopodioides.\n"
     ]
    },
    {
     "name": "stderr",
     "output_type": "stream",
     "text": [
      " 17%|█▋        | 50/294 [00:27<02:49,  1.44it/s]"
     ]
    },
    {
     "name": "stdout",
     "output_type": "stream",
     "text": [
      "0 RNA-seq studies found for species Azorella macquariensis.\n",
      "No results found for Azorella madreporica\n",
      "0 RNA-seq studies found for species Azorella madreporica.\n"
     ]
    },
    {
     "name": "stderr",
     "output_type": "stream",
     "text": [
      " 18%|█▊        | 52/294 [00:28<02:37,  1.54it/s]"
     ]
    },
    {
     "name": "stdout",
     "output_type": "stream",
     "text": [
      "No results found for Azorella microphylla\n",
      "0 RNA-seq studies found for species Azorella microphylla.\n",
      "No results found for Azorella monantha\n",
      "0 RNA-seq studies found for species Azorella monantha.\n"
     ]
    },
    {
     "name": "stderr",
     "output_type": "stream",
     "text": [
      " 18%|█▊        | 53/294 [00:28<01:58,  2.04it/s]"
     ]
    },
    {
     "name": "stdout",
     "output_type": "stream",
     "text": [
      "No results found for Azorella monteroi\n",
      "0 RNA-seq studies found for species Azorella monteroi.\n"
     ]
    },
    {
     "name": "stderr",
     "output_type": "stream",
     "text": [
      " 18%|█▊        | 54/294 [00:30<02:50,  1.41it/s]"
     ]
    },
    {
     "name": "stdout",
     "output_type": "stream",
     "text": [
      "No results found for Azorella multifida\n",
      "0 RNA-seq studies found for species Azorella multifida.\n"
     ]
    },
    {
     "name": "stderr",
     "output_type": "stream",
     "text": [
      " 19%|█▊        | 55/294 [00:30<02:21,  1.69it/s]"
     ]
    },
    {
     "name": "stdout",
     "output_type": "stream",
     "text": [
      "0 RNA-seq studies found for species Azorella nitens.\n"
     ]
    },
    {
     "name": "stderr",
     "output_type": "stream",
     "text": [
      " 19%|█▉        | 56/294 [00:31<03:05,  1.28it/s]"
     ]
    },
    {
     "name": "stdout",
     "output_type": "stream",
     "text": [
      "No results found for Azorella nivalis\n",
      "0 RNA-seq studies found for species Azorella nivalis.\n"
     ]
    },
    {
     "name": "stderr",
     "output_type": "stream",
     "text": [
      " 19%|█▉        | 57/294 [00:31<02:29,  1.58it/s]"
     ]
    },
    {
     "name": "stdout",
     "output_type": "stream",
     "text": [
      "0 RNA-seq studies found for species Azorella pallida.\n"
     ]
    },
    {
     "name": "stderr",
     "output_type": "stream",
     "text": [
      " 20%|██        | 59/294 [00:33<02:23,  1.63it/s]"
     ]
    },
    {
     "name": "stdout",
     "output_type": "stream",
     "text": [
      "No results found for Azorella patagonica\n",
      "0 RNA-seq studies found for species Azorella patagonica.\n",
      "No results found for Azorella pedunculata\n",
      "0 RNA-seq studies found for species Azorella pedunculata.\n"
     ]
    },
    {
     "name": "stderr",
     "output_type": "stream",
     "text": [
      " 21%|██        | 61/294 [00:34<02:25,  1.60it/s]"
     ]
    },
    {
     "name": "stdout",
     "output_type": "stream",
     "text": [
      "0 RNA-seq studies found for species Azorella polaris.\n",
      "No results found for Azorella prolifera\n",
      "0 RNA-seq studies found for species Azorella prolifera.\n",
      "No results found for Azorella pulvinata\n",
      "0 RNA-seq studies found for species Azorella pulvinata.\n"
     ]
    },
    {
     "name": "stderr",
     "output_type": "stream",
     "text": [
      " 21%|██▏       | 63/294 [00:36<02:33,  1.51it/s]"
     ]
    },
    {
     "name": "stdout",
     "output_type": "stream",
     "text": [
      "0 RNA-seq studies found for species Azorella ranunculus.\n"
     ]
    },
    {
     "name": "stderr",
     "output_type": "stream",
     "text": [
      " 22%|██▏       | 64/294 [00:37<03:17,  1.17it/s]"
     ]
    },
    {
     "name": "stdout",
     "output_type": "stream",
     "text": [
      "0 RNA-seq studies found for species Azorella robusta.\n"
     ]
    },
    {
     "name": "stderr",
     "output_type": "stream",
     "text": [
      " 22%|██▏       | 65/294 [00:37<02:39,  1.44it/s]"
     ]
    },
    {
     "name": "stdout",
     "output_type": "stream",
     "text": [
      "0 RNA-seq studies found for species Azorella roughii.\n"
     ]
    },
    {
     "name": "stderr",
     "output_type": "stream",
     "text": [
      " 22%|██▏       | 66/294 [00:39<03:12,  1.18it/s]"
     ]
    },
    {
     "name": "stdout",
     "output_type": "stream",
     "text": [
      "No results found for Azorella ruizii\n",
      "0 RNA-seq studies found for species Azorella ruizii.\n"
     ]
    },
    {
     "name": "stderr",
     "output_type": "stream",
     "text": [
      " 23%|██▎       | 67/294 [00:39<02:43,  1.39it/s]"
     ]
    },
    {
     "name": "stdout",
     "output_type": "stream",
     "text": [
      "0 RNA-seq studies found for species Azorella schizeilema.\n"
     ]
    },
    {
     "name": "stderr",
     "output_type": "stream",
     "text": [
      " 23%|██▎       | 69/294 [00:40<02:31,  1.49it/s]"
     ]
    },
    {
     "name": "stdout",
     "output_type": "stream",
     "text": [
      "0 RNA-seq studies found for species Azorella selago.\n",
      "No results found for Azorella spinosa\n",
      "0 RNA-seq studies found for species Azorella spinosa.\n"
     ]
    },
    {
     "name": "stderr",
     "output_type": "stream",
     "text": [
      " 24%|██▍       | 71/294 [00:42<02:24,  1.55it/s]"
     ]
    },
    {
     "name": "stdout",
     "output_type": "stream",
     "text": [
      "No results found for Azorella triacantha\n",
      "0 RNA-seq studies found for species Azorella triacantha.\n",
      "No results found for Azorella trifoliolata\n",
      "0 RNA-seq studies found for species Azorella trifoliolata.\n"
     ]
    },
    {
     "name": "stderr",
     "output_type": "stream",
     "text": [
      " 24%|██▍       | 72/294 [00:43<03:11,  1.16it/s]"
     ]
    },
    {
     "name": "stdout",
     "output_type": "stream",
     "text": [
      "0 RNA-seq studies found for species Azorella trifurcata.\n"
     ]
    },
    {
     "name": "stderr",
     "output_type": "stream",
     "text": [
      " 25%|██▍       | 73/294 [00:44<02:28,  1.49it/s]"
     ]
    },
    {
     "name": "stdout",
     "output_type": "stream",
     "text": [
      "There are 1 RNA-seq studies in SRA for species Azorella trisecta\n"
     ]
    },
    {
     "name": "stderr",
     "output_type": "stream",
     "text": [
      " 26%|██▌       | 75/294 [00:45<02:14,  1.62it/s]"
     ]
    },
    {
     "name": "stdout",
     "output_type": "stream",
     "text": [
      "No results found for Azorella ulicina\n",
      "0 RNA-seq studies found for species Azorella ulicina.\n",
      "No results found for Azorella valentini\n",
      "0 RNA-seq studies found for species Azorella valentini.\n",
      "Skipping species Beta vulgaris subsp. vulgaris because it has a genome in Phytozome\n",
      "Skipping species Betula platyphylla because it has a genome in Phytozome\n"
     ]
    },
    {
     "name": "stderr",
     "output_type": "stream",
     "text": [
      " 27%|██▋       | 78/294 [00:46<01:57,  1.83it/s]"
     ]
    },
    {
     "name": "stdout",
     "output_type": "stream",
     "text": [
      "0 RNA-seq studies found for species Boechera arcuata.\n"
     ]
    },
    {
     "name": "stderr",
     "output_type": "stream",
     "text": [
      " 27%|██▋       | 79/294 [00:47<01:45,  2.04it/s]"
     ]
    },
    {
     "name": "stdout",
     "output_type": "stream",
     "text": [
      "0 RNA-seq studies found for species Boechera breweri.\n"
     ]
    },
    {
     "name": "stderr",
     "output_type": "stream",
     "text": [
      " 27%|██▋       | 80/294 [00:48<02:27,  1.45it/s]"
     ]
    },
    {
     "name": "stdout",
     "output_type": "stream",
     "text": [
      "0 RNA-seq studies found for species Boechera cobrensis.\n"
     ]
    },
    {
     "name": "stderr",
     "output_type": "stream",
     "text": [
      " 28%|██▊       | 81/294 [00:50<03:15,  1.09it/s]"
     ]
    },
    {
     "name": "stdout",
     "output_type": "stream",
     "text": [
      "0 RNA-seq studies found for species Boechera constancei.\n"
     ]
    },
    {
     "name": "stderr",
     "output_type": "stream",
     "text": [
      " 28%|██▊       | 82/294 [00:51<03:31,  1.00it/s]"
     ]
    },
    {
     "name": "stdout",
     "output_type": "stream",
     "text": [
      "0 RNA-seq studies found for species Boechera crandallii.\n"
     ]
    },
    {
     "name": "stderr",
     "output_type": "stream",
     "text": [
      " 28%|██▊       | 83/294 [00:51<03:04,  1.14it/s]"
     ]
    },
    {
     "name": "stdout",
     "output_type": "stream",
     "text": [
      "There are 6 RNA-seq studies in SRA for species Boechera depauperata\n"
     ]
    },
    {
     "name": "stderr",
     "output_type": "stream",
     "text": [
      " 29%|██▊       | 84/294 [00:53<03:46,  1.08s/it]"
     ]
    },
    {
     "name": "stdout",
     "output_type": "stream",
     "text": [
      "0 RNA-seq studies found for species Boechera dispar.\n"
     ]
    },
    {
     "name": "stderr",
     "output_type": "stream",
     "text": [
      " 29%|██▉       | 85/294 [00:53<03:03,  1.14it/s]"
     ]
    },
    {
     "name": "stdout",
     "output_type": "stream",
     "text": [
      "There are 16 RNA-seq studies in SRA for species Boechera divaricarpa\n"
     ]
    },
    {
     "name": "stderr",
     "output_type": "stream",
     "text": [
      " 29%|██▉       | 86/294 [00:55<03:33,  1.03s/it]"
     ]
    },
    {
     "name": "stdout",
     "output_type": "stream",
     "text": [
      "0 RNA-seq studies found for species Boechera falcata.\n"
     ]
    },
    {
     "name": "stderr",
     "output_type": "stream",
     "text": [
      " 30%|██▉       | 88/294 [01:00<05:39,  1.65s/it]"
     ]
    },
    {
     "name": "stdout",
     "output_type": "stream",
     "text": [
      "There are 124 RNA-seq studies in SRA for species Boechera falcatoria\n",
      "0 RNA-seq studies found for species Boechera fecunda.\n"
     ]
    },
    {
     "name": "stderr",
     "output_type": "stream",
     "text": [
      " 31%|███       | 90/294 [01:02<03:49,  1.12s/it]"
     ]
    },
    {
     "name": "stdout",
     "output_type": "stream",
     "text": [
      "There are 3 RNA-seq studies in SRA for species Boechera formosa\n",
      "No results found for Boechera gracilenta\n",
      "0 RNA-seq studies found for species Boechera gracilenta.\n"
     ]
    },
    {
     "name": "stderr",
     "output_type": "stream",
     "text": [
      " 31%|███       | 91/294 [01:03<04:03,  1.20s/it]"
     ]
    },
    {
     "name": "stdout",
     "output_type": "stream",
     "text": [
      "There are 12 RNA-seq studies in SRA for species Boechera gunnisoniana\n"
     ]
    },
    {
     "name": "stderr",
     "output_type": "stream",
     "text": [
      " 31%|███▏      | 92/294 [01:03<03:02,  1.11it/s]"
     ]
    },
    {
     "name": "stdout",
     "output_type": "stream",
     "text": [
      "0 RNA-seq studies found for species Boechera hoffmannii.\n"
     ]
    },
    {
     "name": "stderr",
     "output_type": "stream",
     "text": [
      " 32%|███▏      | 93/294 [01:04<03:27,  1.03s/it]"
     ]
    },
    {
     "name": "stdout",
     "output_type": "stream",
     "text": [
      "There are 5 RNA-seq studies in SRA for species Boechera holboellii\n"
     ]
    },
    {
     "name": "stderr",
     "output_type": "stream",
     "text": [
      " 32%|███▏      | 94/294 [01:06<03:45,  1.13s/it]"
     ]
    },
    {
     "name": "stdout",
     "output_type": "stream",
     "text": [
      "There are 3 RNA-seq studies in SRA for species Boechera lasiocarpa\n"
     ]
    },
    {
     "name": "stderr",
     "output_type": "stream",
     "text": [
      " 32%|███▏      | 95/294 [01:06<02:55,  1.13it/s]"
     ]
    },
    {
     "name": "stdout",
     "output_type": "stream",
     "text": [
      "There are 3 RNA-seq studies in SRA for species Boechera lignifera\n"
     ]
    },
    {
     "name": "stderr",
     "output_type": "stream",
     "text": [
      " 33%|███▎      | 97/294 [01:11<04:51,  1.48s/it]"
     ]
    },
    {
     "name": "stdout",
     "output_type": "stream",
     "text": [
      "There are 124 RNA-seq studies in SRA for species Boechera ophira\n",
      "No results found for Boechera oxylobula\n",
      "0 RNA-seq studies found for species Boechera oxylobula.\n"
     ]
    },
    {
     "name": "stderr",
     "output_type": "stream",
     "text": [
      " 33%|███▎      | 98/294 [01:11<03:36,  1.10s/it]"
     ]
    },
    {
     "name": "stdout",
     "output_type": "stream",
     "text": [
      "There are 11 RNA-seq studies in SRA for species Boechera pallidifolia\n"
     ]
    },
    {
     "name": "stderr",
     "output_type": "stream",
     "text": [
      " 34%|███▎      | 99/294 [01:13<03:43,  1.15s/it]"
     ]
    },
    {
     "name": "stdout",
     "output_type": "stream",
     "text": [
      "No results found for Boechera patens\n",
      "0 RNA-seq studies found for species Boechera patens.\n"
     ]
    },
    {
     "name": "stderr",
     "output_type": "stream",
     "text": [
      " 34%|███▍      | 100/294 [01:13<02:57,  1.10it/s]"
     ]
    },
    {
     "name": "stdout",
     "output_type": "stream",
     "text": [
      "0 RNA-seq studies found for species Boechera paupercula.\n"
     ]
    },
    {
     "name": "stderr",
     "output_type": "stream",
     "text": [
      " 34%|███▍      | 101/294 [01:14<03:21,  1.04s/it]"
     ]
    },
    {
     "name": "stdout",
     "output_type": "stream",
     "text": [
      "0 RNA-seq studies found for species Boechera pendulina.\n"
     ]
    },
    {
     "name": "stderr",
     "output_type": "stream",
     "text": [
      " 35%|███▍      | 102/294 [01:16<03:40,  1.15s/it]"
     ]
    },
    {
     "name": "stdout",
     "output_type": "stream",
     "text": [
      "There are 3 RNA-seq studies in SRA for species Boechera perennans\n"
     ]
    },
    {
     "name": "stderr",
     "output_type": "stream",
     "text": [
      " 35%|███▌      | 103/294 [01:16<02:48,  1.13it/s]"
     ]
    },
    {
     "name": "stdout",
     "output_type": "stream",
     "text": [
      "0 RNA-seq studies found for species Boechera platysperma.\n"
     ]
    },
    {
     "name": "stderr",
     "output_type": "stream",
     "text": [
      " 35%|███▌      | 104/294 [01:17<03:13,  1.02s/it]"
     ]
    },
    {
     "name": "stdout",
     "output_type": "stream",
     "text": [
      "0 RNA-seq studies found for species Boechera puberula.\n"
     ]
    },
    {
     "name": "stderr",
     "output_type": "stream",
     "text": [
      " 36%|███▌      | 106/294 [01:19<02:33,  1.22it/s]"
     ]
    },
    {
     "name": "stdout",
     "output_type": "stream",
     "text": [
      "0 RNA-seq studies found for species Boechera pulchra.\n",
      "No results found for Boechera quebecensis\n",
      "0 RNA-seq studies found for species Boechera quebecensis.\n"
     ]
    },
    {
     "name": "stderr",
     "output_type": "stream",
     "text": [
      " 36%|███▋      | 107/294 [01:20<03:08,  1.01s/it]"
     ]
    },
    {
     "name": "stdout",
     "output_type": "stream",
     "text": [
      "0 RNA-seq studies found for species Boechera retrofracta.\n"
     ]
    },
    {
     "name": "stderr",
     "output_type": "stream",
     "text": [
      " 37%|███▋      | 108/294 [01:20<02:22,  1.30it/s]"
     ]
    },
    {
     "name": "stdout",
     "output_type": "stream",
     "text": [
      "There are 3 RNA-seq studies in SRA for species Boechera schistacea\n"
     ]
    },
    {
     "name": "stderr",
     "output_type": "stream",
     "text": [
      " 37%|███▋      | 109/294 [01:22<02:53,  1.06it/s]"
     ]
    },
    {
     "name": "stdout",
     "output_type": "stream",
     "text": [
      "0 RNA-seq studies found for species Boechera sparsiflora.\n"
     ]
    },
    {
     "name": "stderr",
     "output_type": "stream",
     "text": [
      " 38%|███▊      | 113/294 [01:23<01:30,  2.00it/s]"
     ]
    },
    {
     "name": "stdout",
     "output_type": "stream",
     "text": [
      "0 RNA-seq studies found for species Boechera spatifolia.\n",
      "Skipping species Boechera stricta because it has a genome in Phytozome\n",
      "Skipping species Boechera stricta because it has a genome in Phytozome\n",
      "No results found for Boechera tularensis\n",
      "0 RNA-seq studies found for species Boechera tularensis.\n"
     ]
    },
    {
     "name": "stderr",
     "output_type": "stream",
     "text": [
      " 39%|███▉      | 114/294 [01:25<02:02,  1.47it/s]"
     ]
    },
    {
     "name": "stdout",
     "output_type": "stream",
     "text": [
      "There are 12 RNA-seq studies in SRA for species Boechera williamsii\n"
     ]
    },
    {
     "name": "stderr",
     "output_type": "stream",
     "text": [
      " 39%|███▉      | 115/294 [01:25<01:43,  1.74it/s]"
     ]
    },
    {
     "name": "stdout",
     "output_type": "stream",
     "text": [
      "0 RNA-seq studies found for species Boechera yorkii.\n",
      "Skipping species Botryococcus braunii because it has a genome in Phytozome\n",
      "Skipping species Brachypodium distachyon because it has a genome in Phytozome\n",
      "Skipping species Brachypodium hybridum because it has a genome in Phytozome\n",
      "Skipping species Brachypodium stacei because it has a genome in Phytozome\n",
      "Skipping species Brassica juncea because it has a genome in Phytozome\n",
      "Skipping species Brassica oleracea var. capitata because it has a genome in Phytozome\n",
      "Skipping species Brassica rapa because it has a genome in Phytozome\n"
     ]
    },
    {
     "name": "stderr",
     "output_type": "stream",
     "text": [
      " 43%|████▎     | 125/294 [01:26<00:38,  4.38it/s]"
     ]
    },
    {
     "name": "stdout",
     "output_type": "stream",
     "text": [
      "No results found for Breonadia salicina\n",
      "0 RNA-seq studies found for species Breonadia salicina.\n",
      "Skipping species Cakile maritima because it has a genome in Phytozome\n",
      "No results found for Calligonum comosum\n",
      "0 RNA-seq studies found for species Calligonum comosum.\n",
      "Skipping species Camelina sativa var. DH55 because it has a genome in Phytozome\n",
      "Skipping species Capsella rubella because it has a genome in Phytozome\n",
      "Skipping species Carica papaya because it has a genome in Phytozome\n"
     ]
    },
    {
     "name": "stderr",
     "output_type": "stream",
     "text": [
      " 44%|████▍     | 129/294 [01:28<00:48,  3.40it/s]"
     ]
    },
    {
     "name": "stdout",
     "output_type": "stream",
     "text": [
      "There are 5 RNA-seq studies in SRA for species Carnegiea gigantea\n",
      "Skipping species Carya illinoinensis because it has a genome in Phytozome\n",
      "Skipping species Castanea dentata because it has a genome in Phytozome\n",
      "Skipping species Castanea mollissima because it has a genome in Phytozome\n",
      "Skipping species Caulanthus amplexicaulis because it has a genome in Phytozome\n"
     ]
    },
    {
     "name": "stderr",
     "output_type": "stream",
     "text": [
      " 46%|████▌     | 134/294 [01:28<00:31,  5.15it/s]"
     ]
    },
    {
     "name": "stdout",
     "output_type": "stream",
     "text": [
      "0 RNA-seq studies found for species Celtis toka.\n",
      "Skipping species Ceratodon purpureus because it has a genome in Phytozome\n",
      "Skipping species Ceratopteris richardii because it has a genome in Phytozome\n",
      "Skipping species Cercis canadensis because it has a genome in Phytozome\n",
      "Skipping species Chamaecrista fasciculata because it has a genome in Phytozome\n",
      "Skipping species Chasmanthium laxum because it has a genome in Phytozome\n",
      "Skipping species Chlamydomonas reinhardtii because it has a genome in Phytozome\n",
      "Skipping species Chromochloris zofingiensis because it has a genome in Phytozome\n",
      "Skipping species Cicer arietinum because it has a genome in Phytozome\n",
      "Skipping species Cinnamomum kanehirae because it has a genome in Phytozome\n"
     ]
    },
    {
     "name": "stderr",
     "output_type": "stream",
     "text": [
      " 49%|████▉     | 144/294 [01:29<00:24,  6.01it/s]"
     ]
    },
    {
     "name": "stdout",
     "output_type": "stream",
     "text": [
      "There are 18 RNA-seq studies in SRA for species Cistanthe longiscapa\n",
      "Skipping species Citrus clementina because it has a genome in Phytozome\n",
      "Skipping species Cleome violacea because it has a genome in Phytozome\n",
      "Skipping species Clonorchis sinensis because it has a genome in Phytozome\n",
      "Skipping species Coccomyxa subellipsoidea because it has a genome in Phytozome\n",
      "Skipping species Coffea arabica because it has a genome in Phytozome\n",
      "Skipping species Coreopsis grandiflora because it has a genome in Phytozome\n",
      "Skipping species Corylus americana var. rush because it has a genome in Phytozome\n",
      "Skipping species Corylus avellana because it has a genome in Phytozome\n",
      "Skipping species Corymbia citriodora because it has a genome in Phytozome\n",
      "Skipping species Crambe hispanica because it has a genome in Phytozome\n",
      "Skipping species Crocus sativus because it has a genome in Phytozome\n"
     ]
    },
    {
     "name": "stderr",
     "output_type": "stream",
     "text": [
      " 53%|█████▎    | 156/294 [01:31<00:19,  6.90it/s]"
     ]
    },
    {
     "name": "stdout",
     "output_type": "stream",
     "text": [
      "There are 5 RNA-seq studies in SRA for species Cucurbita palmata\n"
     ]
    },
    {
     "name": "stderr",
     "output_type": "stream",
     "text": [
      " 53%|█████▎    | 157/294 [01:31<00:20,  6.75it/s]"
     ]
    },
    {
     "name": "stdout",
     "output_type": "stream",
     "text": [
      "0 RNA-seq studies found for species Cylindropuntia acanthocarpa.\n"
     ]
    },
    {
     "name": "stderr",
     "output_type": "stream",
     "text": [
      " 56%|█████▌    | 164/294 [01:33<00:20,  6.40it/s]"
     ]
    },
    {
     "name": "stdout",
     "output_type": "stream",
     "text": [
      "0 RNA-seq studies found for species Cylindropuntia bigelovii.\n",
      "Skipping species Daucus carota because it has a genome in Phytozome\n",
      "Skipping species Dendrocalamus strictus because it has a genome in Phytozome\n",
      "Skipping species Dioscorea alata because it has a genome in Phytozome\n",
      "Skipping species Diphasiastrum complanatum because it has a genome in Phytozome\n",
      "Skipping species Dunaliella salina because it has a genome in Phytozome\n",
      "No results found for Echinocactus sp\n",
      "0 RNA-seq studies found for species Echinocactus sp.\n",
      "Skipping species Ehretia anacua because it has a genome in Phytozome\n",
      "Skipping species Eruca vesicaria because it has a genome in Phytozome\n",
      "Skipping species Eschscholzia californica because it has a genome in Phytozome\n",
      "Skipping species Eucalyptus grandis because it has a genome in Phytozome\n",
      "Skipping species Euclidium syriacum because it has a genome in Phytozome\n",
      "Skipping species Eutrema salsugineum because it has a genome in Phytozome\n"
     ]
    },
    {
     "name": "stderr",
     "output_type": "stream",
     "text": [
      " 58%|█████▊    | 171/294 [01:34<00:21,  5.82it/s]"
     ]
    },
    {
     "name": "stdout",
     "output_type": "stream",
     "text": [
      "0 RNA-seq studies found for species Ficus vasta.\n",
      "Skipping species Fragaria vesca because it has a genome in Phytozome\n",
      "Skipping species Glycine max because it has a genome in Phytozome\n",
      "Skipping species Glycine max because it has a genome in Phytozome\n",
      "Skipping species Glycine max because it has a genome in Phytozome\n",
      "Skipping species Glycine soja because it has a genome in Phytozome\n",
      "Skipping species Gossypium barbadense because it has a genome in Phytozome\n",
      "Skipping species Gossypium darwinii because it has a genome in Phytozome\n",
      "Skipping species Gossypium hirsutum because it has a genome in Phytozome\n",
      "Skipping species Gossypium mustelinum because it has a genome in Phytozome\n",
      "Skipping species Gossypium raimondii because it has a genome in Phytozome\n",
      "Skipping species Gossypium tomentosum because it has a genome in Phytozome\n"
     ]
    },
    {
     "name": "stderr",
     "output_type": "stream",
     "text": [
      " 62%|██████▏   | 183/294 [01:36<00:17,  6.19it/s]"
     ]
    },
    {
     "name": "stdout",
     "output_type": "stream",
     "text": [
      "There are 16 RNA-seq studies in SRA for species Haloxylon persicum\n"
     ]
    },
    {
     "name": "stderr",
     "output_type": "stream",
     "text": [
      " 63%|██████▎   | 185/294 [01:37<00:21,  5.06it/s]"
     ]
    },
    {
     "name": "stdout",
     "output_type": "stream",
     "text": [
      "0 RNA-seq studies found for species Haloxylon salicornicum.\n",
      "Skipping species Helianthus annuus because it has a genome in Phytozome\n"
     ]
    },
    {
     "name": "stderr",
     "output_type": "stream",
     "text": [
      " 63%|██████▎   | 186/294 [01:37<00:23,  4.63it/s]"
     ]
    },
    {
     "name": "stdout",
     "output_type": "stream",
     "text": [
      "There are 16 RNA-seq studies in SRA for species Heliotropium curisavvicum\n",
      "Skipping species Hordeum vulgare because it has a genome in Phytozome\n",
      "Skipping species Hydrangea quercifolia because it has a genome in Phytozome\n",
      "Skipping species Hydrocotyle leucocephala because it has a genome in Phytozome\n",
      "Skipping species Iberis amara because it has a genome in Phytozome\n",
      "Skipping species Indigofera tinctoria because it has a genome in Phytozome\n"
     ]
    },
    {
     "name": "stderr",
     "output_type": "stream",
     "text": [
      " 65%|██████▌   | 192/294 [01:39<00:21,  4.72it/s]"
     ]
    },
    {
     "name": "stdout",
     "output_type": "stream",
     "text": [
      "No results found for Ipomea pes-caprae\n",
      "0 RNA-seq studies found for species Ipomea pes-caprae.\n"
     ]
    },
    {
     "name": "stderr",
     "output_type": "stream",
     "text": [
      " 66%|██████▌   | 193/294 [01:39<00:22,  4.53it/s]"
     ]
    },
    {
     "name": "stdout",
     "output_type": "stream",
     "text": [
      "0 RNA-seq studies found for species Juniperus procera.\n",
      "Skipping species Kalanchoe fedtschenkoi because it has a genome in Phytozome\n",
      "Skipping species Lactuca sativa because it has a genome in Phytozome\n",
      "Skipping species Lens culinaris because it has a genome in Phytozome\n",
      "Skipping species Lens ervoides because it has a genome in Phytozome\n",
      "Skipping species Lepidium sativum because it has a genome in Phytozome\n"
     ]
    },
    {
     "name": "stderr",
     "output_type": "stream",
     "text": [
      " 68%|██████▊   | 199/294 [01:40<00:22,  4.24it/s]"
     ]
    },
    {
     "name": "stdout",
     "output_type": "stream",
     "text": [
      "0 RNA-seq studies found for species Leptadenia pyrotechnica.\n",
      "Skipping species Liriodendron tulipifera because it has a genome in Phytozome\n",
      "Skipping species Lotus japonicus because it has a genome in Phytozome\n",
      "Skipping species Lunaria annua because it has a genome in Phytozome\n",
      "Skipping species Lupinus albus because it has a genome in Phytozome\n",
      "Skipping species Malcolmia maritima because it has a genome in Phytozome\n",
      "Skipping species Malus domestica because it has a genome in Phytozome\n",
      "Skipping species Marchantia polymorpha because it has a genome in Phytozome\n",
      "Skipping species Medicago truncatula because it has a genome in Phytozome\n",
      "Skipping species Micromonas pusilla because it has a genome in Phytozome\n",
      "Skipping species Mimulus guttatus because it has a genome in Phytozome\n",
      "Skipping species Mimulus guttatus because it has a genome in Phytozome\n",
      "Skipping species Mimulus nasutus because it has a genome in Phytozome\n",
      "Skipping species Mimulus tilingii because it has a genome in Phytozome\n"
     ]
    },
    {
     "name": "stderr",
     "output_type": "stream",
     "text": [
      " 72%|███████▏  | 213/294 [01:41<00:09,  8.95it/s]"
     ]
    },
    {
     "name": "stdout",
     "output_type": "stream",
     "text": [
      "No results found for Mimusops laurifolia\n",
      "0 RNA-seq studies found for species Mimusops laurifolia.\n",
      "Skipping species Miscanthus sinensis because it has a genome in Phytozome\n"
     ]
    },
    {
     "name": "stderr",
     "output_type": "stream",
     "text": [
      " 73%|███████▎  | 215/294 [01:42<00:13,  5.83it/s]"
     ]
    },
    {
     "name": "stdout",
     "output_type": "stream",
     "text": [
      "There are 1 RNA-seq studies in SRA for species Mollugo pentaphylla\n"
     ]
    },
    {
     "name": "stderr",
     "output_type": "stream",
     "text": [
      " 74%|███████▍  | 218/294 [01:44<00:17,  4.42it/s]"
     ]
    },
    {
     "name": "stdout",
     "output_type": "stream",
     "text": [
      "There are 2 RNA-seq studies in SRA for species Mollugo verticillata\n",
      "Skipping species Morchella esculenta because it has a genome in Phytozome\n",
      "No results found for Moringa peregrina\n",
      "0 RNA-seq studies found for species Moringa peregrina.\n",
      "Skipping species Musa acuminata because it has a genome in Phytozome\n",
      "Skipping species Myagrum perfoliatum because it has a genome in Phytozome\n",
      "Skipping species Notholithocarpus densiflorus because it has a genome in Phytozome\n",
      "Skipping species Nymphaea colorata because it has a genome in Phytozome\n",
      "Skipping species Olea europaea because it has a genome in Phytozome\n"
     ]
    },
    {
     "name": "stderr",
     "output_type": "stream",
     "text": [
      " 76%|███████▌  | 224/294 [01:45<00:16,  4.17it/s]"
     ]
    },
    {
     "name": "stdout",
     "output_type": "stream",
     "text": [
      "There are 6 RNA-seq studies in SRA for species Opuntia sp\n",
      "Skipping species Oropetium thomaeum because it has a genome in Phytozome\n",
      "Skipping species Oryza sativa because it has a genome in Phytozome\n",
      "Skipping species Ostreococcus lucimarinus because it has a genome in Phytozome\n",
      "Skipping species Panicum hallii because it has a genome in Phytozome\n",
      "Skipping species Panicum virgatum because it has a genome in Phytozome\n",
      "Skipping species Phaseolus acutifolius because it has a genome in Phytozome\n",
      "Skipping species Phaseolus coccineus because it has a genome in Phytozome\n",
      "Skipping species Phaseolus lunatus because it has a genome in Phytozome\n"
     ]
    },
    {
     "name": "stderr",
     "output_type": "stream",
     "text": [
      " 83%|████████▎ | 244/294 [01:49<00:09,  5.39it/s]"
     ]
    },
    {
     "name": "stdout",
     "output_type": "stream",
     "text": [
      "There are 340 RNA-seq studies in SRA for species Phoenix dactylifera\n",
      "Skipping species Physcomitrella patens because it has a genome in Phytozome\n",
      "Skipping species Podocarpus latifolius because it has a genome in Phytozome\n",
      "Skipping species Poncirus trifoliata because it has a genome in Phytozome\n",
      "Skipping species Populus deltoides because it has a genome in Phytozome\n",
      "Skipping species Populus nigra x maximowiczii because it has a genome in Phytozome\n",
      "Skipping species Populus tremula x Populus alba because it has a genome in Phytozome\n",
      "Skipping species Populus trichocarpa because it has a genome in Phytozome\n",
      "Skipping species Portulaca amilis because it has a genome in Phytozome\n",
      "Skipping species Prunella vulgaris because it has a genome in Phytozome\n",
      "Skipping species Prunus persica because it has a genome in Phytozome\n",
      "Skipping species Quercus rubra because it has a genome in Phytozome\n",
      "0 RNA-seq studies found for species Rhanterium epapposum.\n"
     ]
    },
    {
     "name": "stderr",
     "output_type": "stream",
     "text": [
      " 84%|████████▍ | 248/294 [01:55<00:19,  2.32it/s]"
     ]
    },
    {
     "name": "stdout",
     "output_type": "stream",
     "text": [
      "There are 157 RNA-seq studies in SRA for species Rhyza stricta\n",
      "Skipping species Ricinus communis because it has a genome in Phytozome\n",
      "Skipping species Rorippa islandica because it has a genome in Phytozome\n",
      "Skipping species Saccharum officinarum x spontaneum because it has a genome in Phytozome\n",
      "Skipping species Salix alba because it has a genome in Phytozome\n",
      "No results found for Salsola villosa\n",
      "0 RNA-seq studies found for species Salsola villosa.\n"
     ]
    },
    {
     "name": "stderr",
     "output_type": "stream",
     "text": [
      " 86%|████████▌ | 252/294 [01:55<00:15,  2.79it/s]"
     ]
    },
    {
     "name": "stdout",
     "output_type": "stream",
     "text": [
      "0 RNA-seq studies found for species Salvadora persica.\n",
      "Skipping species Salvia officinalis because it has a genome in Phytozome\n",
      "Skipping species Sarracenia purpurea because it has a genome in Phytozome\n",
      "Skipping species Schrenkiella parvula because it has a genome in Phytozome\n",
      "Skipping species Selaginella moellendorffii because it has a genome in Phytozome\n"
     ]
    },
    {
     "name": "stderr",
     "output_type": "stream",
     "text": [
      " 87%|████████▋ | 257/294 [01:57<00:12,  3.05it/s]"
     ]
    },
    {
     "name": "stdout",
     "output_type": "stream",
     "text": [
      "No results found for Sesuvium trianthema\n",
      "0 RNA-seq studies found for species Sesuvium trianthema.\n"
     ]
    },
    {
     "name": "stderr",
     "output_type": "stream",
     "text": [
      " 88%|████████▊ | 259/294 [01:57<00:10,  3.33it/s]"
     ]
    },
    {
     "name": "stdout",
     "output_type": "stream",
     "text": [
      "There are 11 RNA-seq studies in SRA for species Sesuvium verrucosum\n",
      "Skipping species Setaria italica because it has a genome in Phytozome\n",
      "Skipping species Setaria viridis because it has a genome in Phytozome\n",
      "Skipping species Sisymbrium irio because it has a genome in Phytozome\n",
      "Skipping species Solanum lycopersicum because it has a genome in Phytozome\n",
      "Skipping species Solanum tuberosum because it has a genome in Phytozome\n",
      "Skipping species Sorghum bicolor because it has a genome in Phytozome\n",
      "Skipping species Sphagnum fallax because it has a genome in Phytozome\n",
      "Skipping species Sphagnum magellanicum because it has a genome in Phytozome\n",
      "Skipping species Spinacia oleracea because it has a genome in Phytozome\n",
      "Skipping species Spirodela polyrhiza because it has a genome in Phytozome\n",
      "Skipping species Stanleya pinnata because it has a genome in Phytozome\n"
     ]
    },
    {
     "name": "stderr",
     "output_type": "stream",
     "text": [
      " 92%|█████████▏| 270/294 [01:59<00:05,  4.19it/s]"
     ]
    },
    {
     "name": "stdout",
     "output_type": "stream",
     "text": [
      "0 RNA-seq studies found for species Tamarindus indica.\n",
      "Skipping species Theobroma cacao because it has a genome in Phytozome\n",
      "Skipping species Thinopyrum intermedium because it has a genome in Phytozome\n",
      "Skipping species Thlaspi arvense because it has a genome in Phytozome\n",
      "Skipping species Thuja plicata because it has a genome in Phytozome\n"
     ]
    },
    {
     "name": "stderr",
     "output_type": "stream",
     "text": [
      " 94%|█████████▎| 275/294 [01:59<00:03,  5.19it/s]"
     ]
    },
    {
     "name": "stdout",
     "output_type": "stream",
     "text": [
      "No results found for Tidestromia carnosa\n",
      "0 RNA-seq studies found for species Tidestromia carnosa.\n",
      "No results found for Tidestromia gemmata\n",
      "0 RNA-seq studies found for species Tidestromia gemmata.\n"
     ]
    },
    {
     "name": "stderr",
     "output_type": "stream",
     "text": [
      " 94%|█████████▍| 277/294 [02:01<00:04,  3.61it/s]"
     ]
    },
    {
     "name": "stdout",
     "output_type": "stream",
     "text": [
      "There are 2 RNA-seq studies in SRA for species Tidestromia lanuginosa\n"
     ]
    },
    {
     "name": "stderr",
     "output_type": "stream",
     "text": [
      " 95%|█████████▍| 278/294 [02:02<00:05,  2.70it/s]"
     ]
    },
    {
     "name": "stdout",
     "output_type": "stream",
     "text": [
      "There are 1 RNA-seq studies in SRA for species Tidestromia oblongifolia\n"
     ]
    },
    {
     "name": "stderr",
     "output_type": "stream",
     "text": [
      " 95%|█████████▍| 279/294 [02:02<00:05,  2.83it/s]"
     ]
    },
    {
     "name": "stdout",
     "output_type": "stream",
     "text": [
      "There are 1 RNA-seq studies in SRA for species Tidestromia suffruticosa\n",
      "Skipping species Trifolium pratense because it has a genome in Phytozome\n",
      "Skipping species Triticum aestivum because it has a genome in Phytozome\n",
      "Skipping species Typha latifolia because it has a genome in Phytozome\n",
      "Skipping species Urochloa fusca because it has a genome in Phytozome\n",
      "Skipping species Vaccinium darrowii because it has a genome in Phytozome\n",
      "Skipping species Vicia faba because it has a genome in Phytozome\n",
      "Skipping species Vigna unguiculata because it has a genome in Phytozome\n",
      "Skipping species Vitis vinifera because it has a genome in Phytozome\n",
      "Skipping species Volvox carteri because it has a genome in Phytozome\n",
      "Skipping species Yucca aloifolia because it has a genome in Phytozome\n"
     ]
    },
    {
     "name": "stderr",
     "output_type": "stream",
     "text": [
      " 99%|█████████▊| 290/294 [02:05<00:01,  3.84it/s]"
     ]
    },
    {
     "name": "stdout",
     "output_type": "stream",
     "text": [
      "There are 58 RNA-seq studies in SRA for species Yucca brevifolia\n",
      "Skipping species Zea mays because it has a genome in Phytozome\n"
     ]
    },
    {
     "name": "stderr",
     "output_type": "stream",
     "text": [
      " 99%|█████████▉| 292/294 [02:05<00:00,  4.06it/s]"
     ]
    },
    {
     "name": "stdout",
     "output_type": "stream",
     "text": [
      "There are 36 RNA-seq studies in SRA for species Ziziphus spina\n"
     ]
    },
    {
     "name": "stderr",
     "output_type": "stream",
     "text": [
      "100%|██████████| 294/294 [02:06<00:00,  2.32it/s]"
     ]
    },
    {
     "name": "stdout",
     "output_type": "stream",
     "text": [
      "There are 49 RNA-seq studies in SRA for species Ziziphus spina christi\n",
      "Skipping species Zostera marina because it has a genome in Phytozome\n"
     ]
    },
    {
     "name": "stderr",
     "output_type": "stream",
     "text": [
      "\n"
     ]
    }
   ],
   "source": [
    "all_studies = {}\n",
    "missing_rnaseq = []\n",
    "for spec in tqdm(all_species.species):\n",
    "    try:\n",
    "        if isfile(all_species.loc[all_species.species==spec, 'full_path'].values[0]):\n",
    "            print(f'Skipping species {spec} because it has a genome in Phytozome')\n",
    "            continue\n",
    "    except TypeError:\n",
    "        studies = db.search_sra(spec)\n",
    "        try:\n",
    "            studies_rna = studies[studies.library_strategy.str.contains('RNA')]\n",
    "            if len(studies_rna) > 0:\n",
    "                print(f'There are {len(studies_rna)} RNA-seq studies in SRA for species {spec}')\n",
    "                all_studies[spec] = studies_rna\n",
    "            else:\n",
    "                print(f'0 RNA-seq studies found for species {spec}.')\n",
    "                missing_rnaseq.append(spec)\n",
    "        except AttributeError:\n",
    "            print(f'0 RNA-seq studies found for species {spec}.')\n",
    "            missing_rnaseq.append(spec)"
   ]
  },
  {
   "cell_type": "code",
   "execution_count": 17,
   "id": "0109822c-7cf3-4f51-9adb-44c7a01f0a53",
   "metadata": {},
   "outputs": [
    {
     "name": "stdout",
     "output_type": "stream",
     "text": [
      "There are 32 organisms with RNAseq datasets that also don't have Phytozome genomes, 162 organisms with Phytozome genomes, and 101 that don't have an RNAseq dataset in SRA.\n"
     ]
    }
   ],
   "source": [
    "print(f'There are {len(all_studies)} organisms with RNAseq datasets that also don\\'t have Phytozome genomes, {len(list(listdir(genome_top_path)))} organisms with Phytozome genomes, and {len(missing_rnaseq)} that don\\'t have an RNAseq dataset in SRA.')"
   ]
  },
  {
   "cell_type": "code",
   "execution_count": 19,
   "id": "d8cc4fbc-5435-45f0-b2da-6cc9612ad065",
   "metadata": {},
   "outputs": [
    {
     "name": "stdout",
     "output_type": "stream",
     "text": [
      "[127, 1, 6, 16, 124, 3, 12, 5, 3, 3, 124, 11, 3, 3, 12, 5, 18, 5, 16, 16, 1, 2, 6, 340, 157, 11, 2, 1, 1, 58, 36, 49] 1177\n"
     ]
    }
   ],
   "source": [
    "print([len(stud) for stud in all_studies.values()], sum([len(stud) for stud in all_studies.values()]))"
   ]
  },
  {
   "cell_type": "markdown",
   "id": "84af1db9-adf0-4bad-8919-ec15eebf91bd",
   "metadata": {},
   "source": [
    "Concat so that we can just delete the studies we don't want from a single spreadsheet:"
   ]
  },
  {
   "cell_type": "code",
   "execution_count": 22,
   "id": "ab4f230e-cbee-4c24-a552-1498c2354979",
   "metadata": {},
   "outputs": [
    {
     "data": {
      "text/html": [
       "<div>\n",
       "<style scoped>\n",
       "    .dataframe tbody tr th:only-of-type {\n",
       "        vertical-align: middle;\n",
       "    }\n",
       "\n",
       "    .dataframe tbody tr th {\n",
       "        vertical-align: top;\n",
       "    }\n",
       "\n",
       "    .dataframe thead th {\n",
       "        text-align: right;\n",
       "    }\n",
       "</style>\n",
       "<table border=\"1\" class=\"dataframe\">\n",
       "  <thead>\n",
       "    <tr style=\"text-align: right;\">\n",
       "      <th></th>\n",
       "      <th>study_accession</th>\n",
       "      <th>study_title</th>\n",
       "      <th>experiment_accession</th>\n",
       "      <th>experiment_title</th>\n",
       "      <th>experiment_desc</th>\n",
       "      <th>organism_taxid</th>\n",
       "      <th>organism_name</th>\n",
       "      <th>library_name</th>\n",
       "      <th>library_strategy</th>\n",
       "      <th>library_source</th>\n",
       "      <th>...</th>\n",
       "      <th>biosample</th>\n",
       "      <th>bioproject</th>\n",
       "      <th>instrument</th>\n",
       "      <th>instrument_model</th>\n",
       "      <th>instrument_model_desc</th>\n",
       "      <th>total_spots</th>\n",
       "      <th>total_size</th>\n",
       "      <th>run_accession</th>\n",
       "      <th>run_total_spots</th>\n",
       "      <th>run_total_bases</th>\n",
       "    </tr>\n",
       "  </thead>\n",
       "  <tbody>\n",
       "    <tr>\n",
       "      <th>738</th>\n",
       "      <td>DRP004551</td>\n",
       "      <td>Avicennia marina leaves transcriptome</td>\n",
       "      <td>DRX112674</td>\n",
       "      <td>Illumina HiSeq 1500 paired end sequencing of S...</td>\n",
       "      <td>Illumina HiSeq 1500 paired end sequencing of S...</td>\n",
       "      <td>82927</td>\n",
       "      <td>Avicennia marina</td>\n",
       "      <td>None</td>\n",
       "      <td>RNA-Seq</td>\n",
       "      <td>TRANSCRIPTOMIC</td>\n",
       "      <td>...</td>\n",
       "      <td>SAMD00108023</td>\n",
       "      <td>PRJDB6605</td>\n",
       "      <td>Illumina HiSeq 1500</td>\n",
       "      <td>Illumina HiSeq 1500</td>\n",
       "      <td>ILLUMINA</td>\n",
       "      <td>14681880</td>\n",
       "      <td>1398935741</td>\n",
       "      <td>DRR119672</td>\n",
       "      <td>14681880</td>\n",
       "      <td>2965739760</td>\n",
       "    </tr>\n",
       "    <tr>\n",
       "      <th>683</th>\n",
       "      <td>SRP233272</td>\n",
       "      <td>Tissue-specific transcriptomes from Avicennia ...</td>\n",
       "      <td>SRX7217273</td>\n",
       "      <td>Tissue-specific transcriptomes from Avicennia ...</td>\n",
       "      <td>Tissue-specific transcriptomes from Avicennia ...</td>\n",
       "      <td>82927</td>\n",
       "      <td>Avicennia marina</td>\n",
       "      <td>Transcriptomic reads of Avicennia_marina_Flowers</td>\n",
       "      <td>RNA-Seq</td>\n",
       "      <td>TRANSCRIPTOMIC</td>\n",
       "      <td>...</td>\n",
       "      <td>SAMN13391520</td>\n",
       "      <td>PRJNA591919</td>\n",
       "      <td>Illumina HiSeq 2000</td>\n",
       "      <td>Illumina HiSeq 2000</td>\n",
       "      <td>ILLUMINA</td>\n",
       "      <td>175350106</td>\n",
       "      <td>11323323651</td>\n",
       "      <td>SRR10533306</td>\n",
       "      <td>175350106</td>\n",
       "      <td>16828597954</td>\n",
       "    </tr>\n",
       "    <tr>\n",
       "      <th>621</th>\n",
       "      <td>SRP270003</td>\n",
       "      <td>RNASeq to identify salt responsive genes from ...</td>\n",
       "      <td>SRX8666650</td>\n",
       "      <td>RNASeq to identify salt responsive genes from ...</td>\n",
       "      <td>RNASeq to identify salt responsive genes from ...</td>\n",
       "      <td>82927</td>\n",
       "      <td>Avicennia marina</td>\n",
       "      <td>am_Leaf_salt_0h</td>\n",
       "      <td>RNA-Seq</td>\n",
       "      <td>TRANSCRIPTOMIC</td>\n",
       "      <td>...</td>\n",
       "      <td>SAMN15447932</td>\n",
       "      <td>PRJNA643813</td>\n",
       "      <td>NextSeq 500</td>\n",
       "      <td>NextSeq 500</td>\n",
       "      <td>ILLUMINA</td>\n",
       "      <td>11648210</td>\n",
       "      <td>757097881</td>\n",
       "      <td>SRR12145926</td>\n",
       "      <td>11648210</td>\n",
       "      <td>1750406459</td>\n",
       "    </tr>\n",
       "    <tr>\n",
       "      <th>620</th>\n",
       "      <td>SRP270003</td>\n",
       "      <td>RNASeq to identify salt responsive genes from ...</td>\n",
       "      <td>SRX8666716</td>\n",
       "      <td>RNASeq to identify salt responsive genes from ...</td>\n",
       "      <td>RNASeq to identify salt responsive genes from ...</td>\n",
       "      <td>82927</td>\n",
       "      <td>Avicennia marina</td>\n",
       "      <td>am_salt_leaf_24h</td>\n",
       "      <td>RNA-Seq</td>\n",
       "      <td>TRANSCRIPTOMIC</td>\n",
       "      <td>...</td>\n",
       "      <td>SAMN15447933</td>\n",
       "      <td>PRJNA643813</td>\n",
       "      <td>NextSeq 500</td>\n",
       "      <td>NextSeq 500</td>\n",
       "      <td>ILLUMINA</td>\n",
       "      <td>11745346</td>\n",
       "      <td>763743587</td>\n",
       "      <td>SRR12145992</td>\n",
       "      <td>11745346</td>\n",
       "      <td>1765513323</td>\n",
       "    </tr>\n",
       "    <tr>\n",
       "      <th>619</th>\n",
       "      <td>SRP270003</td>\n",
       "      <td>RNASeq to identify salt responsive genes from ...</td>\n",
       "      <td>SRX8666717</td>\n",
       "      <td>RNASeq to identify salt responsive genes from ...</td>\n",
       "      <td>RNASeq to identify salt responsive genes from ...</td>\n",
       "      <td>82927</td>\n",
       "      <td>Avicennia marina</td>\n",
       "      <td>am_salt_leaf_48h</td>\n",
       "      <td>RNA-Seq</td>\n",
       "      <td>TRANSCRIPTOMIC</td>\n",
       "      <td>...</td>\n",
       "      <td>SAMN15447934</td>\n",
       "      <td>PRJNA643813</td>\n",
       "      <td>NextSeq 500</td>\n",
       "      <td>NextSeq 500</td>\n",
       "      <td>ILLUMINA</td>\n",
       "      <td>13807034</td>\n",
       "      <td>893255733</td>\n",
       "      <td>SRR12145993</td>\n",
       "      <td>13807034</td>\n",
       "      <td>2074839242</td>\n",
       "    </tr>\n",
       "  </tbody>\n",
       "</table>\n",
       "<p>5 rows × 24 columns</p>\n",
       "</div>"
      ],
      "text/plain": [
       "    study_accession                                        study_title  \\\n",
       "738       DRP004551              Avicennia marina leaves transcriptome   \n",
       "683       SRP233272  Tissue-specific transcriptomes from Avicennia ...   \n",
       "621       SRP270003  RNASeq to identify salt responsive genes from ...   \n",
       "620       SRP270003  RNASeq to identify salt responsive genes from ...   \n",
       "619       SRP270003  RNASeq to identify salt responsive genes from ...   \n",
       "\n",
       "    experiment_accession                                   experiment_title  \\\n",
       "738            DRX112674  Illumina HiSeq 1500 paired end sequencing of S...   \n",
       "683           SRX7217273  Tissue-specific transcriptomes from Avicennia ...   \n",
       "621           SRX8666650  RNASeq to identify salt responsive genes from ...   \n",
       "620           SRX8666716  RNASeq to identify salt responsive genes from ...   \n",
       "619           SRX8666717  RNASeq to identify salt responsive genes from ...   \n",
       "\n",
       "                                       experiment_desc organism_taxid  \\\n",
       "738  Illumina HiSeq 1500 paired end sequencing of S...          82927   \n",
       "683  Tissue-specific transcriptomes from Avicennia ...          82927   \n",
       "621  RNASeq to identify salt responsive genes from ...          82927   \n",
       "620  RNASeq to identify salt responsive genes from ...          82927   \n",
       "619  RNASeq to identify salt responsive genes from ...          82927   \n",
       "\n",
       "        organism_name                                      library_name  \\\n",
       "738  Avicennia marina                                              None   \n",
       "683  Avicennia marina  Transcriptomic reads of Avicennia_marina_Flowers   \n",
       "621  Avicennia marina                                   am_Leaf_salt_0h   \n",
       "620  Avicennia marina                                  am_salt_leaf_24h   \n",
       "619  Avicennia marina                                  am_salt_leaf_48h   \n",
       "\n",
       "    library_strategy  library_source  ...     biosample   bioproject  \\\n",
       "738          RNA-Seq  TRANSCRIPTOMIC  ...  SAMD00108023    PRJDB6605   \n",
       "683          RNA-Seq  TRANSCRIPTOMIC  ...  SAMN13391520  PRJNA591919   \n",
       "621          RNA-Seq  TRANSCRIPTOMIC  ...  SAMN15447932  PRJNA643813   \n",
       "620          RNA-Seq  TRANSCRIPTOMIC  ...  SAMN15447933  PRJNA643813   \n",
       "619          RNA-Seq  TRANSCRIPTOMIC  ...  SAMN15447934  PRJNA643813   \n",
       "\n",
       "              instrument     instrument_model instrument_model_desc  \\\n",
       "738  Illumina HiSeq 1500  Illumina HiSeq 1500              ILLUMINA   \n",
       "683  Illumina HiSeq 2000  Illumina HiSeq 2000              ILLUMINA   \n",
       "621          NextSeq 500          NextSeq 500              ILLUMINA   \n",
       "620          NextSeq 500          NextSeq 500              ILLUMINA   \n",
       "619          NextSeq 500          NextSeq 500              ILLUMINA   \n",
       "\n",
       "    total_spots   total_size run_accession run_total_spots run_total_bases  \n",
       "738    14681880   1398935741     DRR119672        14681880      2965739760  \n",
       "683   175350106  11323323651   SRR10533306       175350106     16828597954  \n",
       "621    11648210    757097881   SRR12145926        11648210      1750406459  \n",
       "620    11745346    763743587   SRR12145992        11745346      1765513323  \n",
       "619    13807034    893255733   SRR12145993        13807034      2074839242  \n",
       "\n",
       "[5 rows x 24 columns]"
      ]
     },
     "execution_count": 22,
     "metadata": {},
     "output_type": "execute_result"
    }
   ],
   "source": [
    "all_studies_df = pd.concat(all_studies.values()).drop_duplicates()\n",
    "all_studies_df.head()"
   ]
  },
  {
   "cell_type": "markdown",
   "id": "4f663bc3-8f26-4756-972c-42cec9f2104b",
   "metadata": {},
   "source": [
    "Save out the studies so we don't have to run the search again:"
   ]
  },
  {
   "cell_type": "code",
   "execution_count": 23,
   "id": "fd5b06f9-f0f8-4e44-8e9b-d880f202a990",
   "metadata": {},
   "outputs": [],
   "source": [
    "all_studies_df.to_csv(f'/mnt/research/Walker_Lab_Research/Serena_project_data/selection-under-heat_data/sra_study_info/all_SRA_studies_{run_date}.csv', index=False)"
   ]
  },
  {
   "cell_type": "markdown",
   "id": "e590e881-dca1-4124-93b6-bd99e33a402c",
   "metadata": {},
   "source": [
    "Read them back in:"
   ]
  },
  {
   "cell_type": "code",
   "execution_count": 4,
   "id": "86ed8406-e187-4dfa-976d-ba092b420f7d",
   "metadata": {},
   "outputs": [
    {
     "data": {
      "text/html": [
       "<div>\n",
       "<style scoped>\n",
       "    .dataframe tbody tr th:only-of-type {\n",
       "        vertical-align: middle;\n",
       "    }\n",
       "\n",
       "    .dataframe tbody tr th {\n",
       "        vertical-align: top;\n",
       "    }\n",
       "\n",
       "    .dataframe thead th {\n",
       "        text-align: right;\n",
       "    }\n",
       "</style>\n",
       "<table border=\"1\" class=\"dataframe\">\n",
       "  <thead>\n",
       "    <tr style=\"text-align: right;\">\n",
       "      <th></th>\n",
       "      <th>study_accession</th>\n",
       "      <th>study_title</th>\n",
       "      <th>experiment_accession</th>\n",
       "      <th>experiment_title</th>\n",
       "      <th>experiment_desc</th>\n",
       "      <th>organism_taxid</th>\n",
       "      <th>organism_name</th>\n",
       "      <th>library_name</th>\n",
       "      <th>library_strategy</th>\n",
       "      <th>library_source</th>\n",
       "      <th>...</th>\n",
       "      <th>biosample</th>\n",
       "      <th>bioproject</th>\n",
       "      <th>instrument</th>\n",
       "      <th>instrument_model</th>\n",
       "      <th>instrument_model_desc</th>\n",
       "      <th>total_spots</th>\n",
       "      <th>total_size</th>\n",
       "      <th>run_accession</th>\n",
       "      <th>run_total_spots</th>\n",
       "      <th>run_total_bases</th>\n",
       "    </tr>\n",
       "  </thead>\n",
       "  <tbody>\n",
       "    <tr>\n",
       "      <th>0</th>\n",
       "      <td>DRP004551</td>\n",
       "      <td>Avicennia marina leaves transcriptome</td>\n",
       "      <td>DRX112674</td>\n",
       "      <td>Illumina HiSeq 1500 paired end sequencing of S...</td>\n",
       "      <td>Illumina HiSeq 1500 paired end sequencing of S...</td>\n",
       "      <td>82927</td>\n",
       "      <td>Avicennia marina</td>\n",
       "      <td>NaN</td>\n",
       "      <td>RNA-Seq</td>\n",
       "      <td>TRANSCRIPTOMIC</td>\n",
       "      <td>...</td>\n",
       "      <td>SAMD00108023</td>\n",
       "      <td>PRJDB6605</td>\n",
       "      <td>Illumina HiSeq 1500</td>\n",
       "      <td>Illumina HiSeq 1500</td>\n",
       "      <td>ILLUMINA</td>\n",
       "      <td>14681880</td>\n",
       "      <td>1398935741</td>\n",
       "      <td>DRR119672</td>\n",
       "      <td>14681880</td>\n",
       "      <td>2965739760</td>\n",
       "    </tr>\n",
       "    <tr>\n",
       "      <th>1</th>\n",
       "      <td>SRP233272</td>\n",
       "      <td>Tissue-specific transcriptomes from Avicennia ...</td>\n",
       "      <td>SRX7217273</td>\n",
       "      <td>Tissue-specific transcriptomes from Avicennia ...</td>\n",
       "      <td>Tissue-specific transcriptomes from Avicennia ...</td>\n",
       "      <td>82927</td>\n",
       "      <td>Avicennia marina</td>\n",
       "      <td>Transcriptomic reads of Avicennia_marina_Flowers</td>\n",
       "      <td>RNA-Seq</td>\n",
       "      <td>TRANSCRIPTOMIC</td>\n",
       "      <td>...</td>\n",
       "      <td>SAMN13391520</td>\n",
       "      <td>PRJNA591919</td>\n",
       "      <td>Illumina HiSeq 2000</td>\n",
       "      <td>Illumina HiSeq 2000</td>\n",
       "      <td>ILLUMINA</td>\n",
       "      <td>175350106</td>\n",
       "      <td>11323323651</td>\n",
       "      <td>SRR10533306</td>\n",
       "      <td>175350106</td>\n",
       "      <td>16828597954</td>\n",
       "    </tr>\n",
       "    <tr>\n",
       "      <th>2</th>\n",
       "      <td>SRP270003</td>\n",
       "      <td>RNASeq to identify salt responsive genes from ...</td>\n",
       "      <td>SRX8666650</td>\n",
       "      <td>RNASeq to identify salt responsive genes from ...</td>\n",
       "      <td>RNASeq to identify salt responsive genes from ...</td>\n",
       "      <td>82927</td>\n",
       "      <td>Avicennia marina</td>\n",
       "      <td>am_Leaf_salt_0h</td>\n",
       "      <td>RNA-Seq</td>\n",
       "      <td>TRANSCRIPTOMIC</td>\n",
       "      <td>...</td>\n",
       "      <td>SAMN15447932</td>\n",
       "      <td>PRJNA643813</td>\n",
       "      <td>NextSeq 500</td>\n",
       "      <td>NextSeq 500</td>\n",
       "      <td>ILLUMINA</td>\n",
       "      <td>11648210</td>\n",
       "      <td>757097881</td>\n",
       "      <td>SRR12145926</td>\n",
       "      <td>11648210</td>\n",
       "      <td>1750406459</td>\n",
       "    </tr>\n",
       "    <tr>\n",
       "      <th>3</th>\n",
       "      <td>SRP270003</td>\n",
       "      <td>RNASeq to identify salt responsive genes from ...</td>\n",
       "      <td>SRX8666716</td>\n",
       "      <td>RNASeq to identify salt responsive genes from ...</td>\n",
       "      <td>RNASeq to identify salt responsive genes from ...</td>\n",
       "      <td>82927</td>\n",
       "      <td>Avicennia marina</td>\n",
       "      <td>am_salt_leaf_24h</td>\n",
       "      <td>RNA-Seq</td>\n",
       "      <td>TRANSCRIPTOMIC</td>\n",
       "      <td>...</td>\n",
       "      <td>SAMN15447933</td>\n",
       "      <td>PRJNA643813</td>\n",
       "      <td>NextSeq 500</td>\n",
       "      <td>NextSeq 500</td>\n",
       "      <td>ILLUMINA</td>\n",
       "      <td>11745346</td>\n",
       "      <td>763743587</td>\n",
       "      <td>SRR12145992</td>\n",
       "      <td>11745346</td>\n",
       "      <td>1765513323</td>\n",
       "    </tr>\n",
       "    <tr>\n",
       "      <th>4</th>\n",
       "      <td>SRP270003</td>\n",
       "      <td>RNASeq to identify salt responsive genes from ...</td>\n",
       "      <td>SRX8666717</td>\n",
       "      <td>RNASeq to identify salt responsive genes from ...</td>\n",
       "      <td>RNASeq to identify salt responsive genes from ...</td>\n",
       "      <td>82927</td>\n",
       "      <td>Avicennia marina</td>\n",
       "      <td>am_salt_leaf_48h</td>\n",
       "      <td>RNA-Seq</td>\n",
       "      <td>TRANSCRIPTOMIC</td>\n",
       "      <td>...</td>\n",
       "      <td>SAMN15447934</td>\n",
       "      <td>PRJNA643813</td>\n",
       "      <td>NextSeq 500</td>\n",
       "      <td>NextSeq 500</td>\n",
       "      <td>ILLUMINA</td>\n",
       "      <td>13807034</td>\n",
       "      <td>893255733</td>\n",
       "      <td>SRR12145993</td>\n",
       "      <td>13807034</td>\n",
       "      <td>2074839242</td>\n",
       "    </tr>\n",
       "  </tbody>\n",
       "</table>\n",
       "<p>5 rows × 24 columns</p>\n",
       "</div>"
      ],
      "text/plain": [
       "  study_accession                                        study_title  \\\n",
       "0       DRP004551              Avicennia marina leaves transcriptome   \n",
       "1       SRP233272  Tissue-specific transcriptomes from Avicennia ...   \n",
       "2       SRP270003  RNASeq to identify salt responsive genes from ...   \n",
       "3       SRP270003  RNASeq to identify salt responsive genes from ...   \n",
       "4       SRP270003  RNASeq to identify salt responsive genes from ...   \n",
       "\n",
       "  experiment_accession                                   experiment_title  \\\n",
       "0            DRX112674  Illumina HiSeq 1500 paired end sequencing of S...   \n",
       "1           SRX7217273  Tissue-specific transcriptomes from Avicennia ...   \n",
       "2           SRX8666650  RNASeq to identify salt responsive genes from ...   \n",
       "3           SRX8666716  RNASeq to identify salt responsive genes from ...   \n",
       "4           SRX8666717  RNASeq to identify salt responsive genes from ...   \n",
       "\n",
       "                                     experiment_desc  organism_taxid  \\\n",
       "0  Illumina HiSeq 1500 paired end sequencing of S...           82927   \n",
       "1  Tissue-specific transcriptomes from Avicennia ...           82927   \n",
       "2  RNASeq to identify salt responsive genes from ...           82927   \n",
       "3  RNASeq to identify salt responsive genes from ...           82927   \n",
       "4  RNASeq to identify salt responsive genes from ...           82927   \n",
       "\n",
       "      organism_name                                      library_name  \\\n",
       "0  Avicennia marina                                               NaN   \n",
       "1  Avicennia marina  Transcriptomic reads of Avicennia_marina_Flowers   \n",
       "2  Avicennia marina                                   am_Leaf_salt_0h   \n",
       "3  Avicennia marina                                  am_salt_leaf_24h   \n",
       "4  Avicennia marina                                  am_salt_leaf_48h   \n",
       "\n",
       "  library_strategy  library_source  ...     biosample   bioproject  \\\n",
       "0          RNA-Seq  TRANSCRIPTOMIC  ...  SAMD00108023    PRJDB6605   \n",
       "1          RNA-Seq  TRANSCRIPTOMIC  ...  SAMN13391520  PRJNA591919   \n",
       "2          RNA-Seq  TRANSCRIPTOMIC  ...  SAMN15447932  PRJNA643813   \n",
       "3          RNA-Seq  TRANSCRIPTOMIC  ...  SAMN15447933  PRJNA643813   \n",
       "4          RNA-Seq  TRANSCRIPTOMIC  ...  SAMN15447934  PRJNA643813   \n",
       "\n",
       "            instrument     instrument_model instrument_model_desc total_spots  \\\n",
       "0  Illumina HiSeq 1500  Illumina HiSeq 1500              ILLUMINA    14681880   \n",
       "1  Illumina HiSeq 2000  Illumina HiSeq 2000              ILLUMINA   175350106   \n",
       "2          NextSeq 500          NextSeq 500              ILLUMINA    11648210   \n",
       "3          NextSeq 500          NextSeq 500              ILLUMINA    11745346   \n",
       "4          NextSeq 500          NextSeq 500              ILLUMINA    13807034   \n",
       "\n",
       "    total_size run_accession run_total_spots  run_total_bases  \n",
       "0   1398935741     DRR119672        14681880       2965739760  \n",
       "1  11323323651   SRR10533306       175350106      16828597954  \n",
       "2    757097881   SRR12145926        11648210       1750406459  \n",
       "3    763743587   SRR12145992        11745346       1765513323  \n",
       "4    893255733   SRR12145993        13807034       2074839242  \n",
       "\n",
       "[5 rows x 24 columns]"
      ]
     },
     "execution_count": 4,
     "metadata": {},
     "output_type": "execute_result"
    }
   ],
   "source": [
    "all_studies_df = pd.read_csv('/mnt/research/Walker_Lab_Research/Serena_project_data/selection-under-heat_data/sra_study_info/all_SRA_studies_12Sep2025.csv')\n",
    "all_studies_df.head()"
   ]
  },
  {
   "cell_type": "markdown",
   "id": "8df59930-9e5d-41b5-9f06-525da0f2b3fd",
   "metadata": {},
   "source": [
    "We want to perform further filtering on this list to get a single rep per organism. This will require some if/else logic on the studies for each organism. First, we'll drop any `SINGLE` in the `library_layout` column, if there is a `PAIRED` option for that species, because paired end reads are more reliable."
   ]
  },
  {
   "cell_type": "code",
   "execution_count": 12,
   "id": "dc1cba92-698c-4222-8f76-3ebfd72b7935",
   "metadata": {},
   "outputs": [
    {
     "name": "stdout",
     "output_type": "stream",
     "text": [
      "For species Avicennia marina, 5 of 88 total studies are single-end reads, and will be dropped\n",
      "There are only single-end reads for species Boechera depauperata\n",
      "For species Boechera divaricarpa, 5 of 16 total studies are single-end reads, and will be dropped\n",
      "For species Boechera stricta, 17 of 41 total studies are single-end reads, and will be dropped\n",
      "There are only single-end reads for species Arabidopsis thaliana\n",
      "For species Boechera williamsii, 6 of 12 total studies are single-end reads, and will be dropped\n",
      "For species Boechera pallidifolia, 8 of 11 total studies are single-end reads, and will be dropped\n",
      "There are only single-end reads for species Opuntia robusta\n",
      "There are only single-end reads for species Opuntia joconostle\n",
      "There are only single-end reads for species Opuntia ficus-indica\n",
      "For species Phoenix dactylifera, 23 of 267 total studies are single-end reads, and will be dropped\n",
      "There are only single-end reads for species Coccotrypes dactyliperda\n",
      "There are only single-end reads for species nan\n",
      "There are only single-end reads for species Rhynchophorus ferrugineus\n",
      "For species Ziziphus spina-christi, 1 of 13 total studies are single-end reads, and will be dropped\n"
     ]
    }
   ],
   "source": [
    "drop_for_single = []\n",
    "for species in all_studies_df.organism_name.unique():\n",
    "    spec_subset = all_studies_df[all_studies_df.organism_name == species]\n",
    "    single_end = spec_subset[spec_subset.library_layout == 'SINGLE']\n",
    "    if len(single_end) == len(spec_subset): # Means there's only single end\n",
    "        print(f'There are only single-end reads for species {species}')\n",
    "        continue\n",
    "    else:\n",
    "        drop_for_single.extend(single_end.index.tolist())\n",
    "        if len(single_end) > 0:\n",
    "            print(f'For species {species}, {len(single_end)} of {len(spec_subset)} total studies are single-end reads, and will be dropped')"
   ]
  },
  {
   "cell_type": "code",
   "execution_count": 13,
   "id": "9362f58d-796c-4b85-be59-0fec7d633e71",
   "metadata": {},
   "outputs": [],
   "source": [
    "all_studies_df = all_studies_df.drop(index=drop_for_single)"
   ]
  },
  {
   "cell_type": "markdown",
   "id": "0ebfa1a9-950d-487b-87cd-fc4a61ef987c",
   "metadata": {},
   "source": [
    "Unfortunately the read length is not included in the metadata returned by our search, so we can't filter based on that; we'll have to check that manually at the end. However, we also want to know that our samples are coming from leaf tissue. While there is not a eddicated field for tissue type, many studies inclued this information in one of the following fields: `study_title`, `experiment_title`, or `experiment_desc`. As for the single vs. paired filter, we'll look for any rows with the string `\"leaf\"` in them, but if none have them, we'll just keep what's there."
   ]
  },
  {
   "cell_type": "code",
   "execution_count": 18,
   "id": "ea28a0b0-eaee-43a3-b5ad-4ae0695a3b6f",
   "metadata": {},
   "outputs": [
    {
     "name": "stdout",
     "output_type": "stream",
     "text": [
      "For species Avicennia marina, 17 of 83 total studies are leaf specific, all others will be dropped\n",
      "There are no leaf-specific studies for species mangrove metagenome\n",
      "For species Rhizophora apiculata, 6 of 12 total studies are leaf specific, all others will be dropped\n",
      "For species Avicennia marina var. rumphiana, 2 of 2 total studies are leaf specific, all others will be dropped\n",
      "For species Avicennia marina subsp. eucalyptifolia, 1 of 2 total studies are leaf specific, all others will be dropped\n",
      "For species Avicennia marina subsp. australasica, 1 of 1 total studies are leaf specific, all others will be dropped\n",
      "For species Avicennia marina subsp. marina, 1 of 1 total studies are leaf specific, all others will be dropped\n",
      "There are no leaf-specific studies for species sediment metagenome\n",
      "There are no leaf-specific studies for species Azorella trisecta\n",
      "There are no leaf-specific studies for species Boechera depauperata\n",
      "There are no leaf-specific studies for species Boechera divaricarpa\n",
      "There are no leaf-specific studies for species Boechera gunnisoniana\n",
      "For species Boechera stricta, 17 of 24 total studies are leaf specific, all others will be dropped\n",
      "There are no leaf-specific studies for species Arabidopsis thaliana\n",
      "There are no leaf-specific studies for species mixed culture metagenome\n",
      "There are no leaf-specific studies for species Boechera williamsii\n",
      "There are no leaf-specific studies for species Boechera glareosa\n",
      "There are no leaf-specific studies for species Boechera schistacea\n",
      "There are no leaf-specific studies for species Boechera perennans\n",
      "There are no leaf-specific studies for species Boechera lignifera\n",
      "There are no leaf-specific studies for species Boechera lasiocarpa\n",
      "There are no leaf-specific studies for species Boechera holboellii\n",
      "There are no leaf-specific studies for species Boechera formosa\n",
      "There are no leaf-specific studies for species Boechera pallidifolia\n",
      "There are no leaf-specific studies for species Carnegiea gigantea\n",
      "There are no leaf-specific studies for species Cistanthe longiscapa\n",
      "For species Cucurbita palmata, 4 of 5 total studies are leaf specific, all others will be dropped\n",
      "There are no leaf-specific studies for species Haloxylon persicum\n",
      "There are no leaf-specific studies for species Heliotropium calcicola\n",
      "There are no leaf-specific studies for species Euploca convolvulacea\n",
      "There are no leaf-specific studies for species Heliotropium greggii\n",
      "There are no leaf-specific studies for species Heliotropium spathulatum\n",
      "There are no leaf-specific studies for species Heliotropium corymbosum\n",
      "For species Heliotropium thermophilum, 3 of 7 total studies are leaf specific, all others will be dropped\n",
      "There are no leaf-specific studies for species Heliotropium arborescens\n",
      "There are no leaf-specific studies for species Trigastrotheca pentaphylla\n",
      "There are no leaf-specific studies for species Mollugo verticillata\n",
      "There are no leaf-specific studies for species Opuntia robusta\n",
      "There are no leaf-specific studies for species Opuntia joconostle\n",
      "There are no leaf-specific studies for species Opuntia ficus-indica\n",
      "For species Phoenix dactylifera, 12 of 244 total studies are leaf specific, all others will be dropped\n",
      "There are no leaf-specific studies for species soil metagenome\n",
      "There are no leaf-specific studies for species Coccotrypes dactyliperda\n",
      "There are no leaf-specific studies for species nan\n",
      "There are no leaf-specific studies for species Rhynchophorus ferrugineus\n",
      "There are no leaf-specific studies for species Nardus stricta\n",
      "There are no leaf-specific studies for species Rhazya stricta\n",
      "There are no leaf-specific studies for species Nigella stricta\n",
      "For species Oxalis stricta, 26 of 36 total studies are leaf specific, all others will be dropped\n",
      "There are no leaf-specific studies for species Adenophora\n",
      "There are no leaf-specific studies for species Zamia stricta\n",
      "For species Adenophora stricta, 1 of 1 total studies are leaf specific, all others will be dropped\n",
      "For species Lobelia chinensis, 1 of 1 total studies are leaf specific, all others will be dropped\n",
      "For species Lobelia sp., 1 of 1 total studies are leaf specific, all others will be dropped\n",
      "For species Lobelia seguinii, 1 of 3 total studies are leaf specific, all others will be dropped\n",
      "There are no leaf-specific studies for species Sesuvium verrucosum\n",
      "There are no leaf-specific studies for species Tidestromia lanuginosa\n",
      "For species Tidestromia suffruticosa var. oblongifolia, 1 of 1 total studies are leaf specific, all others will be dropped\n",
      "There are no leaf-specific studies for species Yucca brevifolia\n",
      "There are no leaf-specific studies for species Dactuliothrips xerophilus\n",
      "There are no leaf-specific studies for species Ziziphus jujuba\n",
      "There are no leaf-specific studies for species Ziziphus spina-christi\n"
     ]
    }
   ],
   "source": [
    "drop_for_leaf = []\n",
    "for species in all_studies_df.organism_name.unique():\n",
    "    spec_subset = all_studies_df[all_studies_df.organism_name == species]\n",
    "    has_leaf = spec_subset[(spec_subset.study_title.str.lower().str.contains('leaf')) | (spec_subset.experiment_title.str.lower().str.contains('leaf')) | (spec_subset.experiment_desc.str.lower().str.contains('leaf'))]\n",
    "    if len(has_leaf) == 0: # Means there's no leaf specific one\n",
    "        print(f'There are no leaf-specific studies for species {species}')\n",
    "        continue\n",
    "    else:\n",
    "        not_leaf_idxs = spec_subset.drop(index=has_leaf.index.tolist()).index.tolist()\n",
    "        drop_for_leaf.extend(not_leaf_idxs)\n",
    "        print(f'For species {species}, {len(has_leaf)} of {len(spec_subset)} total studies are leaf specific, all others will be dropped')"
   ]
  },
  {
   "cell_type": "code",
   "execution_count": 19,
   "id": "4503ba8c-7344-42a1-a3c6-2bbcd6d4356b",
   "metadata": {},
   "outputs": [],
   "source": [
    "all_studies_df = all_studies_df.drop(index=drop_for_leaf)"
   ]
  },
  {
   "cell_type": "markdown",
   "id": "8c8000cf-c800-4bf6-8064-c412777a98a3",
   "metadata": {},
   "source": [
    "The last thing we can do tom ake this list easiest to manage is to remove duplicate entries from the same experiment, since we only need one rep. Any species that still have multiple experiments we will include one rep from all of them, as we can manually check the read lengths to choose among them. The groupings will have the same Bioproject number, but different sample accession numbers and different experiment numbers. We'll go through each remaining bioproject and keep just the first sample."
   ]
  },
  {
   "cell_type": "code",
   "execution_count": 24,
   "id": "54b993fd-61ed-412b-91e5-1e1c591172c1",
   "metadata": {},
   "outputs": [
    {
     "name": "stdout",
     "output_type": "stream",
     "text": [
      "455 replicate rows will be dropped (out of a total of 512)\n"
     ]
    }
   ],
   "source": [
    "drop_for_reps = []\n",
    "for proj in all_studies_df.bioproject.unique():\n",
    "    bio_subset = all_studies_df[all_studies_df.bioproject == proj]\n",
    "    all_but_first = bio_subset.index.tolist()[1:]\n",
    "    drop_for_reps.extend(all_but_first)\n",
    "print(f'{len(drop_for_reps)} replicate rows will be dropped (out of a total of {len(all_studies_df)})')"
   ]
  },
  {
   "cell_type": "code",
   "execution_count": 26,
   "id": "5d832c4a-a94c-46ac-82e3-072e63a2a4ed",
   "metadata": {},
   "outputs": [],
   "source": [
    "all_studies_df = all_studies_df.drop(index=drop_for_reps)"
   ]
  },
  {
   "cell_type": "markdown",
   "id": "e40289b4-b3c4-45a2-9d62-c16301316764",
   "metadata": {},
   "source": [
    "Save out what we have:"
   ]
  },
  {
   "cell_type": "code",
   "execution_count": 27,
   "id": "1ed43646-72c6-4723-a428-b89d5cd54fd2",
   "metadata": {},
   "outputs": [],
   "source": [
    "all_studies_df.to_csv(f'/mnt/research/Walker_Lab_Research/Serena_project_data/selection-under-heat_data/sra_study_info/filtered_single_rep_studies_{run_date}.csv', index=False)"
   ]
  },
  {
   "cell_type": "markdown",
   "id": "fc7ce8bc-9e44-4f26-8b80-cb63eb2550f0",
   "metadata": {},
   "source": [
    "## Getting fastq files\n",
    "After exporting the above file, I manually checked read lengths and removed most duplicate samples. For those with similar length paired read samples, I left duplicates if (a) I thought it would be valuable or (b) if I wasn't certain about the tissue origin for the samples. Now, we'll use the SRA toolkit to prefetch and download the fastq files for each sample."
   ]
  },
  {
   "cell_type": "code",
   "execution_count": 5,
   "id": "a363c686-6818-4f0a-a8ef-59493230e8b4",
   "metadata": {},
   "outputs": [
    {
     "data": {
      "text/html": [
       "<div>\n",
       "<style scoped>\n",
       "    .dataframe tbody tr th:only-of-type {\n",
       "        vertical-align: middle;\n",
       "    }\n",
       "\n",
       "    .dataframe tbody tr th {\n",
       "        vertical-align: top;\n",
       "    }\n",
       "\n",
       "    .dataframe thead th {\n",
       "        text-align: right;\n",
       "    }\n",
       "</style>\n",
       "<table border=\"1\" class=\"dataframe\">\n",
       "  <thead>\n",
       "    <tr style=\"text-align: right;\">\n",
       "      <th></th>\n",
       "      <th>organism_name</th>\n",
       "      <th>len_reads</th>\n",
       "      <th>study_accession</th>\n",
       "      <th>study_title</th>\n",
       "      <th>experiment_accession</th>\n",
       "      <th>experiment_title</th>\n",
       "      <th>experiment_desc</th>\n",
       "      <th>organism_taxid</th>\n",
       "      <th>library_name</th>\n",
       "      <th>library_strategy</th>\n",
       "      <th>...</th>\n",
       "      <th>biosample</th>\n",
       "      <th>bioproject</th>\n",
       "      <th>instrument</th>\n",
       "      <th>instrument_model</th>\n",
       "      <th>instrument_model_desc</th>\n",
       "      <th>total_spots</th>\n",
       "      <th>total_size</th>\n",
       "      <th>run_accession</th>\n",
       "      <th>run_total_spots</th>\n",
       "      <th>run_total_bases</th>\n",
       "    </tr>\n",
       "  </thead>\n",
       "  <tbody>\n",
       "    <tr>\n",
       "      <th>0</th>\n",
       "      <td>Adenophora stricta</td>\n",
       "      <td>150</td>\n",
       "      <td>SRP549143</td>\n",
       "      <td>This BioProject includes raw sequencing data f...</td>\n",
       "      <td>SRX26957374</td>\n",
       "      <td>leaf+stem RNA of Adenophora stricta</td>\n",
       "      <td>leaf+stem RNA of Adenophora stricta</td>\n",
       "      <td>82279</td>\n",
       "      <td>am_rnaseq_leaf</td>\n",
       "      <td>RNA-Seq</td>\n",
       "      <td>...</td>\n",
       "      <td>SAMN15447991</td>\n",
       "      <td>PRJNA392014</td>\n",
       "      <td>NextSeq 500</td>\n",
       "      <td>NextSeq 500</td>\n",
       "      <td>ILLUMINA</td>\n",
       "      <td>54006517</td>\n",
       "      <td>6346122539</td>\n",
       "      <td>SRR12146026</td>\n",
       "      <td>54006517</td>\n",
       "      <td>14987554557</td>\n",
       "    </tr>\n",
       "    <tr>\n",
       "      <th>1</th>\n",
       "      <td>Avicennia marina</td>\n",
       "      <td>150</td>\n",
       "      <td>SRP416093</td>\n",
       "      <td>The RNA-seq data of Avicennia marina leaf epid...</td>\n",
       "      <td>SRX18949618</td>\n",
       "      <td>RNA-Seq of A. marina</td>\n",
       "      <td>RNA-Seq of A. marina</td>\n",
       "      <td>82927</td>\n",
       "      <td>NaN</td>\n",
       "      <td>RNA-Seq</td>\n",
       "      <td>...</td>\n",
       "      <td>SAMN03654442</td>\n",
       "      <td>PRJNA283781</td>\n",
       "      <td>NextSeq 500</td>\n",
       "      <td>NextSeq 500</td>\n",
       "      <td>ILLUMINA</td>\n",
       "      <td>37876026</td>\n",
       "      <td>2883978460</td>\n",
       "      <td>SRR2029733</td>\n",
       "      <td>37876026</td>\n",
       "      <td>5757155952</td>\n",
       "    </tr>\n",
       "    <tr>\n",
       "      <th>2</th>\n",
       "      <td>Avicennia marina</td>\n",
       "      <td>90</td>\n",
       "      <td>SRP018275</td>\n",
       "      <td>Avicennia marina Transcriptome or Gene expression</td>\n",
       "      <td>SRX220549</td>\n",
       "      <td>Leaf transcriptome from Avicennia marina</td>\n",
       "      <td>Leaf transcriptome from Avicennia marina</td>\n",
       "      <td>82927</td>\n",
       "      <td>FKRO210225575-1A</td>\n",
       "      <td>RNA-Seq</td>\n",
       "      <td>...</td>\n",
       "      <td>SAMN32605810</td>\n",
       "      <td>PRJNA918785</td>\n",
       "      <td>Illumina NovaSeq 6000</td>\n",
       "      <td>Illumina NovaSeq 6000</td>\n",
       "      <td>ILLUMINA</td>\n",
       "      <td>133333541</td>\n",
       "      <td>12419487041</td>\n",
       "      <td>SRR22993527</td>\n",
       "      <td>133333541</td>\n",
       "      <td>40000062300</td>\n",
       "    </tr>\n",
       "    <tr>\n",
       "      <th>3</th>\n",
       "      <td>Avicennia marina var. rumphiana</td>\n",
       "      <td>150</td>\n",
       "      <td>SRP365449</td>\n",
       "      <td>Mangrove Genome Project</td>\n",
       "      <td>SRX14582339</td>\n",
       "      <td>Arumphiana_leaf</td>\n",
       "      <td>Arumphiana_leaf</td>\n",
       "      <td>1238153</td>\n",
       "      <td>AL04</td>\n",
       "      <td>RNA-Seq</td>\n",
       "      <td>...</td>\n",
       "      <td>SAMN41662877</td>\n",
       "      <td>PRJNA797928</td>\n",
       "      <td>BGISEQ-500</td>\n",
       "      <td>BGISEQ-500</td>\n",
       "      <td>BGISEQ</td>\n",
       "      <td>2365917</td>\n",
       "      <td>490760605</td>\n",
       "      <td>SRR29297605</td>\n",
       "      <td>2365917</td>\n",
       "      <td>695579598</td>\n",
       "    </tr>\n",
       "    <tr>\n",
       "      <th>4</th>\n",
       "      <td>Azorella trisecta</td>\n",
       "      <td>101</td>\n",
       "      <td>SRP299551</td>\n",
       "      <td>Plant ecological genomics at the limits of lif...</td>\n",
       "      <td>SRX9744420</td>\n",
       "      <td>RNA-seq of Azorella atacamensis</td>\n",
       "      <td>RNA-seq of Azorella atacamensis</td>\n",
       "      <td>1277843</td>\n",
       "      <td>NaN</td>\n",
       "      <td>RNA-Seq</td>\n",
       "      <td>...</td>\n",
       "      <td>SAMN01906725</td>\n",
       "      <td>PRJNA187540</td>\n",
       "      <td>Illumina Genome Analyzer IIx</td>\n",
       "      <td>Illumina Genome Analyzer IIx</td>\n",
       "      <td>ILLUMINA</td>\n",
       "      <td>20000000</td>\n",
       "      <td>2230394226</td>\n",
       "      <td>SRR653719</td>\n",
       "      <td>20000000</td>\n",
       "      <td>3600000000</td>\n",
       "    </tr>\n",
       "  </tbody>\n",
       "</table>\n",
       "<p>5 rows × 25 columns</p>\n",
       "</div>"
      ],
      "text/plain": [
       "                     organism_name len_reads study_accession  \\\n",
       "0               Adenophora stricta       150       SRP549143   \n",
       "1                 Avicennia marina       150       SRP416093   \n",
       "2                 Avicennia marina        90       SRP018275   \n",
       "3  Avicennia marina var. rumphiana       150       SRP365449   \n",
       "4                Azorella trisecta       101       SRP299551   \n",
       "\n",
       "                                         study_title experiment_accession  \\\n",
       "0  This BioProject includes raw sequencing data f...          SRX26957374   \n",
       "1  The RNA-seq data of Avicennia marina leaf epid...          SRX18949618   \n",
       "2  Avicennia marina Transcriptome or Gene expression            SRX220549   \n",
       "3                            Mangrove Genome Project          SRX14582339   \n",
       "4  Plant ecological genomics at the limits of lif...           SRX9744420   \n",
       "\n",
       "                           experiment_title  \\\n",
       "0       leaf+stem RNA of Adenophora stricta   \n",
       "1                      RNA-Seq of A. marina   \n",
       "2  Leaf transcriptome from Avicennia marina   \n",
       "3                           Arumphiana_leaf   \n",
       "4           RNA-seq of Azorella atacamensis   \n",
       "\n",
       "                            experiment_desc  organism_taxid      library_name  \\\n",
       "0       leaf+stem RNA of Adenophora stricta           82279    am_rnaseq_leaf   \n",
       "1                      RNA-Seq of A. marina           82927               NaN   \n",
       "2  Leaf transcriptome from Avicennia marina           82927  FKRO210225575-1A   \n",
       "3                           Arumphiana_leaf         1238153              AL04   \n",
       "4           RNA-seq of Azorella atacamensis         1277843               NaN   \n",
       "\n",
       "  library_strategy  ...     biosample   bioproject  \\\n",
       "0          RNA-Seq  ...  SAMN15447991  PRJNA392014   \n",
       "1          RNA-Seq  ...  SAMN03654442  PRJNA283781   \n",
       "2          RNA-Seq  ...  SAMN32605810  PRJNA918785   \n",
       "3          RNA-Seq  ...  SAMN41662877  PRJNA797928   \n",
       "4          RNA-Seq  ...  SAMN01906725  PRJNA187540   \n",
       "\n",
       "                     instrument              instrument_model  \\\n",
       "0                   NextSeq 500                   NextSeq 500   \n",
       "1                   NextSeq 500                   NextSeq 500   \n",
       "2         Illumina NovaSeq 6000         Illumina NovaSeq 6000   \n",
       "3                    BGISEQ-500                    BGISEQ-500   \n",
       "4  Illumina Genome Analyzer IIx  Illumina Genome Analyzer IIx   \n",
       "\n",
       "  instrument_model_desc total_spots   total_size run_accession  \\\n",
       "0              ILLUMINA    54006517   6346122539   SRR12146026   \n",
       "1              ILLUMINA    37876026   2883978460    SRR2029733   \n",
       "2              ILLUMINA   133333541  12419487041   SRR22993527   \n",
       "3                BGISEQ     2365917    490760605   SRR29297605   \n",
       "4              ILLUMINA    20000000   2230394226     SRR653719   \n",
       "\n",
       "  run_total_spots run_total_bases  \n",
       "0        54006517     14987554557  \n",
       "1        37876026      5757155952  \n",
       "2       133333541     40000062300  \n",
       "3         2365917       695579598  \n",
       "4        20000000      3600000000  \n",
       "\n",
       "[5 rows x 25 columns]"
      ]
     },
     "execution_count": 5,
     "metadata": {},
     "output_type": "execute_result"
    }
   ],
   "source": [
    "final_df = pd.read_csv('/mnt/research/Walker_Lab_Research/Serena_project_data/selection-under-heat_data/sra_study_info/filtered_single_rep_studies_15Sep2025_manual_final_filtering.csv')\n",
    "final_df.head()"
   ]
  },
  {
   "cell_type": "markdown",
   "id": "003a7226-4571-4f6d-99ec-151c19d478d9",
   "metadata": {},
   "source": [
    "The below code prefetches and downloads the data; however, the download step is prohibitively slow to run interactively. I'm going to submit a job to finish the download; the code is left here for reference."
   ]
  },
  {
   "cell_type": "code",
   "execution_count": 8,
   "id": "b13922f2-3a1c-4179-8a5e-7f188450e379",
   "metadata": {},
   "outputs": [],
   "source": [
    "# runs_to_download = final_df.run_accession.tolist()\n",
    "\n",
    "# print('Prefetching...')\n",
    "# for sra_id in tqdm(runs_to_download):\n",
    "#     prefetch = \"prefetch \" + sra_id\n",
    "#     subprocess.call(prefetch, shell=True)\n",
    "\n",
    "# print('Downloading...')\n",
    "# for sra_id in tqdm(runs_to_download):\n",
    "#     fastq_dump = \"fastq-dump --outdir /mnt/research/Walker_Lab_Research/Serena_project_data/selection-under-heat_data/sra_downloads --gzip --skip-technical  --readids --read-filter pass --dumpbase --split-3 --clip /mnt/research/Walker_Lab_Research/Serena_project_data/selection-under-heat_data/sra_downloads/sra_prefetch/sra/\" + sra_id + \".sra\"\n",
    "#     subprocess.call(fastq_dump, shell=True)"
   ]
  }
 ],
 "metadata": {
  "kernelspec": {
   "display_name": "omics",
   "language": "python",
   "name": "omics"
  },
  "language_info": {
   "codemirror_mode": {
    "name": "ipython",
    "version": 3
   },
   "file_extension": ".py",
   "mimetype": "text/x-python",
   "name": "python",
   "nbconvert_exporter": "python",
   "pygments_lexer": "ipython3",
   "version": "3.10.14"
  }
 },
 "nbformat": 4,
 "nbformat_minor": 5
}
